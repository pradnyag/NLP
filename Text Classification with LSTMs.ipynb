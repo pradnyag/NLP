{
  "cells": [
    {
      "cell_type": "markdown",
      "metadata": {
        "id": "t_yvQBKrD8Se"
      },
      "source": [
        "# **ECS 7001 - NN & NNLP**\n",
        "\n",
        "## **Lab 2: LSTM for Text Classification**\n",
        "\n",
        "<br>\n",
        "\n",
        "**February 2nd and 3rd**\n",
        "\n",
        "In Lab 2, you trained word embeddings by casting the unsupervised learning problem as a binary classification problem (i.e. using the skip-gram model). This week, you will build an LSTM model to classify movie reviews as either positive or negative. After training, you will extract the word embeddings learned by the model.\n",
        "\n"
      ]
    },
    {
      "cell_type": "markdown",
      "metadata": {
        "id": "Ep2X91YdJpkG"
      },
      "source": [
        "### **0. Prepare the environment**\n",
        "\n",
        "Open Google Colab or activate the virtual environment you’ve created"
      ]
    },
    {
      "cell_type": "markdown",
      "metadata": {
        "id": "w6Pi5uvTLRCo"
      },
      "source": [
        "### **1. Getting the Dataset**\n",
        "\n",
        "You will be using the imdb dataset from Lab 0. This is a dataset of 25,000 movie reviews from IMDB, labeled by sentiment - positive (1) or negative (0). \n",
        "<br>\n",
        "\n",
        "The reviews have been preprocessed, and each review is encoded as a list of word indices. Last week, you assigned the indices to the word randomly (or in order of their first appearance in the corpus) but in this preprocessed corpus, the words are indexed by overall frequency in the dataset, such that a word with index 3 occurs more frequently than a word with index 10.\n",
        "<br>\n",
        "\n",
        "In the following blocks of code in this section, we will load and visualize the data.\n"
      ]
    },
    {
      "cell_type": "code",
      "execution_count": null,
      "metadata": {
        "id": "xn7sWMG-KoBV"
      },
      "outputs": [],
      "source": [
        "from tensorflow.keras import datasets\n",
        "\n",
        "imdb = datasets.imdb"
      ]
    },
    {
      "cell_type": "code",
      "execution_count": null,
      "metadata": {
        "id": "yCH0PmPcL83f"
      },
      "outputs": [],
      "source": [
        "%%capture\n",
        "\n",
        "# we'll use the most frequent 10000 words in the vocabulary\n",
        "VOCAB_SIZE = 10000\n",
        "\n",
        "# 0 is reserved for ‘<PAD>’, 1 for ‘<START>’ and 2 for ‘<UNK>’ i.e. words not in vocabulary\n",
        "# the documentation says index_from = 3 but actually uses the value as an offset. The words\n",
        "# in the dictionary are indexed from 1 by default so, saying index_from=3 means any actual\n",
        "# words would start from 4 (1+3) and index 3 will be left unused. We use index_from=offset=2 to avoid this\n",
        "# If you want to explore this further, you may look up the source_code for load_data here\n",
        "# https://github.com/tensorflow/tensorflow/blob/v2.4.1/tensorflow/python/keras/datasets/imdb.py#L31-L162\n",
        "OFFSET = 2\n",
        "\n",
        "# for more information on the load_data method, type(help(load_data))\n",
        "(train_data,train_labels),(test_data,test_labels) = imdb.load_data(num_words=VOCAB_SIZE, index_from=OFFSET)"
      ]
    },
    {
      "cell_type": "markdown",
      "metadata": {
        "id": "lVgaL5JIYBRm"
      },
      "source": [
        "***Sanity Check***\n",
        "\n",
        "Each instance in the training data is a list of word indices representing the words in a movie review.\n",
        "\n",
        "Each label is 1 if that review is positive, else 0."
      ]
    },
    {
      "cell_type": "code",
      "execution_count": null,
      "metadata": {
        "colab": {
          "base_uri": "https://localhost:8080/"
        },
        "id": "APFWiEejv9i5",
        "outputId": "58a514ef-75d7-40d1-a9b5-6bca7c92b8c3"
      },
      "outputs": [
        {
          "output_type": "stream",
          "name": "stdout",
          "text": [
            "Sample review: [1, 13, 21, 15, 42, 529, 972, 1621, 1384, 64, 457, 4467, 65, 3940, 3, 172, 35, 255, 4, 24, 99, 42, 837, 111, 49, 669, 2, 8, 34, 479, 283, 4, 149, 3, 171, 111, 166, 2, 335, 384, 38, 3, 171, 4535, 1110, 16, 545, 37, 12, 446, 3, 191, 49, 15, 5, 146, 2024, 18, 13, 21, 3, 1919, 4612, 468, 3, 21, 70, 86, 11, 15, 42, 529, 37, 75, 14, 12, 1246, 3, 21, 16, 514, 16, 11, 15, 625, 17, 2, 4, 61, 385, 11, 7, 315, 7, 105, 4, 3, 2222, 5243, 15, 479, 65, 3784, 32, 3, 129, 11, 15, 37, 618, 4, 24, 123, 50, 35, 134, 47, 24, 1414, 32, 5, 21, 11, 214, 27, 76, 51, 4, 13, 406, 15, 81, 2, 7, 3, 106, 116, 5951, 14, 255, 3, 2, 6, 3765, 4, 722, 35, 70, 42, 529, 475, 25, 399, 316, 45, 6, 3, 2, 1028, 12, 103, 87, 3, 380, 14, 296, 97, 31, 2070, 55, 25, 140, 5, 193, 7485, 17, 3, 225, 21, 20, 133, 475, 25, 479, 4, 143, 29, 5534, 17, 50, 35, 27, 223, 91, 24, 103, 3, 225, 64, 15, 37, 1333, 87, 11, 15, 282, 4, 15, 4471, 112, 102, 31, 14, 15, 5344, 18, 177, 31]\n"
          ]
        }
      ],
      "source": [
        "print('Sample review:', train_data[0])"
      ]
    },
    {
      "cell_type": "code",
      "execution_count": null,
      "metadata": {
        "colab": {
          "base_uri": "https://localhost:8080/"
        },
        "id": "CwgeiaF7n_lX",
        "outputId": "f400d328-97c7-4545-886a-811c244eac2d"
      },
      "outputs": [
        {
          "output_type": "stream",
          "name": "stdout",
          "text": [
            "\n",
            " Sample label: 1\n"
          ]
        }
      ],
      "source": [
        "print('\\n Sample label:', train_labels[0])"
      ]
    },
    {
      "cell_type": "markdown",
      "metadata": {
        "id": "4c14vElNvMGX"
      },
      "source": [
        "### **2. Readying the Inputs for the LSTM**\n",
        "\n",
        "The movie reviews are of different lengths. The standard way of dealing with varying length inputs is to ***pad*** or ***truncate*** each sentence to a fixed length (which we choose heuristically). \n",
        "\n",
        "Keras provides a way to do this.  In this section, you will use the keras.preprocessing.sequence method <pad_sequences> handle padding and truncating.\n",
        "\n",
        "**Hints**\n",
        "\n",
        "*  help(pad_sequences) will give you more information about how this works.\n",
        "*  You can experiment with 'pre' vs 'post' padding/truncating. In practice, 'pre' padding is more effective for our purposes; can you hypothesize about why this is?\n",
        "*  Since we have reserved 0 for \\<PAD\\>, your pad value should be set to 0.\n",
        "*  The maximum length has been specified below as MAX_LENGTH."
      ]
    },
    {
      "cell_type": "code",
      "execution_count": null,
      "metadata": {
        "id": "7XPwN_COagT9"
      },
      "outputs": [],
      "source": [
        "from keras.preprocessing.sequence import pad_sequences\n",
        "\n",
        "\n",
        "MAX_LENGHT = 500\n",
        "\n",
        "# YOUR CODE GOES HERE\n",
        "padded_train_data = pad_sequences(train_data,maxlen=MAX_LENGHT)\n",
        "padded_test_data = pad_sequences(test_data,maxlen=MAX_LENGHT)"
      ]
    },
    {
      "cell_type": "markdown",
      "metadata": {
        "id": "RhrUvhC2dO87"
      },
      "source": [
        "***Sanity Check***\n",
        "\n",
        "For the first training example, print its length and the padded sequence to see the effect of your padding process. \n",
        "\n",
        "PS: Pre-padding was used for the output you see below."
      ]
    },
    {
      "cell_type": "code",
      "execution_count": null,
      "metadata": {
        "colab": {
          "base_uri": "https://localhost:8080/"
        },
        "id": "DZb7keBfdKc_",
        "outputId": "cf8abcad-a461-46f5-927b-addb754f5244"
      },
      "outputs": [
        {
          "output_type": "stream",
          "name": "stdout",
          "text": [
            "Length of sample train_data before preprocessing: 218\n",
            "Length of sample train_data after preprocessing: 500\n",
            "Sample train data: [   0    0    0    0    0    0    0    0    0    0    0    0    0    0\n",
            "    0    0    0    0    0    0    0    0    0    0    0    0    0    0\n",
            "    0    0    0    0    0    0    0    0    0    0    0    0    0    0\n",
            "    0    0    0    0    0    0    0    0    0    0    0    0    0    0\n",
            "    0    0    0    0    0    0    0    0    0    0    0    0    0    0\n",
            "    0    0    0    0    0    0    0    0    0    0    0    0    0    0\n",
            "    0    0    0    0    0    0    0    0    0    0    0    0    0    0\n",
            "    0    0    0    0    0    0    0    0    0    0    0    0    0    0\n",
            "    0    0    0    0    0    0    0    0    0    0    0    0    0    0\n",
            "    0    0    0    0    0    0    0    0    0    0    0    0    0    0\n",
            "    0    0    0    0    0    0    0    0    0    0    0    0    0    0\n",
            "    0    0    0    0    0    0    0    0    0    0    0    0    0    0\n",
            "    0    0    0    0    0    0    0    0    0    0    0    0    0    0\n",
            "    0    0    0    0    0    0    0    0    0    0    0    0    0    0\n",
            "    0    0    0    0    0    0    0    0    0    0    0    0    0    0\n",
            "    0    0    0    0    0    0    0    0    0    0    0    0    0    0\n",
            "    0    0    0    0    0    0    0    0    0    0    0    0    0    0\n",
            "    0    0    0    0    0    0    0    0    0    0    0    0    0    0\n",
            "    0    0    0    0    0    0    0    0    0    0    0    0    0    0\n",
            "    0    0    0    0    0    0    0    0    0    0    0    0    0    0\n",
            "    0    0    1   13   21   15   42  529  972 1621 1384   64  457 4467\n",
            "   65 3940    3  172   35  255    4   24   99   42  837  111   49  669\n",
            "    2    8   34  479  283    4  149    3  171  111  166    2  335  384\n",
            "   38    3  171 4535 1110   16  545   37   12  446    3  191   49   15\n",
            "    5  146 2024   18   13   21    3 1919 4612  468    3   21   70   86\n",
            "   11   15   42  529   37   75   14   12 1246    3   21   16  514   16\n",
            "   11   15  625   17    2    4   61  385   11    7  315    7  105    4\n",
            "    3 2222 5243   15  479   65 3784   32    3  129   11   15   37  618\n",
            "    4   24  123   50   35  134   47   24 1414   32    5   21   11  214\n",
            "   27   76   51    4   13  406   15   81    2    7    3  106  116 5951\n",
            "   14  255    3    2    6 3765    4  722   35   70   42  529  475   25\n",
            "  399  316   45    6    3    2 1028   12  103   87    3  380   14  296\n",
            "   97   31 2070   55   25  140    5  193 7485   17    3  225   21   20\n",
            "  133  475   25  479    4  143   29 5534   17   50   35   27  223   91\n",
            "   24  103    3  225   64   15   37 1333   87   11   15  282    4   15\n",
            " 4471  112  102   31   14   15 5344   18  177   31]\n"
          ]
        }
      ],
      "source": [
        "print('Length of sample train_data before preprocessing:', len(train_data[0]))\n",
        "print('Length of sample train_data after preprocessing:', len(padded_train_data[0]))\n",
        "print('Sample train data:', padded_train_data[0])"
      ]
    },
    {
      "cell_type": "markdown",
      "metadata": {
        "id": "rghchHA66d-V"
      },
      "source": [
        "### **3. Building the Model**\n",
        "\n",
        "In this section, you will use the keras Model API to build a classification model.\n",
        "\n",
        "*   The first step is to tell the model what sort of input to expect using the keras \\<Input\\> layer \n",
        "*   The second step is to add an embedding layer like we did last week. \n",
        "This embedding layer creates a lookup table of the form {word:embedding} for each of the unique words in our corpus. Use EMBED_SIZE = 100 (i.e each word is represented by a 100D vector such that each movie review is 500 X 100 in dimension.  Don't forget to set mask_zero=True since we are using 0 index as out padding.\n",
        "*  The third step is to add an LSTM with 100 units. By leaving 'return_sequences' as False, the output of this model will be the output of the final time step of the LSTM. https://keras.io/api/layers/recurrent_layers/lstm/ \n",
        "*  The final layer of the model is a fully connected (Dense) layer. Can you figure out what activation function would be appropriate for this layer given the binary nature of the task?\n",
        "*  The model should be compiled with a 'binary_crossentropy' loss function, an 'adam' optimizer. We also want to visualize the model accuracy during training so the 'metrics' parameter of the compile method should be set to ['accuracy']."
      ]
    },
    {
      "cell_type": "code",
      "execution_count": null,
      "metadata": {
        "id": "L1EHilHl1l2m"
      },
      "outputs": [],
      "source": [
        "from keras.mixed_precision.loss_scale_optimizer import LossScaleOptimizer\n",
        "from keras.layers import Input, Embedding, Dense, LSTM\n",
        "from keras.models import Model\n",
        "\n",
        "EMBED_SIZE = 100\n",
        "# YOUR CODE GOES HERE\n",
        "\n",
        "# Input using the keras <Input> layer\n",
        "movie_review = Input((500,), dtype='int32')\n",
        "\n",
        "#Embedding layer\n",
        "context_embedding = Embedding(VOCAB_SIZE, EMBED_SIZE, mask_zero=True, name='context_embed_layer')(movie_review)\n",
        "                          \n",
        "#LSTM with 100 units\n",
        "lstm= LSTM(100, return_sequences=False)(context_embedding)\n",
        "\n",
        "#Dense Layer\n",
        "label= Dense(1, activation='sigmoid',kernel_initializer= 'glorot_uniform')(lstm)\n",
        "\n",
        "#Compiling Model\n",
        "model = Model(inputs=[movie_review], outputs=[label])  \n",
        "model.compile(loss=\"binary_crossentropy\", optimizer=\"adam\",metrics=\"accuracy\")\n",
        "                          "
      ]
    },
    {
      "cell_type": "markdown",
      "metadata": {
        "id": "6OMqaFQusbp-"
      },
      "source": [
        "***Sanity Check***\n",
        "\n",
        "Print the model summary and visualize it using vis_utils."
      ]
    },
    {
      "cell_type": "code",
      "execution_count": null,
      "metadata": {
        "colab": {
          "base_uri": "https://localhost:8080/"
        },
        "id": "PB7Gv4V6raWd",
        "outputId": "ccb8854a-fb03-4090-d40b-fc4636f165f6"
      },
      "outputs": [
        {
          "output_type": "stream",
          "name": "stdout",
          "text": [
            "Model: \"model\"\n",
            "_________________________________________________________________\n",
            " Layer (type)                Output Shape              Param #   \n",
            "=================================================================\n",
            " input_1 (InputLayer)        [(None, 500)]             0         \n",
            "                                                                 \n",
            " context_embed_layer (Embedd  (None, 500, 100)         1000000   \n",
            " ing)                                                            \n",
            "                                                                 \n",
            " lstm (LSTM)                 (None, 100)               80400     \n",
            "                                                                 \n",
            " dense (Dense)               (None, 1)                 101       \n",
            "                                                                 \n",
            "=================================================================\n",
            "Total params: 1,080,501\n",
            "Trainable params: 1,080,501\n",
            "Non-trainable params: 0\n",
            "_________________________________________________________________\n"
          ]
        }
      ],
      "source": [
        "model.summary()"
      ]
    },
    {
      "cell_type": "code",
      "execution_count": null,
      "metadata": {
        "colab": {
          "base_uri": "https://localhost:8080/",
          "height": 358
        },
        "id": "ZTq8GsWgsqCe",
        "outputId": "8b2a09d7-13e2-4b26-d740-e33b0367560b"
      },
      "outputs": [
        {
          "output_type": "execute_result",
          "data": {
            "text/plain": [
              "<IPython.core.display.SVG object>"
            ],
            "image/svg+xml": "<svg height=\"253pt\" viewBox=\"0.00 0.00 410.00 304.00\" width=\"342pt\" xmlns=\"http://www.w3.org/2000/svg\" xmlns:xlink=\"http://www.w3.org/1999/xlink\">\n<g class=\"graph\" id=\"graph0\" transform=\"scale(.8333 .8333) rotate(0) translate(4 300)\">\n<title>G</title>\n<polygon fill=\"#ffffff\" points=\"-4,4 -4,-300 406,-300 406,4 -4,4\" stroke=\"transparent\"/>\n<!-- 140462359449424 -->\n<g class=\"node\" id=\"node1\">\n<title>140462359449424</title>\n<polygon fill=\"none\" points=\"36,-249.5 36,-295.5 366,-295.5 366,-249.5 36,-249.5\" stroke=\"#000000\"/>\n<text fill=\"#000000\" font-family=\"Times,serif\" font-size=\"14.00\" text-anchor=\"middle\" x=\"76\" y=\"-280.3\">input_1</text>\n<polyline fill=\"none\" points=\"36,-272.5 116,-272.5 \" stroke=\"#000000\"/>\n<text fill=\"#000000\" font-family=\"Times,serif\" font-size=\"14.00\" text-anchor=\"middle\" x=\"76\" y=\"-257.3\">InputLayer</text>\n<polyline fill=\"none\" points=\"116,-249.5 116,-295.5 \" stroke=\"#000000\"/>\n<text fill=\"#000000\" font-family=\"Times,serif\" font-size=\"14.00\" text-anchor=\"middle\" x=\"145\" y=\"-280.3\">input:</text>\n<polyline fill=\"none\" points=\"116,-272.5 174,-272.5 \" stroke=\"#000000\"/>\n<text fill=\"#000000\" font-family=\"Times,serif\" font-size=\"14.00\" text-anchor=\"middle\" x=\"145\" y=\"-257.3\">output:</text>\n<polyline fill=\"none\" points=\"174,-249.5 174,-295.5 \" stroke=\"#000000\"/>\n<text fill=\"#000000\" font-family=\"Times,serif\" font-size=\"14.00\" text-anchor=\"middle\" x=\"222\" y=\"-268.8\">[(None, 500)]</text>\n<polyline fill=\"none\" points=\"270,-249.5 270,-295.5 \" stroke=\"#000000\"/>\n<text fill=\"#000000\" font-family=\"Times,serif\" font-size=\"14.00\" text-anchor=\"middle\" x=\"318\" y=\"-268.8\">[(None, 500)]</text>\n</g>\n<!-- 140462386383504 -->\n<g class=\"node\" id=\"node2\">\n<title>140462386383504</title>\n<polygon fill=\"none\" points=\"0,-166.5 0,-212.5 402,-212.5 402,-166.5 0,-166.5\" stroke=\"#000000\"/>\n<text fill=\"#000000\" font-family=\"Times,serif\" font-size=\"14.00\" text-anchor=\"middle\" x=\"70\" y=\"-197.3\">context_embed_layer</text>\n<polyline fill=\"none\" points=\"0,-189.5 140,-189.5 \" stroke=\"#000000\"/>\n<text fill=\"#000000\" font-family=\"Times,serif\" font-size=\"14.00\" text-anchor=\"middle\" x=\"70\" y=\"-174.3\">Embedding</text>\n<polyline fill=\"none\" points=\"140,-166.5 140,-212.5 \" stroke=\"#000000\"/>\n<text fill=\"#000000\" font-family=\"Times,serif\" font-size=\"14.00\" text-anchor=\"middle\" x=\"169\" y=\"-197.3\">input:</text>\n<polyline fill=\"none\" points=\"140,-189.5 198,-189.5 \" stroke=\"#000000\"/>\n<text fill=\"#000000\" font-family=\"Times,serif\" font-size=\"14.00\" text-anchor=\"middle\" x=\"169\" y=\"-174.3\">output:</text>\n<polyline fill=\"none\" points=\"198,-166.5 198,-212.5 \" stroke=\"#000000\"/>\n<text fill=\"#000000\" font-family=\"Times,serif\" font-size=\"14.00\" text-anchor=\"middle\" x=\"241.5\" y=\"-185.8\">(None, 500)</text>\n<polyline fill=\"none\" points=\"285,-166.5 285,-212.5 \" stroke=\"#000000\"/>\n<text fill=\"#000000\" font-family=\"Times,serif\" font-size=\"14.00\" text-anchor=\"middle\" x=\"343.5\" y=\"-185.8\">(None, 500, 100)</text>\n</g>\n<!-- 140462359449424&#45;&gt;140462386383504 -->\n<g class=\"edge\" id=\"edge1\">\n<title>140462359449424-&gt;140462386383504</title>\n<path d=\"M201,-249.3799C201,-241.1745 201,-231.7679 201,-222.8786\" fill=\"none\" stroke=\"#000000\"/>\n<polygon fill=\"#000000\" points=\"204.5001,-222.784 201,-212.784 197.5001,-222.784 204.5001,-222.784\" stroke=\"#000000\"/>\n</g>\n<!-- 140462210578256 -->\n<g class=\"node\" id=\"node3\">\n<title>140462210578256</title>\n<polygon fill=\"none\" points=\"42,-83.5 42,-129.5 360,-129.5 360,-83.5 42,-83.5\" stroke=\"#000000\"/>\n<text fill=\"#000000\" font-family=\"Times,serif\" font-size=\"14.00\" text-anchor=\"middle\" x=\"70\" y=\"-114.3\">lstm</text>\n<polyline fill=\"none\" points=\"42,-106.5 98,-106.5 \" stroke=\"#000000\"/>\n<text fill=\"#000000\" font-family=\"Times,serif\" font-size=\"14.00\" text-anchor=\"middle\" x=\"70\" y=\"-91.3\">LSTM</text>\n<polyline fill=\"none\" points=\"98,-83.5 98,-129.5 \" stroke=\"#000000\"/>\n<text fill=\"#000000\" font-family=\"Times,serif\" font-size=\"14.00\" text-anchor=\"middle\" x=\"127\" y=\"-114.3\">input:</text>\n<polyline fill=\"none\" points=\"98,-106.5 156,-106.5 \" stroke=\"#000000\"/>\n<text fill=\"#000000\" font-family=\"Times,serif\" font-size=\"14.00\" text-anchor=\"middle\" x=\"127\" y=\"-91.3\">output:</text>\n<polyline fill=\"none\" points=\"156,-83.5 156,-129.5 \" stroke=\"#000000\"/>\n<text fill=\"#000000\" font-family=\"Times,serif\" font-size=\"14.00\" text-anchor=\"middle\" x=\"214.5\" y=\"-102.8\">(None, 500, 100)</text>\n<polyline fill=\"none\" points=\"273,-83.5 273,-129.5 \" stroke=\"#000000\"/>\n<text fill=\"#000000\" font-family=\"Times,serif\" font-size=\"14.00\" text-anchor=\"middle\" x=\"316.5\" y=\"-102.8\">(None, 100)</text>\n</g>\n<!-- 140462386383504&#45;&gt;140462210578256 -->\n<g class=\"edge\" id=\"edge2\">\n<title>140462386383504-&gt;140462210578256</title>\n<path d=\"M201,-166.3799C201,-158.1745 201,-148.7679 201,-139.8786\" fill=\"none\" stroke=\"#000000\"/>\n<polygon fill=\"#000000\" points=\"204.5001,-139.784 201,-129.784 197.5001,-139.784 204.5001,-139.784\" stroke=\"#000000\"/>\n</g>\n<!-- 140462386111056 -->\n<g class=\"node\" id=\"node4\">\n<title>140462386111056</title>\n<polygon fill=\"none\" points=\"66.5,-.5 66.5,-46.5 335.5,-46.5 335.5,-.5 66.5,-.5\" stroke=\"#000000\"/>\n<text fill=\"#000000\" font-family=\"Times,serif\" font-size=\"14.00\" text-anchor=\"middle\" x=\"92.5\" y=\"-31.3\">dense</text>\n<polyline fill=\"none\" points=\"66.5,-23.5 118.5,-23.5 \" stroke=\"#000000\"/>\n<text fill=\"#000000\" font-family=\"Times,serif\" font-size=\"14.00\" text-anchor=\"middle\" x=\"92.5\" y=\"-8.3\">Dense</text>\n<polyline fill=\"none\" points=\"118.5,-.5 118.5,-46.5 \" stroke=\"#000000\"/>\n<text fill=\"#000000\" font-family=\"Times,serif\" font-size=\"14.00\" text-anchor=\"middle\" x=\"147.5\" y=\"-31.3\">input:</text>\n<polyline fill=\"none\" points=\"118.5,-23.5 176.5,-23.5 \" stroke=\"#000000\"/>\n<text fill=\"#000000\" font-family=\"Times,serif\" font-size=\"14.00\" text-anchor=\"middle\" x=\"147.5\" y=\"-8.3\">output:</text>\n<polyline fill=\"none\" points=\"176.5,-.5 176.5,-46.5 \" stroke=\"#000000\"/>\n<text fill=\"#000000\" font-family=\"Times,serif\" font-size=\"14.00\" text-anchor=\"middle\" x=\"220\" y=\"-19.8\">(None, 100)</text>\n<polyline fill=\"none\" points=\"263.5,-.5 263.5,-46.5 \" stroke=\"#000000\"/>\n<text fill=\"#000000\" font-family=\"Times,serif\" font-size=\"14.00\" text-anchor=\"middle\" x=\"299.5\" y=\"-19.8\">(None, 1)</text>\n</g>\n<!-- 140462210578256&#45;&gt;140462386111056 -->\n<g class=\"edge\" id=\"edge3\">\n<title>140462210578256-&gt;140462386111056</title>\n<path d=\"M201,-83.3799C201,-75.1745 201,-65.7679 201,-56.8786\" fill=\"none\" stroke=\"#000000\"/>\n<polygon fill=\"#000000\" points=\"204.5001,-56.784 201,-46.784 197.5001,-56.784 204.5001,-56.784\" stroke=\"#000000\"/>\n</g>\n</g>\n</svg>"
          },
          "metadata": {},
          "execution_count": 10
        }
      ],
      "source": [
        "from IPython.display import SVG\n",
        "from keras.utils import vis_utils\n",
        "SVG(vis_utils.model_to_dot(model, show_shapes=True, show_layer_names=True, dpi=60).create(prog='dot', format='svg'))  \n"
      ]
    },
    {
      "cell_type": "markdown",
      "metadata": {
        "id": "WXhJNdf9TIed"
      },
      "source": [
        "### **4. Training the Model**\n",
        "\n",
        "A model can memorize the training data (this is called 'overfitting' and when it does so, it's training accuracy can continue to go up but it's accuracy on previously unseen (i.e. non-training) examples can be very poor. To ensure that this doesn't happen, researchers often intermittently check the performance of a model being trained on a held back dataset called the ***validation dataset***. This way, 'early stopping' or 'random search' can be used to select the model that will generalize best to unseen data. \n",
        "<br>\n",
        "\n",
        "\n",
        "In this lab, you will just plot training accuracy against validation accuracy to monitor the progress of your model. And, using the plot, you will theorize about what the optimal stopping point for your model should have been.\n"
      ]
    },
    {
      "cell_type": "markdown",
      "metadata": {
        "id": "LFJtD1EgvPND"
      },
      "source": [
        "**Step 1: Getting a validation dataset**\n",
        "\n",
        "Before we begin training, you will split the padded training data into training and validation data. To avoid losing too much training data, use 2000 samples (i.e 8%) for validation and the other 23000 for training.\n",
        "\n",
        "We will do this using the sklearn train_test_split function. "
      ]
    },
    {
      "cell_type": "code",
      "execution_count": null,
      "metadata": {
        "id": "zqHSAlOev6kB"
      },
      "outputs": [],
      "source": [
        "from sklearn.model_selection import train_test_split\n",
        "\n",
        "train_x, validation_x, train_y, validation_y = train_test_split(padded_train_data, train_labels, test_size=0.08) "
      ]
    },
    {
      "cell_type": "markdown",
      "metadata": {
        "id": "xArEfNkX0DnN"
      },
      "source": [
        "Alternatively, we could have chosen to set validation_size=0.08 in our model.fit() function below instead of passing in a separate validation dataset."
      ]
    },
    {
      "cell_type": "markdown",
      "metadata": {
        "id": "3oXtkSBuyiWt"
      },
      "source": [
        "**Step 2: Training the model**\n",
        "\n",
        "We will use model.fit() to train the model. We will set our batch_size to 1000, which means the model will train int(23000/1000) batches each epoch. In other words, at each epoch the model will train 23 batches, each one consisting of 1000 movie reviews."
      ]
    },
    {
      "cell_type": "code",
      "execution_count": null,
      "metadata": {
        "colab": {
          "base_uri": "https://localhost:8080/"
        },
        "id": "Fgp3GWqiySHB",
        "outputId": "ba66dbdf-c47f-446d-e8d4-04f0e102a1e4"
      },
      "outputs": [
        {
          "output_type": "stream",
          "name": "stdout",
          "text": [
            "Epoch 1/6\n",
            "23/23 [==============================] - 224s 10s/step - loss: 0.6425 - accuracy: 0.6780 - val_loss: 0.6174 - val_accuracy: 0.6870\n",
            "Epoch 2/6\n",
            "23/23 [==============================] - 211s 9s/step - loss: 0.5158 - accuracy: 0.7762 - val_loss: 0.4453 - val_accuracy: 0.8240\n",
            "Epoch 3/6\n",
            "23/23 [==============================] - 210s 9s/step - loss: 0.3221 - accuracy: 0.8675 - val_loss: 0.2913 - val_accuracy: 0.8880\n",
            "Epoch 4/6\n",
            "23/23 [==============================] - 211s 9s/step - loss: 0.2315 - accuracy: 0.9126 - val_loss: 0.2804 - val_accuracy: 0.8905\n",
            "Epoch 5/6\n",
            "23/23 [==============================] - 212s 9s/step - loss: 0.1859 - accuracy: 0.9352 - val_loss: 0.2554 - val_accuracy: 0.9030\n",
            "Epoch 6/6\n",
            "23/23 [==============================] - 209s 9s/step - loss: 0.1459 - accuracy: 0.9521 - val_loss: 0.2612 - val_accuracy: 0.8990\n"
          ]
        }
      ],
      "source": [
        "history = model.fit(train_x, train_y, epochs=6, batch_size=1000, validation_data=(validation_x, validation_y))"
      ]
    },
    {
      "cell_type": "markdown",
      "metadata": {
        "id": "2OaWng6v835A"
      },
      "source": [
        "**Step 3: Visualize the model plot**"
      ]
    },
    {
      "cell_type": "code",
      "execution_count": null,
      "metadata": {
        "colab": {
          "base_uri": "https://localhost:8080/"
        },
        "id": "R6xASJOM897O",
        "outputId": "0d781740-5ab0-413f-ebb6-c600a03df908"
      },
      "outputs": [
        {
          "output_type": "stream",
          "name": "stdout",
          "text": [
            "Collecting plot_keras_history\n",
            "  Downloading plot_keras_history-1.1.30.tar.gz (8.6 kB)\n",
            "Requirement already satisfied: matplotlib in /usr/local/lib/python3.7/dist-packages (from plot_keras_history) (3.2.2)\n",
            "Requirement already satisfied: pandas in /usr/local/lib/python3.7/dist-packages (from plot_keras_history) (1.3.5)\n",
            "Requirement already satisfied: scipy in /usr/local/lib/python3.7/dist-packages (from plot_keras_history) (1.4.1)\n",
            "Collecting sanitize_ml_labels>=1.0.28\n",
            "  Downloading sanitize_ml_labels-1.0.29.tar.gz (7.4 kB)\n",
            "Collecting compress_json\n",
            "  Downloading compress_json-1.0.4.tar.gz (4.7 kB)\n",
            "Requirement already satisfied: kiwisolver>=1.0.1 in /usr/local/lib/python3.7/dist-packages (from matplotlib->plot_keras_history) (1.3.2)\n",
            "Requirement already satisfied: numpy>=1.11 in /usr/local/lib/python3.7/dist-packages (from matplotlib->plot_keras_history) (1.21.5)\n",
            "Requirement already satisfied: python-dateutil>=2.1 in /usr/local/lib/python3.7/dist-packages (from matplotlib->plot_keras_history) (2.8.2)\n",
            "Requirement already satisfied: pyparsing!=2.0.4,!=2.1.2,!=2.1.6,>=2.0.1 in /usr/local/lib/python3.7/dist-packages (from matplotlib->plot_keras_history) (3.0.7)\n",
            "Requirement already satisfied: cycler>=0.10 in /usr/local/lib/python3.7/dist-packages (from matplotlib->plot_keras_history) (0.11.0)\n",
            "Requirement already satisfied: six>=1.5 in /usr/local/lib/python3.7/dist-packages (from python-dateutil>=2.1->matplotlib->plot_keras_history) (1.15.0)\n",
            "Requirement already satisfied: pytz>=2017.3 in /usr/local/lib/python3.7/dist-packages (from pandas->plot_keras_history) (2018.9)\n",
            "Building wheels for collected packages: plot-keras-history, sanitize-ml-labels, compress-json\n",
            "  Building wheel for plot-keras-history (setup.py) ... \u001b[?25l\u001b[?25hdone\n",
            "  Created wheel for plot-keras-history: filename=plot_keras_history-1.1.30-py3-none-any.whl size=8794 sha256=b0cbd849debe3fa7913dcda71af562740f522cb4085615062ecbda0fc673df41\n",
            "  Stored in directory: /root/.cache/pip/wheels/b0/60/47/8c5aa37c06be5e97879ec467bc2e6a30b315d95f662c63a503\n",
            "  Building wheel for sanitize-ml-labels (setup.py) ... \u001b[?25l\u001b[?25hdone\n",
            "  Created wheel for sanitize-ml-labels: filename=sanitize_ml_labels-1.0.29-py3-none-any.whl size=7878 sha256=2b83250e0292451facc3df8f47f59b3e5e6e58cc839a81ba61f6e7fb9ae8a3c4\n",
            "  Stored in directory: /root/.cache/pip/wheels/c2/f5/71/d1c459da10abec864a1979b449edbf37d4a82ab3e38a3625a8\n",
            "  Building wheel for compress-json (setup.py) ... \u001b[?25l\u001b[?25hdone\n",
            "  Created wheel for compress-json: filename=compress_json-1.0.4-py3-none-any.whl size=4588 sha256=a890a609ebb972c715522c73eb15fb751e7d0c46ae3f4ab3160dba9adb7b61e3\n",
            "  Stored in directory: /root/.cache/pip/wheels/1e/ef/1e/5d403c5632b0462471a8d26049d0c138134d0255ec60ce4c14\n",
            "Successfully built plot-keras-history sanitize-ml-labels compress-json\n",
            "Installing collected packages: compress-json, sanitize-ml-labels, plot-keras-history\n",
            "Successfully installed compress-json-1.0.4 plot-keras-history-1.1.30 sanitize-ml-labels-1.0.29\n"
          ]
        }
      ],
      "source": [
        "pip install plot_keras_history"
      ]
    },
    {
      "cell_type": "code",
      "execution_count": null,
      "metadata": {
        "id": "0-Qq9lwGDHVl"
      },
      "outputs": [],
      "source": [
        "from plot_keras_history import plot_history\n",
        "import matplotlib.pyplot as plt"
      ]
    },
    {
      "cell_type": "code",
      "execution_count": null,
      "metadata": {
        "colab": {
          "base_uri": "https://localhost:8080/",
          "height": 385
        },
        "id": "6jS3_xzmDJmk",
        "outputId": "a01f64d2-6a12-4a5a-f811-30d8c6a8a73c"
      },
      "outputs": [
        {
          "output_type": "display_data",
          "data": {
            "text/plain": [
              "<Figure size 720x360 with 2 Axes>"
            ],
            "image/png": "[encoded data removed]"
          },
          "metadata": {
            "needs_background": "light"
          }
        }
      ],
      "source": [
        "plot_history(history.history, path=\"standard.png\")\n",
        "plt.show()"
      ]
    },
    {
      "cell_type": "markdown",
      "metadata": {
        "id": "8Xy45WzGCkFJ"
      },
      "source": [
        "**Based on the accuracy plot, what do you think the optimal stopping point for your model should\n",
        "have been?**"
      ]
    },
    {
      "cell_type": "markdown",
      "metadata": {
        "id": "uMQJAolZWVLx"
      },
      "source": [
        "### **5. Evaluating the Model on the Test Data**\n",
        "\n",
        "Evaluate the model on the padded test data using the code in the following cell block."
      ]
    },
    {
      "cell_type": "code",
      "execution_count": null,
      "metadata": {
        "colab": {
          "base_uri": "https://localhost:8080/"
        },
        "id": "fi0JmuY-Tlsp",
        "outputId": "f7093406-37ee-493d-de24-e1b9ddcd947f"
      },
      "outputs": [
        {
          "output_type": "stream",
          "name": "stdout",
          "text": [
            "782/782 [==============================] - 110s 139ms/step - loss: 0.3310 - accuracy: 0.8737\n",
            "test_loss: 0.3310084640979767 test_accuracy: 0.8737199902534485\n"
          ]
        }
      ],
      "source": [
        "# YOUR CODE TO EVALUATE THE MODEL ON TEST DATA GOES HERE\n",
        "results = model.evaluate(padded_test_data,test_labels)\n",
        "print('test_loss:', results[0], 'test_accuracy:', results[1])"
      ]
    },
    {
      "cell_type": "markdown",
      "metadata": {
        "id": "zbOcZD6igpxy"
      },
      "source": [
        "###**6. Extracting the Word Embeddings**\n",
        "\n",
        "Extract the word embeddings from the embedding layer model like we did in the last lab. \n",
        "\n",
        "**Hints**\n",
        "\n",
        "*  You can use model.get_layer(layer_name).get_weights()[0] or model.layers[layer_number].get_weights()[0].  The layer number indicates the order in which the layers were added to the model.\n",
        "\n",
        "*  If you didn't explicitly name your layers, you can check layer names and numbers about the order from model.summary() or by calling model.layers"
      ]
    },
    {
      "cell_type": "code",
      "execution_count": null,
      "metadata": {
        "colab": {
          "base_uri": "https://localhost:8080/"
        },
        "id": "dVG1le_LWBtq",
        "outputId": "9f93541f-fb0c-4954-f9f5-0ee3fe22cd62"
      },
      "outputs": [
        {
          "output_type": "stream",
          "name": "stdout",
          "text": [
            "Model: \"model\"\n",
            "_________________________________________________________________\n",
            " Layer (type)                Output Shape              Param #   \n",
            "=================================================================\n",
            " input_1 (InputLayer)        [(None, 500)]             0         \n",
            "                                                                 \n",
            " context_embed_layer (Embedd  (None, 500, 100)         1000000   \n",
            " ing)                                                            \n",
            "                                                                 \n",
            " lstm (LSTM)                 (None, 100)               80400     \n",
            "                                                                 \n",
            " dense (Dense)               (None, 1)                 101       \n",
            "                                                                 \n",
            "=================================================================\n",
            "Total params: 1,080,501\n",
            "Trainable params: 1,080,501\n",
            "Non-trainable params: 0\n",
            "_________________________________________________________________\n"
          ]
        }
      ],
      "source": [
        "# YOUR CODE GOES HERE\n",
        "\n",
        "word_embeddings = model.get_layer('context_embed_layer').get_weights()[0] \n",
        "\n",
        "model.summary()"
      ]
    },
    {
      "cell_type": "markdown",
      "metadata": {
        "id": "fXzDQ-7IE5Ou"
      },
      "source": [
        "***Sanity Check***\n",
        "\n",
        "Print the shape of the word embeddings using the line of code below. It should return (VOCAB_SIZE, EMBED_SIZE)"
      ]
    },
    {
      "cell_type": "code",
      "execution_count": null,
      "metadata": {
        "colab": {
          "base_uri": "https://localhost:8080/"
        },
        "id": "swJFPaX_E4f0",
        "outputId": "2321b7c7-dd14-44ca-8dbb-d0d418fe8bac"
      },
      "outputs": [
        {
          "output_type": "stream",
          "name": "stdout",
          "text": [
            "Shape of word_embeddings: (10000, 100)\n"
          ]
        }
      ],
      "source": [
        "print('Shape of word_embeddings:', word_embeddings.shape)"
      ]
    },
    {
      "cell_type": "markdown",
      "metadata": {
        "id": "Bwz_8kTZ6UVF"
      },
      "source": [
        "###**7. Visualizing the Reviews**\n",
        "\n",
        "In this section, we will view the effects of padding the dataset. \n",
        "\n",
        "As mentioned before, Keras already preprocessed the corpus. In this preprocessed corpus, all the words have already been mapped to indices and were assigned these numbers in order of their frequency such that index 2 is the 2nd most frequent word in the dataset, and so on. However, when we loaded our training dataset, we reserved the first 3 indices - 0, 1, 2 - for \\<PAD\\>, \\<START\\> and \\<UNK\\>. Additionally, we limited our vocabulary to only the top 10000 most frequent words (9997 if you exclude the padding). We will now visualize what a movie review will look like with these changes\n",
        "\n"
      ]
    },
    {
      "cell_type": "markdown",
      "metadata": {
        "id": "lOmorAwXGZS9"
      },
      "source": [
        "\n",
        "**Step 1: Create a word2idx dictionary**\n",
        "\n",
        "Create the word2idx dictionary using the following lines of code."
      ]
    },
    {
      "cell_type": "code",
      "execution_count": null,
      "metadata": {
        "colab": {
          "base_uri": "https://localhost:8080/"
        },
        "id": "AtU7lOD6GYtB",
        "outputId": "9e8a0bc0-05b9-4e00-9a43-fdcef9eb69ad"
      },
      "outputs": [
        {
          "output_type": "stream",
          "name": "stdout",
          "text": [
            "Downloading data from https://storage.googleapis.com/tensorflow/tf-keras-datasets/imdb_word_index.json\n",
            "1646592/1641221 [==============================] - 0s 0us/step\n",
            "1654784/1641221 [==============================] - 0s 0us/step\n"
          ]
        }
      ],
      "source": [
        "# in this dictionary, the words start from 1, 0 is reserved for padding but \n",
        "# <start> and <unknown> are not accounted for.\n",
        "word_indices = imdb.get_word_index()\n",
        "\n",
        "# so we shift each original word two places to make room for the two new tokens\n",
        "offset = 2\n",
        "word2idx = {k:(v+offset) for k,v in word_indices.items() if v < 9998}\n",
        "word2idx[\"<PAD>\"] = 0\n",
        "word2idx[\"<START>\"] = 1\n",
        "word2idx[\"<UNK>\"] = 2"
      ]
    },
    {
      "cell_type": "markdown",
      "metadata": {
        "id": "H3oZeE74HCvL"
      },
      "source": [
        "\n",
        "**Step 2: Create a the idx2word dictionary**"
      ]
    },
    {
      "cell_type": "code",
      "execution_count": null,
      "metadata": {
        "id": "F0sWRDRIHIzp"
      },
      "outputs": [],
      "source": [
        "# YOUR CODE GOES HERE\n",
        "idx2word= {word2idx[k]:k for k in word2idx}"
      ]
    },
    {
      "cell_type": "markdown",
      "metadata": {
        "id": "p7aGrCU1HTN0"
      },
      "source": [
        "\n",
        "**Step 3: Visualize sample review**\n",
        "\n",
        "View a sample review text using the lines of code below:"
      ]
    },
    {
      "cell_type": "code",
      "execution_count": null,
      "metadata": {
        "colab": {
          "base_uri": "https://localhost:8080/"
        },
        "id": "TgRbMGG3G8jb",
        "outputId": "49d7bba2-a1ec-4820-8848-2cd4979d0aaa"
      },
      "outputs": [
        {
          "output_type": "stream",
          "name": "stdout",
          "text": [
            "<START> this film was just brilliant casting location scenery story direction everyone's really suited the part they played and you could just imagine being there robert <UNK> is an amazing actor and now the same being director <UNK> father came from the same scottish island as myself so i loved the fact there was a real connection with this film the witty remarks throughout the film were great it was just brilliant so much that i bought the film as soon as it was released for <UNK> and would recommend it to everyone to watch and the fly fishing was amazing really cried at the end it was so sad and you know what they say if you cry at a film it must have been good and this definitely was also <UNK> to the two little boy's that played the <UNK> of norman and paul they were just brilliant children are often left out of the <UNK> list i think because the stars that play them all grown up are such a big profile for the whole film but these children are amazing and should be praised for what they have done don't you think the whole story was so lovely because it was true and was someone's life after all that was shared with us all\n"
          ]
        }
      ],
      "source": [
        "print(' '.join(idx2word[idx] for idx in train_data[0]))"
      ]
    },
    {
      "cell_type": "markdown",
      "metadata": {
        "id": "TFs4QSdFJrWL"
      },
      "source": [
        "###**8. Visualizing the Word_Embeddings**\n",
        "\n",
        "Visualize the word embeddings for 10 of the words using pandas DataFrame like we did in lab 3"
      ]
    },
    {
      "cell_type": "code",
      "execution_count": null,
      "metadata": {
        "colab": {
          "base_uri": "https://localhost:8080/"
        },
        "id": "2IBvttx-J9re",
        "outputId": "6a75f8b3-60a9-43fe-c20d-288d7c3a07af"
      },
      "outputs": [
        {
          "output_type": "stream",
          "name": "stdout",
          "text": [
            "                 0         1         2         3         4         5   \\\n",
            "woods     -0.013183 -0.045519  0.020698 -0.022631  0.012782 -0.013455   \n",
            "hanging   -0.042791  0.019668  0.045211 -0.004245  0.040820 -0.036040   \n",
            "woody     -0.037363  0.043561 -0.006981 -0.018402  0.033228  0.002448   \n",
            "arranged   0.004256  0.029528  0.044793 -0.009898  0.009250  0.000940   \n",
            "bringing   0.042002 -0.027467 -0.004022 -0.038708 -0.015673  0.031897   \n",
            "wooden     0.043873  0.018565 -0.002051 -0.035873  0.029962 -0.025302   \n",
            "errors    -0.039945 -0.031261 -0.027598 -0.000705  0.003198 -0.045528   \n",
            "dialogs   -0.006216 -0.016535 -0.026408 -0.027139  0.013095 -0.037624   \n",
            "kids       0.002926 -0.004675 -0.020305 -0.039825  0.014735 -0.018779   \n",
            "uplifting  0.029357  0.036378  0.023556  0.046631  0.003916  0.030996   \n",
            "\n",
            "                 6         7         8         9   ...        90        91  \\\n",
            "woods     -0.026418 -0.006494  0.043103 -0.010441  ... -0.029835 -0.040933   \n",
            "hanging   -0.015827  0.042325  0.000113 -0.027295  ...  0.002836 -0.049507   \n",
            "woody     -0.014579  0.008730  0.039184 -0.016457  ... -0.021697 -0.025629   \n",
            "arranged  -0.021253 -0.023459  0.002285 -0.035861  ... -0.013407 -0.035859   \n",
            "bringing  -0.048716 -0.018726  0.012316  0.030440  ...  0.047301 -0.054785   \n",
            "wooden    -0.019305 -0.001457  0.011901  0.016253  ... -0.031080  0.020823   \n",
            "errors    -0.038398  0.009591 -0.030469 -0.017482  ...  0.033519 -0.053711   \n",
            "dialogs    0.039483  0.034775 -0.003564  0.043999  ... -0.003757  0.015388   \n",
            "kids      -0.018615 -0.001691 -0.049356 -0.008686  ...  0.046282 -0.053612   \n",
            "uplifting -0.027931 -0.033851  0.040806  0.001161  ...  0.017234  0.020836   \n",
            "\n",
            "                 92        93        94        95        96        97  \\\n",
            "woods      0.021573  0.040394  0.026242  0.011989  0.029663 -0.036930   \n",
            "hanging    0.038636 -0.039645  0.007065 -0.032141  0.030232  0.034716   \n",
            "woody     -0.016035 -0.014465 -0.003590 -0.033936 -0.007395 -0.045843   \n",
            "arranged  -0.003256 -0.027767  0.050238  0.023129 -0.003148 -0.001943   \n",
            "bringing   0.004761  0.043199 -0.049679 -0.032473  0.030033  0.030693   \n",
            "wooden     0.010324  0.010166  0.000719 -0.020480  0.034424  0.045678   \n",
            "errors     0.034734 -0.001812 -0.048043 -0.041995  0.013754  0.001339   \n",
            "dialogs   -0.030872 -0.004105  0.022734  0.007510 -0.018892 -0.003360   \n",
            "kids      -0.025654  0.009273  0.004718 -0.045756  0.037464 -0.036255   \n",
            "uplifting  0.011032  0.032843 -0.004431  0.043317  0.008791 -0.038693   \n",
            "\n",
            "                 98        99  \n",
            "woods      0.036397 -0.032384  \n",
            "hanging   -0.008687 -0.039754  \n",
            "woody     -0.007891 -0.033008  \n",
            "arranged  -0.025773 -0.007450  \n",
            "bringing  -0.042123  0.032800  \n",
            "wooden     0.012920 -0.002372  \n",
            "errors    -0.045132  0.022910  \n",
            "dialogs   -0.045450  0.029513  \n",
            "kids      -0.027283  0.023654  \n",
            "uplifting -0.005353 -0.051635  \n",
            "\n",
            "[10 rows x 100 columns]\n"
          ]
        }
      ],
      "source": [
        "# YOUR CODE GOES HERE\n",
        "from pandas import DataFrame\n",
        "\n",
        "print(DataFrame(word_embeddings, index=idx2word.values()).head(10))\n",
        "\n"
      ]
    },
    {
      "cell_type": "markdown",
      "metadata": {
        "id": "k0fyfgvB90G5"
      },
      "source": [
        "###**9. Plot your Word Embeddings using t-SNE**\n"
      ]
    },
    {
      "cell_type": "code",
      "execution_count": null,
      "metadata": {
        "colab": {
          "base_uri": "https://localhost:8080/",
          "height": 571
        },
        "id": "JRPHIYEgGXRh",
        "outputId": "502e28a6-57b0-4b93-c7ca-af0ba9e9e0b8"
      },
      "outputs": [
        {
          "output_type": "stream",
          "name": "stderr",
          "text": [
            "/usr/local/lib/python3.7/dist-packages/sklearn/manifold/_t_sne.py:793: FutureWarning: The default learning rate in TSNE will change from 200.0 to 'auto' in 1.2.\n",
            "  FutureWarning,\n",
            "/usr/local/lib/python3.7/dist-packages/sklearn/manifold/_t_sne.py:986: FutureWarning: The PCA initialization in TSNE will change to have the standard deviation of PC1 equal to 1e-4 in 1.2. This will ensure better convergence.\n",
            "  FutureWarning,\n"
          ]
        },
        {
          "output_type": "display_data",
          "data": {
            "text/plain": [
              "<Figure size 1008x576 with 1 Axes>"
            ],
            "image/png": "[encoded data removed]"
          },
          "metadata": {
            "needs_background": "light"
          }
        }
      ],
      "source": [
        "from sklearn.manifold import TSNE\n",
        "import matplotlib.pyplot as plt\n",
        "import numpy as np\n",
        "\n",
        "tsne = TSNE(perplexity=3, n_components=2, init='pca', n_iter=5000, method='exact')\n",
        "np.set_printoptions(suppress=True)\n",
        "plot_only = 50\n",
        "\n",
        "# don't plot the special tokens\n",
        "start = 3\n",
        "T = tsne.fit_transform(word_embeddings[start:plot_only, :])\n",
        "labels = [idx2word[i] for i in range(start, plot_only)]\n",
        "plt.figure(figsize=(14, 8))\n",
        "plt.scatter(T[:, 0], T[:, 1])\n",
        "for label, x, y in zip(labels, T[:, 0], T[:, 1]):\n",
        "    plt.annotate(label, xy=(x+1, y+1), xytext=(0, 0), textcoords='offset points', ha='right', va='bottom')                      \t                        \n"
      ]
    },
    {
      "cell_type": "markdown",
      "metadata": {
        "id": "sHdy4PDVO8TN"
      },
      "source": [
        "###**10. Questions**\n",
        "\n",
        "1. Create a new model that is a copy of the model step 3. To this new model,add two dropout layers, one between the embedding layer and the LSTM layer and another between the LSTM layer and the output layer. Repeat steps 4 and 5 for this model. What do you observe?\n",
        "\n",
        "2. Experiment with training the model with batch sizes of 1, 32, len(training_data). What do you observe?\n",
        "\n",
        "3. (optional) Can you retrain with a Bidirectional LSTM instead of an LSTM? What do you observe about the Bi-LSTM model?\n"
      ]
    },
    {
      "cell_type": "markdown",
      "metadata": {
        "id": "-jrTaev2crV-"
      },
      "source": [
        "1. Create a new model that is a copy of the model step 3. To this new model,add two dropout layers, one between the embedding layer and the LSTM layer and another between the LSTM layer and the output layer. Repeat steps 4 and 5 for this model. What do you observe?"
      ]
    },
    {
      "cell_type": "code",
      "execution_count": null,
      "metadata": {
        "id": "dxvb_lmHZ0Qm"
      },
      "outputs": [],
      "source": [
        "from keras.mixed_precision.loss_scale_optimizer import LossScaleOptimizer\n",
        "from keras.layers import Input, Embedding, Dense, LSTM ,Dropout\n",
        "from keras.models import Model\n",
        "\n",
        "EMBED_SIZE = 100\n",
        "# YOUR CODE GOES HERE\n",
        "\n",
        "# Input using the keras <Input> layer\n",
        "movie_review = Input((500,), dtype='int32')\n",
        "\n",
        "#Embedding layer\n",
        "context_embedding = Embedding(VOCAB_SIZE, EMBED_SIZE, name='context_embed_layer',mask_zero=True)(movie_review)\n",
        "\n",
        "#First Dropout layer\n",
        "dropout_1 = Dropout(0.2)(context_embedding)\n",
        "\n",
        "#LSTM with 100 units\n",
        "lstm= LSTM(100, return_sequences=False)(dropout_1)\n",
        "\n",
        "#Second Dropout layer\n",
        "dropout_2 = Dropout(0.2)(lstm)\n",
        "\n",
        "#Dense Layer\n",
        "label= Dense(1, activation='sigmoid',kernel_initializer= 'glorot_uniform')(dropout_2)\n",
        "\n",
        "#Compiling Model\n",
        "model = Model(inputs=[movie_review], outputs=[label])  \n",
        "model.compile(loss=\"binary_crossentropy\", optimizer=\"adam\",metrics=\"accuracy\")\n",
        "\n",
        "                          "
      ]
    },
    {
      "cell_type": "code",
      "execution_count": null,
      "metadata": {
        "colab": {
          "base_uri": "https://localhost:8080/",
          "height": 544
        },
        "id": "u6wjYK9XgqzG",
        "outputId": "6d07156d-6267-49cb-ef0e-1fc385a10826"
      },
      "outputs": [
        {
          "output_type": "execute_result",
          "data": {
            "text/plain": [
              "<IPython.core.display.SVG object>"
            ],
            "image/svg+xml": "<svg height=\"392pt\" viewBox=\"0.00 0.00 410.00 470.00\" width=\"342pt\" xmlns=\"http://www.w3.org/2000/svg\" xmlns:xlink=\"http://www.w3.org/1999/xlink\">\n<g class=\"graph\" id=\"graph0\" transform=\"scale(.8333 .8333) rotate(0) translate(4 466)\">\n<title>G</title>\n<polygon fill=\"#ffffff\" points=\"-4,4 -4,-466 406,-466 406,4 -4,4\" stroke=\"transparent\"/>\n<!-- 140462265063760 -->\n<g class=\"node\" id=\"node1\">\n<title>140462265063760</title>\n<polygon fill=\"none\" points=\"36,-415.5 36,-461.5 366,-461.5 366,-415.5 36,-415.5\" stroke=\"#000000\"/>\n<text fill=\"#000000\" font-family=\"Times,serif\" font-size=\"14.00\" text-anchor=\"middle\" x=\"76\" y=\"-446.3\">input_2</text>\n<polyline fill=\"none\" points=\"36,-438.5 116,-438.5 \" stroke=\"#000000\"/>\n<text fill=\"#000000\" font-family=\"Times,serif\" font-size=\"14.00\" text-anchor=\"middle\" x=\"76\" y=\"-423.3\">InputLayer</text>\n<polyline fill=\"none\" points=\"116,-415.5 116,-461.5 \" stroke=\"#000000\"/>\n<text fill=\"#000000\" font-family=\"Times,serif\" font-size=\"14.00\" text-anchor=\"middle\" x=\"145\" y=\"-446.3\">input:</text>\n<polyline fill=\"none\" points=\"116,-438.5 174,-438.5 \" stroke=\"#000000\"/>\n<text fill=\"#000000\" font-family=\"Times,serif\" font-size=\"14.00\" text-anchor=\"middle\" x=\"145\" y=\"-423.3\">output:</text>\n<polyline fill=\"none\" points=\"174,-415.5 174,-461.5 \" stroke=\"#000000\"/>\n<text fill=\"#000000\" font-family=\"Times,serif\" font-size=\"14.00\" text-anchor=\"middle\" x=\"222\" y=\"-434.8\">[(None, 500)]</text>\n<polyline fill=\"none\" points=\"270,-415.5 270,-461.5 \" stroke=\"#000000\"/>\n<text fill=\"#000000\" font-family=\"Times,serif\" font-size=\"14.00\" text-anchor=\"middle\" x=\"318\" y=\"-434.8\">[(None, 500)]</text>\n</g>\n<!-- 140462265064912 -->\n<g class=\"node\" id=\"node2\">\n<title>140462265064912</title>\n<polygon fill=\"none\" points=\"0,-332.5 0,-378.5 402,-378.5 402,-332.5 0,-332.5\" stroke=\"#000000\"/>\n<text fill=\"#000000\" font-family=\"Times,serif\" font-size=\"14.00\" text-anchor=\"middle\" x=\"70\" y=\"-363.3\">context_embed_layer</text>\n<polyline fill=\"none\" points=\"0,-355.5 140,-355.5 \" stroke=\"#000000\"/>\n<text fill=\"#000000\" font-family=\"Times,serif\" font-size=\"14.00\" text-anchor=\"middle\" x=\"70\" y=\"-340.3\">Embedding</text>\n<polyline fill=\"none\" points=\"140,-332.5 140,-378.5 \" stroke=\"#000000\"/>\n<text fill=\"#000000\" font-family=\"Times,serif\" font-size=\"14.00\" text-anchor=\"middle\" x=\"169\" y=\"-363.3\">input:</text>\n<polyline fill=\"none\" points=\"140,-355.5 198,-355.5 \" stroke=\"#000000\"/>\n<text fill=\"#000000\" font-family=\"Times,serif\" font-size=\"14.00\" text-anchor=\"middle\" x=\"169\" y=\"-340.3\">output:</text>\n<polyline fill=\"none\" points=\"198,-332.5 198,-378.5 \" stroke=\"#000000\"/>\n<text fill=\"#000000\" font-family=\"Times,serif\" font-size=\"14.00\" text-anchor=\"middle\" x=\"241.5\" y=\"-351.8\">(None, 500)</text>\n<polyline fill=\"none\" points=\"285,-332.5 285,-378.5 \" stroke=\"#000000\"/>\n<text fill=\"#000000\" font-family=\"Times,serif\" font-size=\"14.00\" text-anchor=\"middle\" x=\"343.5\" y=\"-351.8\">(None, 500, 100)</text>\n</g>\n<!-- 140462265063760&#45;&gt;140462265064912 -->\n<g class=\"edge\" id=\"edge1\">\n<title>140462265063760-&gt;140462265064912</title>\n<path d=\"M201,-415.3799C201,-407.1745 201,-397.7679 201,-388.8786\" fill=\"none\" stroke=\"#000000\"/>\n<polygon fill=\"#000000\" points=\"204.5001,-388.784 201,-378.784 197.5001,-388.784 204.5001,-388.784\" stroke=\"#000000\"/>\n</g>\n<!-- 140462265065040 -->\n<g class=\"node\" id=\"node3\">\n<title>140462265065040</title>\n<polygon fill=\"none\" points=\"22.5,-249.5 22.5,-295.5 379.5,-295.5 379.5,-249.5 22.5,-249.5\" stroke=\"#000000\"/>\n<text fill=\"#000000\" font-family=\"Times,serif\" font-size=\"14.00\" text-anchor=\"middle\" x=\"55\" y=\"-280.3\">dropout</text>\n<polyline fill=\"none\" points=\"22.5,-272.5 87.5,-272.5 \" stroke=\"#000000\"/>\n<text fill=\"#000000\" font-family=\"Times,serif\" font-size=\"14.00\" text-anchor=\"middle\" x=\"55\" y=\"-257.3\">Dropout</text>\n<polyline fill=\"none\" points=\"87.5,-249.5 87.5,-295.5 \" stroke=\"#000000\"/>\n<text fill=\"#000000\" font-family=\"Times,serif\" font-size=\"14.00\" text-anchor=\"middle\" x=\"116.5\" y=\"-280.3\">input:</text>\n<polyline fill=\"none\" points=\"87.5,-272.5 145.5,-272.5 \" stroke=\"#000000\"/>\n<text fill=\"#000000\" font-family=\"Times,serif\" font-size=\"14.00\" text-anchor=\"middle\" x=\"116.5\" y=\"-257.3\">output:</text>\n<polyline fill=\"none\" points=\"145.5,-249.5 145.5,-295.5 \" stroke=\"#000000\"/>\n<text fill=\"#000000\" font-family=\"Times,serif\" font-size=\"14.00\" text-anchor=\"middle\" x=\"204\" y=\"-268.8\">(None, 500, 100)</text>\n<polyline fill=\"none\" points=\"262.5,-249.5 262.5,-295.5 \" stroke=\"#000000\"/>\n<text fill=\"#000000\" font-family=\"Times,serif\" font-size=\"14.00\" text-anchor=\"middle\" x=\"321\" y=\"-268.8\">(None, 500, 100)</text>\n</g>\n<!-- 140462265064912&#45;&gt;140462265065040 -->\n<g class=\"edge\" id=\"edge2\">\n<title>140462265064912-&gt;140462265065040</title>\n<path d=\"M201,-332.3799C201,-324.1745 201,-314.7679 201,-305.8786\" fill=\"none\" stroke=\"#000000\"/>\n<polygon fill=\"#000000\" points=\"204.5001,-305.784 201,-295.784 197.5001,-305.784 204.5001,-305.784\" stroke=\"#000000\"/>\n</g>\n<!-- 140462265063504 -->\n<g class=\"node\" id=\"node4\">\n<title>140462265063504</title>\n<polygon fill=\"none\" points=\"42,-166.5 42,-212.5 360,-212.5 360,-166.5 42,-166.5\" stroke=\"#000000\"/>\n<text fill=\"#000000\" font-family=\"Times,serif\" font-size=\"14.00\" text-anchor=\"middle\" x=\"70\" y=\"-197.3\">lstm_1</text>\n<polyline fill=\"none\" points=\"42,-189.5 98,-189.5 \" stroke=\"#000000\"/>\n<text fill=\"#000000\" font-family=\"Times,serif\" font-size=\"14.00\" text-anchor=\"middle\" x=\"70\" y=\"-174.3\">LSTM</text>\n<polyline fill=\"none\" points=\"98,-166.5 98,-212.5 \" stroke=\"#000000\"/>\n<text fill=\"#000000\" font-family=\"Times,serif\" font-size=\"14.00\" text-anchor=\"middle\" x=\"127\" y=\"-197.3\">input:</text>\n<polyline fill=\"none\" points=\"98,-189.5 156,-189.5 \" stroke=\"#000000\"/>\n<text fill=\"#000000\" font-family=\"Times,serif\" font-size=\"14.00\" text-anchor=\"middle\" x=\"127\" y=\"-174.3\">output:</text>\n<polyline fill=\"none\" points=\"156,-166.5 156,-212.5 \" stroke=\"#000000\"/>\n<text fill=\"#000000\" font-family=\"Times,serif\" font-size=\"14.00\" text-anchor=\"middle\" x=\"214.5\" y=\"-185.8\">(None, 500, 100)</text>\n<polyline fill=\"none\" points=\"273,-166.5 273,-212.5 \" stroke=\"#000000\"/>\n<text fill=\"#000000\" font-family=\"Times,serif\" font-size=\"14.00\" text-anchor=\"middle\" x=\"316.5\" y=\"-185.8\">(None, 100)</text>\n</g>\n<!-- 140462265065040&#45;&gt;140462265063504 -->\n<g class=\"edge\" id=\"edge3\">\n<title>140462265065040-&gt;140462265063504</title>\n<path d=\"M201,-249.3799C201,-241.1745 201,-231.7679 201,-222.8786\" fill=\"none\" stroke=\"#000000\"/>\n<polygon fill=\"#000000\" points=\"204.5001,-222.784 201,-212.784 197.5001,-222.784 204.5001,-222.784\" stroke=\"#000000\"/>\n</g>\n<!-- 140462265071632 -->\n<g class=\"node\" id=\"node5\">\n<title>140462265071632</title>\n<polygon fill=\"none\" points=\"46.5,-83.5 46.5,-129.5 355.5,-129.5 355.5,-83.5 46.5,-83.5\" stroke=\"#000000\"/>\n<text fill=\"#000000\" font-family=\"Times,serif\" font-size=\"14.00\" text-anchor=\"middle\" x=\"85\" y=\"-114.3\">dropout_1</text>\n<polyline fill=\"none\" points=\"46.5,-106.5 123.5,-106.5 \" stroke=\"#000000\"/>\n<text fill=\"#000000\" font-family=\"Times,serif\" font-size=\"14.00\" text-anchor=\"middle\" x=\"85\" y=\"-91.3\">Dropout</text>\n<polyline fill=\"none\" points=\"123.5,-83.5 123.5,-129.5 \" stroke=\"#000000\"/>\n<text fill=\"#000000\" font-family=\"Times,serif\" font-size=\"14.00\" text-anchor=\"middle\" x=\"152.5\" y=\"-114.3\">input:</text>\n<polyline fill=\"none\" points=\"123.5,-106.5 181.5,-106.5 \" stroke=\"#000000\"/>\n<text fill=\"#000000\" font-family=\"Times,serif\" font-size=\"14.00\" text-anchor=\"middle\" x=\"152.5\" y=\"-91.3\">output:</text>\n<polyline fill=\"none\" points=\"181.5,-83.5 181.5,-129.5 \" stroke=\"#000000\"/>\n<text fill=\"#000000\" font-family=\"Times,serif\" font-size=\"14.00\" text-anchor=\"middle\" x=\"225\" y=\"-102.8\">(None, 100)</text>\n<polyline fill=\"none\" points=\"268.5,-83.5 268.5,-129.5 \" stroke=\"#000000\"/>\n<text fill=\"#000000\" font-family=\"Times,serif\" font-size=\"14.00\" text-anchor=\"middle\" x=\"312\" y=\"-102.8\">(None, 100)</text>\n</g>\n<!-- 140462265063504&#45;&gt;140462265071632 -->\n<g class=\"edge\" id=\"edge4\">\n<title>140462265063504-&gt;140462265071632</title>\n<path d=\"M201,-166.3799C201,-158.1745 201,-148.7679 201,-139.8786\" fill=\"none\" stroke=\"#000000\"/>\n<polygon fill=\"#000000\" points=\"204.5001,-139.784 201,-129.784 197.5001,-139.784 204.5001,-139.784\" stroke=\"#000000\"/>\n</g>\n<!-- 140462265554384 -->\n<g class=\"node\" id=\"node6\">\n<title>140462265554384</title>\n<polygon fill=\"none\" points=\"60.5,-.5 60.5,-46.5 341.5,-46.5 341.5,-.5 60.5,-.5\" stroke=\"#000000\"/>\n<text fill=\"#000000\" font-family=\"Times,serif\" font-size=\"14.00\" text-anchor=\"middle\" x=\"92.5\" y=\"-31.3\">dense_1</text>\n<polyline fill=\"none\" points=\"60.5,-23.5 124.5,-23.5 \" stroke=\"#000000\"/>\n<text fill=\"#000000\" font-family=\"Times,serif\" font-size=\"14.00\" text-anchor=\"middle\" x=\"92.5\" y=\"-8.3\">Dense</text>\n<polyline fill=\"none\" points=\"124.5,-.5 124.5,-46.5 \" stroke=\"#000000\"/>\n<text fill=\"#000000\" font-family=\"Times,serif\" font-size=\"14.00\" text-anchor=\"middle\" x=\"153.5\" y=\"-31.3\">input:</text>\n<polyline fill=\"none\" points=\"124.5,-23.5 182.5,-23.5 \" stroke=\"#000000\"/>\n<text fill=\"#000000\" font-family=\"Times,serif\" font-size=\"14.00\" text-anchor=\"middle\" x=\"153.5\" y=\"-8.3\">output:</text>\n<polyline fill=\"none\" points=\"182.5,-.5 182.5,-46.5 \" stroke=\"#000000\"/>\n<text fill=\"#000000\" font-family=\"Times,serif\" font-size=\"14.00\" text-anchor=\"middle\" x=\"226\" y=\"-19.8\">(None, 100)</text>\n<polyline fill=\"none\" points=\"269.5,-.5 269.5,-46.5 \" stroke=\"#000000\"/>\n<text fill=\"#000000\" font-family=\"Times,serif\" font-size=\"14.00\" text-anchor=\"middle\" x=\"305.5\" y=\"-19.8\">(None, 1)</text>\n</g>\n<!-- 140462265071632&#45;&gt;140462265554384 -->\n<g class=\"edge\" id=\"edge5\">\n<title>140462265071632-&gt;140462265554384</title>\n<path d=\"M201,-83.3799C201,-75.1745 201,-65.7679 201,-56.8786\" fill=\"none\" stroke=\"#000000\"/>\n<polygon fill=\"#000000\" points=\"204.5001,-56.784 201,-46.784 197.5001,-56.784 204.5001,-56.784\" stroke=\"#000000\"/>\n</g>\n</g>\n</svg>"
          },
          "metadata": {},
          "execution_count": 27
        }
      ],
      "source": [
        "from IPython.display import SVG\n",
        "from keras.utils import vis_utils\n",
        "SVG(vis_utils.model_to_dot(model, show_shapes=True, show_layer_names=True, dpi=60).create(prog='dot', format='svg'))  \n"
      ]
    },
    {
      "cell_type": "markdown",
      "metadata": {
        "id": "RBxs3oZ8hIVo"
      },
      "source": [
        "Splitting the padded training data into training and validation data"
      ]
    },
    {
      "cell_type": "code",
      "execution_count": null,
      "metadata": {
        "id": "TkHlYltuhAn0"
      },
      "outputs": [],
      "source": [
        "from sklearn.model_selection import train_test_split\n",
        "\n",
        "train_x, validation_x, train_y, validation_y = train_test_split(padded_train_data, train_labels, test_size=0.08) "
      ]
    },
    {
      "cell_type": "code",
      "execution_count": null,
      "metadata": {
        "colab": {
          "base_uri": "https://localhost:8080/"
        },
        "id": "7g3YbPzohK2N",
        "outputId": "89feb122-6962-4099-f79e-d27c06b3916e"
      },
      "outputs": [
        {
          "output_type": "stream",
          "name": "stdout",
          "text": [
            "Epoch 1/6\n",
            "23/23 [==============================] - 241s 10s/step - loss: 0.6481 - accuracy: 0.6348 - val_loss: 0.5356 - val_accuracy: 0.7600\n",
            "Epoch 2/6\n",
            "23/23 [==============================] - 236s 10s/step - loss: 0.4216 - accuracy: 0.8332 - val_loss: 0.3300 - val_accuracy: 0.8765\n",
            "Epoch 3/6\n",
            "23/23 [==============================] - 223s 10s/step - loss: 0.2748 - accuracy: 0.8949 - val_loss: 0.2734 - val_accuracy: 0.8920\n",
            "Epoch 4/6\n",
            "23/23 [==============================] - 221s 10s/step - loss: 0.2036 - accuracy: 0.9262 - val_loss: 0.2573 - val_accuracy: 0.8965\n",
            "Epoch 5/6\n",
            "23/23 [==============================] - 221s 10s/step - loss: 0.1569 - accuracy: 0.9474 - val_loss: 0.2556 - val_accuracy: 0.8995\n",
            "Epoch 6/6\n",
            "23/23 [==============================] - 247s 11s/step - loss: 0.1350 - accuracy: 0.9573 - val_loss: 0.2760 - val_accuracy: 0.8880\n"
          ]
        }
      ],
      "source": [
        "history = model.fit(train_x, train_y, epochs=6, batch_size=1000, validation_data=(validation_x, validation_y))"
      ]
    },
    {
      "cell_type": "code",
      "source": [
        "# YOUR CODE TO EVALUATE THE MODEL ON TEST DATA GOES HERE\n",
        "results = model.evaluate(padded_test_data,test_labels)\n",
        "print('test_loss:', results[0], 'test_accuracy:', results[1])"
      ],
      "metadata": {
        "colab": {
          "base_uri": "https://localhost:8080/"
        },
        "id": "F5cI2cVrF2IB",
        "outputId": "080997fe-7635-46d3-fc19-df545e88b1ed"
      },
      "execution_count": null,
      "outputs": [
        {
          "output_type": "stream",
          "name": "stdout",
          "text": [
            "782/782 [==============================] - 107s 135ms/step - loss: 0.3367 - accuracy: 0.8668\n",
            "test_loss: 0.3366926312446594 test_accuracy: 0.8668000102043152\n"
          ]
        }
      ]
    },
    {
      "cell_type": "markdown",
      "metadata": {
        "id": "pTgw4Fttil8l"
      },
      "source": [
        "2. Experiment with training the model with batch sizes of 1, 32, len(training_data). What do you observe?"
      ]
    },
    {
      "cell_type": "code",
      "source": [
        "len(train_x)"
      ],
      "metadata": {
        "colab": {
          "base_uri": "https://localhost:8080/"
        },
        "id": "E-mr7RA6JS0d",
        "outputId": "ec43c9d7-8e44-4546-e235-89bb43bd5046"
      },
      "execution_count": null,
      "outputs": [
        {
          "output_type": "execute_result",
          "data": {
            "text/plain": [
              "23000"
            ]
          },
          "metadata": {},
          "execution_count": 31
        }
      ]
    },
    {
      "cell_type": "code",
      "execution_count": null,
      "metadata": {
        "id": "8RHi0978ilIg"
      },
      "outputs": [],
      "source": [
        "history1 = model.fit(train_x, train_y, epochs=6, batch_size=1, validation_data=(validation_x, validation_y))"
      ]
    },
    {
      "cell_type": "code",
      "source": [
        "history2 = model.fit(train_x, train_y, epochs=6, batch_size=32, validation_data=(validation_x, validation_y))"
      ],
      "metadata": {
        "id": "DuSm7bIbTmBU"
      },
      "execution_count": null,
      "outputs": []
    },
    {
      "cell_type": "code",
      "source": [
        "history3 = model.fit(train_x, train_y, epochs=6, batch_size=len(train_x), validation_data=(validation_x, validation_y))"
      ],
      "metadata": {
        "id": "z8FcQtnLTqUi"
      },
      "execution_count": null,
      "outputs": []
    }
  ],
  "metadata": {
    "colab": {
      "collapsed_sections": [],
      "name": "Lab2.ipynb",
      "provenance": []
    },
    "kernelspec": {
      "display_name": "Python 3",
      "name": "python3"
    }
  },
  "nbformat": 4,
  "nbformat_minor": 0
}
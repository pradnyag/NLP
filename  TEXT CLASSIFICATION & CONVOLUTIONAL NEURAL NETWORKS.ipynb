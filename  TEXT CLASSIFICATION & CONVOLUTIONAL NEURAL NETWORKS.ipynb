{
  "cells": [
    {
      "cell_type": "markdown",
      "metadata": {
        "id": "hExKCzh6doIW"
      },
      "source": [
        "# Lab 3 - Comparing Classification Models\n",
        "\n",
        "\n",
        "\n",
        "---\n",
        "\n",
        "\n",
        "\n",
        "\n",
        "\n",
        "\n",
        "\n",
        "\n",
        "\n",
        "\n",
        "\n",
        "\n",
        "\n"
      ]
    },
    {
      "cell_type": "markdown",
      "metadata": {
        "id": "HixoFOoCIJ7V"
      },
      "source": [
        "In this session, we demonstrate how to solve a text classification task using simple \n",
        "feedforward neural network classifier. We will use IMDB Large Movie Review Dataset to train a binary classification model, able to predict whether a review is positive or negative. First, our network takes one-hot word vectors as input, averages them to make one vector and trains a \n",
        "fully-connected layer to predict the output. In the second part, we replace the one-hot vectors with the word embeddings and add a layer to see how much that improves the performance.\n",
        "\n",
        "We are going to use Keras Sequential API in this session. The Sequential API allows you to make models layer-by-layer. But it is not straightforward to define models where layers connect to more than just the previous and next layers. "
      ]
    },
    {
      "cell_type": "code",
      "execution_count": null,
      "metadata": {
        "id": "m8fpBfhBpupy"
      },
      "outputs": [],
      "source": [
        "import tensorflow.keras as tk\n",
        "import numpy as np\n",
        "from keras.layers import Lambda, GlobalAveragePooling1D, Dense, Embedding,Input\n",
        "from keras import backend as K\n",
        "from keras.models import Sequential\n",
        "import matplotlib.pyplot as plt\n"
      ]
    },
    {
      "cell_type": "markdown",
      "metadata": {
        "id": "cqvPQvgvPv1W"
      },
      "source": [
        "### Downloading data"
      ]
    },
    {
      "cell_type": "markdown",
      "metadata": {
        "id": "EundMtGPpCdf"
      },
      "source": [
        "The dataset we will be using is the IMDB Large Movie Review Dataset, which consists of 50000 labeled movie reviews. These are split into 25,000 reviews for training and 25,000 reviews for testing. The  dataset contains an even number of positive and negative reviews, so randomly guessing yields 50% accuracy. The data is preprocessed. For text classification, it is ususal to limit the size of the vocabulary to stop the dataset from becoming too sparse, creating possible overfitting. We keep the top 10,000 most frequently occurring words in the training data.\n"
      ]
    },
    {
      "cell_type": "code",
      "execution_count": null,
      "metadata": {
        "id": "NyuSzkafqNca"
      },
      "outputs": [],
      "source": [
        "imdb = tk.datasets.imdb\n",
        "(X_train, y_train), (X_test, y_test) = imdb.load_data(num_words=10000)"
      ]
    },
    {
      "cell_type": "markdown",
      "metadata": {
        "id": "6U4iCV9-rmay"
      },
      "source": [
        "We now can start playing around with the data, let’s first see the length:"
      ]
    },
    {
      "cell_type": "code",
      "execution_count": null,
      "metadata": {
        "colab": {
          "base_uri": "https://localhost:8080/"
        },
        "id": "h-gjWRAuqg5s",
        "outputId": "0207f02c-7aef-4570-a522-1c273bc4642d"
      },
      "outputs": [
        {
          "output_type": "stream",
          "name": "stdout",
          "text": [
            "Training entries: 25000, labels: 25000\n"
          ]
        }
      ],
      "source": [
        "print(\"Training entries: {}, labels: {}\".format(len(X_train), len(y_train)))"
      ]
    },
    {
      "cell_type": "markdown",
      "metadata": {
        "id": "MTRZrpcyr-4x"
      },
      "source": [
        "The  reviews have been converted to integers and each integer represents a  word in a dictionary. "
      ]
    },
    {
      "cell_type": "code",
      "execution_count": null,
      "metadata": {
        "colab": {
          "base_uri": "https://localhost:8080/"
        },
        "id": "79Ev72Kgq4XL",
        "outputId": "4d1b3345-c3f3-48b6-c346-20ccae849401"
      },
      "outputs": [
        {
          "output_type": "execute_result",
          "data": {
            "text/plain": [
              "[1, 14, 22, 16, 43, 530, 973, 1622, 1385, 65]"
            ]
          },
          "metadata": {},
          "execution_count": 4
        }
      ],
      "source": [
        " X_train[0][:10]"
      ]
    },
    {
      "cell_type": "markdown",
      "metadata": {
        "id": "Tvuu4KhStqei"
      },
      "source": [
        "We can convert integers back to words by querying a dictionary object that contains the integer to string mapping:"
      ]
    },
    {
      "cell_type": "code",
      "execution_count": null,
      "metadata": {
        "id": "gMCH1OoDrSNR"
      },
      "outputs": [],
      "source": [
        "word_index = imdb.get_word_index()"
      ]
    },
    {
      "cell_type": "markdown",
      "metadata": {
        "id": "5IreFXgruZot"
      },
      "source": [
        "Index 1 represents the beginning of the sentence and the index 2 is assigned to all unknown tokens. Index 0 will be used for padding."
      ]
    },
    {
      "cell_type": "code",
      "execution_count": null,
      "metadata": {
        "id": "abIb7Fe5u3GQ"
      },
      "outputs": [],
      "source": [
        "word_index = {k:(v+3) for k,v in word_index.items()}\n",
        "word_index[\"<PAD>\"] = 0\n",
        "word_index[\"<START>\"] = 1\n",
        "word_index[\"<UNK>\"] = 2  \n",
        "word_index[\"<UNUSED>\"] = 3"
      ]
    },
    {
      "cell_type": "markdown",
      "metadata": {
        "id": "9TnnSuspvC5b"
      },
      "source": [
        "To reverse key and values in a dictionary:"
      ]
    },
    {
      "cell_type": "code",
      "execution_count": null,
      "metadata": {
        "id": "nKOiVVXQu-_I"
      },
      "outputs": [],
      "source": [
        "reverse_word_index = dict([(value, key) for (key, value) in word_index.items()])"
      ]
    },
    {
      "cell_type": "markdown",
      "metadata": {
        "id": "ZmTJEm8xvUvW"
      },
      "source": [
        "To view a word:"
      ]
    },
    {
      "cell_type": "code",
      "execution_count": null,
      "metadata": {
        "colab": {
          "base_uri": "https://localhost:8080/",
          "height": 37
        },
        "id": "SqN5jgVKvJJZ",
        "outputId": "ced2b100-9ca1-4fbb-9981-65fb4df16f84"
      },
      "outputs": [
        {
          "output_type": "execute_result",
          "data": {
            "text/plain": [
              "'you'"
            ],
            "application/vnd.google.colaboratory.intrinsic+json": {
              "type": "string"
            }
          },
          "metadata": {},
          "execution_count": 8
        }
      ],
      "source": [
        "reverse_word_index[25]"
      ]
    },
    {
      "cell_type": "markdown",
      "metadata": {
        "id": "Q6QjrzgVvrYn"
      },
      "source": [
        "And to recreate the whole sentence from our training data we define decode_review:\n"
      ]
    },
    {
      "cell_type": "code",
      "execution_count": null,
      "metadata": {
        "id": "wvrKeMgxvWlv"
      },
      "outputs": [],
      "source": [
        "def decode_review(text):\n",
        "    return ' '.join([reverse_word_index.get(i, '?') for i in text])"
      ]
    },
    {
      "cell_type": "code",
      "execution_count": null,
      "metadata": {
        "colab": {
          "base_uri": "https://localhost:8080/",
          "height": 140
        },
        "id": "Sxg4YA_NvdRg",
        "outputId": "67a66dc0-a2bf-4229-e0f8-74813863b070"
      },
      "outputs": [
        {
          "output_type": "execute_result",
          "data": {
            "text/plain": [
              "\"<START> french horror cinema has seen something of a revival over the last couple of years with great films such as inside and <UNK> romance <UNK> on to the scene <UNK> <UNK> the revival just slightly but stands head and shoulders over most modern horror titles and is surely one of the best french horror films ever made <UNK> was obviously shot on a low budget but this is made up for in far more ways than one by the originality of the film and this in turn is <UNK> by the excellent writing and acting that ensure the film is a winner the plot focuses on two main ideas prison and black magic the central character is a man named <UNK> sent to prison for fraud he is put in a cell with three others the quietly insane <UNK> body building <UNK> marcus and his retarded boyfriend daisy after a short while in the cell together they stumble upon a hiding place in the wall that contains an old <UNK> after <UNK> part of it they soon realise its magical powers and realise they may be able to use it to break through the prison walls br br black magic is a very interesting topic and i'm actually quite surprised that there aren't more films based on it as there's so much scope for things to do with it it's fair to say that <UNK> makes the best of it's <UNK> as despite it's <UNK> the film never actually feels restrained and manages to flow well throughout director eric <UNK> provides a great atmosphere for the film the fact that most of it takes place inside the central prison cell <UNK> that the film feels very claustrophobic and this immensely benefits the central idea of the prisoners wanting to use magic to break out of the cell it's very easy to get behind them it's often said that the unknown is the thing that really <UNK> people and this film proves that as the director <UNK> that we can never really be sure of exactly what is round the corner and this helps to ensure that <UNK> actually does manage to be quite frightening the film is memorable for a lot of reasons outside the central plot the characters are all very interesting in their own way and the fact that the book itself almost takes on its own character is very well done anyone worried that the film won't deliver by the end won't be disappointed either as the ending both makes sense and manages to be quite horrifying overall <UNK> is a truly great horror film and one of the best of the decade highly recommended viewing\""
            ],
            "application/vnd.google.colaboratory.intrinsic+json": {
              "type": "string"
            }
          },
          "metadata": {},
          "execution_count": 10
        }
      ],
      "source": [
        "decode_review(X_train[10])"
      ]
    },
    {
      "cell_type": "markdown",
      "metadata": {
        "id": "c8gIzXncfaJK"
      },
      "source": [
        "### Creating One-hot word vectors"
      ]
    },
    {
      "cell_type": "markdown",
      "metadata": {
        "id": "B9W4yb3rv_E0"
      },
      "source": [
        "It is  common to use one-hot representation as input in Natural Language Processing tasks. In Keras, the Embedding layer takes an index as an input and convert it to one-hot vector with the length of the vocabulary size. Then multiplies these vectors by a normal weight matrix. But there is no way to only get a one-hot vector as the output of a layer in Keras. To solve this we use Lambda() layer and a function that creates the one-hot layer. "
      ]
    },
    {
      "cell_type": "code",
      "execution_count": null,
      "metadata": {
        "id": "RPO_pK9zH4C5"
      },
      "outputs": [],
      "source": [
        "def OneHot(input_dim=None, input_length=None):\n",
        "    \n",
        "    if input_dim is None or input_length is None:\n",
        "        raise TypeError(\"input_dim or input_length is not set\")\n",
        "\n",
        "    \n",
        "    def _one_hot(x, num_classes):\n",
        "        return K.one_hot(K.cast(x, 'uint8'),\n",
        "                          num_classes=num_classes)\n",
        "\n",
        "    return Lambda(_one_hot,\n",
        "                  arguments={'num_classes': input_dim},\n",
        "                  input_shape=(input_length,))"
      ]
    },
    {
      "cell_type": "markdown",
      "metadata": {
        "id": "364d3MAw0ez9"
      },
      "source": [
        "input_dim refers to the length of the one-hot vector and input_length refers to the length of the input sequence. Since the input to K.one_hot should be an integer tensor, we cast x to one (Keras passes around float tensors by default).\n",
        "\n"
      ]
    },
    {
      "cell_type": "markdown",
      "metadata": {
        "id": "VHz76GNA2M4r"
      },
      "source": [
        " Each text sequence has in most cases different length of words. Here, we fill sequences with a pad token (0) to fit the size. This special tokens is then masked not to be accounted in averaging, loss calculation etc. We set the maximum length to 256."
      ]
    },
    {
      "cell_type": "markdown",
      "metadata": {
        "id": "9G_o7PsvgSFt"
      },
      "source": [
        "### Preparing input data"
      ]
    },
    {
      "cell_type": "code",
      "execution_count": null,
      "metadata": {
        "id": "jiFn7sd_wF5j"
      },
      "outputs": [],
      "source": [
        "from keras.preprocessing.sequence import pad_sequences\n",
        "VOCAB_SIZE = 10000\n",
        "MAX_SEQUENCE_LENGTH = 256\n",
        "\n",
        "X_train_enc = pad_sequences(X_train,\n",
        "                            value=word_index[\"<PAD>\"],\n",
        "                            padding='post',\n",
        "                            maxlen=256)\n",
        "\n",
        "X_test_enc = pad_sequences(X_test,\n",
        "                          value=word_index[\"<PAD>\"],\n",
        "                          padding='post',\n",
        "                          maxlen=256)"
      ]
    },
    {
      "cell_type": "markdown",
      "metadata": {
        "id": "kcjFH1wKF_7d"
      },
      "source": [
        "And to view a padded review:"
      ]
    },
    {
      "cell_type": "code",
      "execution_count": null,
      "metadata": {
        "colab": {
          "base_uri": "https://localhost:8080/"
        },
        "id": "zwH4dcfW_a18",
        "outputId": "e52014c2-cd02-4f92-8077-fda4c9238d24"
      },
      "outputs": [
        {
          "output_type": "stream",
          "name": "stdout",
          "text": [
            "[   1  194 1153  194 8255   78  228    5    6 1463 4369 5012  134   26\n",
            "    4  715    8  118 1634   14  394   20   13  119  954  189  102    5\n",
            "  207  110 3103   21   14   69  188    8   30   23    7    4  249  126\n",
            "   93    4  114    9 2300 1523    5  647    4  116    9   35 8163    4\n",
            "  229    9  340 1322    4  118    9    4  130 4901   19    4 1002    5\n",
            "   89   29  952   46   37    4  455    9   45   43   38 1543 1905  398\n",
            "    4 1649   26 6853    5  163   11 3215    2    4 1153    9  194  775\n",
            "    7 8255    2  349 2637  148  605    2 8003   15  123  125   68    2\n",
            " 6853   15  349  165 4362   98    5    4  228    9   43    2 1157   15\n",
            "  299  120    5  120  174   11  220  175  136   50    9 4373  228 8255\n",
            "    5    2  656  245 2350    5    4 9837  131  152  491   18    2   32\n",
            " 7464 1212   14    9    6  371   78   22  625   64 1382    9    8  168\n",
            "  145   23    4 1690   15   16    4 1355    5   28    6   52  154  462\n",
            "   33   89   78  285   16  145   95    0    0    0    0    0    0    0\n",
            "    0    0    0    0    0    0    0    0    0    0    0    0    0    0\n",
            "    0    0    0    0    0    0    0    0    0    0    0    0    0    0\n",
            "    0    0    0    0    0    0    0    0    0    0    0    0    0    0\n",
            "    0    0    0    0    0    0    0    0    0    0    0    0    0    0\n",
            "    0    0    0    0]\n",
            "\n",
            "Length:  25000\n"
          ]
        }
      ],
      "source": [
        "print(X_train_enc[1])\n",
        "print('\\nLength: ',len(X_train_enc))"
      ]
    },
    {
      "cell_type": "markdown",
      "metadata": {
        "id": "F1zcxFwNGepA"
      },
      "source": [
        "Now we want to build the neural network model. We  are going to have a hidden layer with 16 hidden units. \n",
        "\n",
        "First, we want to transform each index to an embedded vector and then average all vectors to a single one. It has been showed that unweighted average of word vectors outperforms many complicated networks that model semantic and syntactic compositionality. As an example you can take a look at this: (http://anthology.aclweb.org/P/P15/P15-1162.pdf)\n",
        "\n",
        "To average we need to ignore padded zeros:"
      ]
    },
    {
      "cell_type": "code",
      "execution_count": null,
      "metadata": {
        "id": "Yi04MLIvJOGZ"
      },
      "outputs": [],
      "source": [
        "class GlobalAveragePooling1DMasked(GlobalAveragePooling1D):\n",
        "    def call(self, x, mask=None):\n",
        "        if mask != None:\n",
        "            return K.sum(x, axis=1) / K.sum(mask, axis=1)\n",
        "        else:\n",
        "            return super().call(x)\n"
      ]
    },
    {
      "cell_type": "markdown",
      "metadata": {
        "id": "whgIIB5ggjna"
      },
      "source": [
        "# Model 1: Neural averaging network using one-hot vectors"
      ]
    },
    {
      "cell_type": "markdown",
      "metadata": {
        "id": "mxCUqqwJlREF"
      },
      "source": [
        "###**Question 1.** \n",
        "\n",
        "Build a neural network classifier using one-hot word vectors (Model 1), and train and evaluate it [5 marks]. In your report, include the output of the model.summary() command to show your model structure, and plot training and validation loss in a graph."
      ]
    },
    {
      "cell_type": "markdown",
      "metadata": {
        "id": "jlOLnlnSJgrU"
      },
      "source": [
        "The first layer is an one-hot layer. The second layer is to compute average on all word vectors in a sentence without considering padding. The  output vector is piped through a fully-connected layer. The last layer is connected with a single output node with the sigmoid activation function. The final value is a float between 0 and 1. \n",
        "The vocabulary count of the movie reviews (10000) is used as the input shape. At the end we visualize the model summary."
      ]
    },
    {
      "cell_type": "code",
      "execution_count": null,
      "metadata": {
        "colab": {
          "base_uri": "https://localhost:8080/"
        },
        "id": "_Pn83gBbxiK7",
        "outputId": "f5783373-c25a-4ffa-ab0e-eec7702d1915"
      },
      "outputs": [
        {
          "output_type": "stream",
          "name": "stdout",
          "text": [
            "Model: \"model\"\n",
            "_________________________________________________________________\n",
            " Layer (type)                Output Shape              Param #   \n",
            "=================================================================\n",
            " input_1 (InputLayer)        [(None, 256)]             0         \n",
            "                                                                 \n",
            " lambda (Lambda)             (None, 256, 10000)        0         \n",
            "                                                                 \n",
            " global_average_pooling1d_ma  (None, 10000)            0         \n",
            " sked (GlobalAveragePooling1                                     \n",
            " DMasked)                                                        \n",
            "                                                                 \n",
            " dense (Dense)               (None, 16)                160016    \n",
            "                                                                 \n",
            " dense_1 (Dense)             (None, 1)                 17        \n",
            "                                                                 \n",
            "=================================================================\n",
            "Total params: 160,033\n",
            "Trainable params: 160,033\n",
            "Non-trainable params: 0\n",
            "_________________________________________________________________\n"
          ]
        }
      ],
      "source": [
        "# your code goes here\n",
        "from keras.models import Model\n",
        "\n",
        "#The first layer is an one-hot layer.\n",
        "input = Input((256,), dtype='int32')\n",
        "\n",
        "lambd= OneHot(VOCAB_SIZE,MAX_SEQUENCE_LENGTH)(input)\n",
        "\n",
        "#The second layer is the average layer\n",
        "average = GlobalAveragePooling1DMasked()(lambd)\n",
        "\n",
        "#Dense layer 1\n",
        "label1= Dense(16, activation='sigmoid')(average)\n",
        "\n",
        "#Dense layer 2\n",
        "label2= Dense(1, activation='sigmoid')(label1)\n",
        "\n",
        "model = Model(inputs=[input], outputs=[label2])  \n",
        "\n",
        "model.summary()"
      ]
    },
    {
      "cell_type": "markdown",
      "metadata": {
        "id": "_Mz96xpCgvTj"
      },
      "source": [
        "### Training the model"
      ]
    },
    {
      "cell_type": "markdown",
      "metadata": {
        "id": "F3HbW_IKLqwT"
      },
      "source": [
        "To compile the model we need a loss function and an optimizer. We use binary_crossentropy loss function which is just a special case of categorical cross entropy. We also use Adam optimizer that can be used instead of the classical stochastic gradient descent procedure to update network weights iterative based in training data. You can read more about it here:\n",
        "(https://arxiv.org/abs/1412.6980v8\n",
        ")\n"
      ]
    },
    {
      "cell_type": "code",
      "execution_count": null,
      "metadata": {
        "id": "qh1PWTNMxjUw"
      },
      "outputs": [],
      "source": [
        "# your code goes here\n",
        "model.compile(loss=\"binary_crossentropy\", optimizer=\"adam\",metrics=[\"accuracy\"])"
      ]
    },
    {
      "cell_type": "markdown",
      "metadata": {
        "id": "E1jwQQqCN5Ia"
      },
      "source": [
        "When training, we want to check the accuracy of the model on data it hasn't seen before. So we create a validation set:"
      ]
    },
    {
      "cell_type": "code",
      "execution_count": null,
      "metadata": {
        "id": "f5lAqzQlxjSM"
      },
      "outputs": [],
      "source": [
        "X_val = np.array(X_train_enc[:10000])\n",
        "partial_X_train = np.array(X_train_enc[10000:])\n",
        "\n",
        "y_val = np.array(y_train[:10000])\n",
        "partial_y_train = np.array(y_train[10000:])"
      ]
    },
    {
      "cell_type": "markdown",
      "metadata": {
        "id": "E8Kpo5G3OJEY"
      },
      "source": [
        "Then we start to train the model for 40 epochs in mini-batches of 512 samples and monitor the model's loss and accuracy on the validation set."
      ]
    },
    {
      "cell_type": "code",
      "execution_count": null,
      "metadata": {
        "colab": {
          "base_uri": "https://localhost:8080/"
        },
        "id": "99_z39KAxjPi",
        "outputId": "5accb6f2-1934-408c-ce36-a3ff84a2f370"
      },
      "outputs": [
        {
          "output_type": "stream",
          "name": "stdout",
          "text": [
            "Epoch 1/40\n",
            "30/30 [==============================] - 47s 2s/step - loss: 0.7215 - accuracy: 0.5035 - val_loss: 0.7077 - val_accuracy: 0.4947\n",
            "Epoch 2/40\n",
            "30/30 [==============================] - 48s 2s/step - loss: 0.6985 - accuracy: 0.5035 - val_loss: 0.6951 - val_accuracy: 0.4947\n",
            "Epoch 3/40\n",
            "30/30 [==============================] - 46s 2s/step - loss: 0.6931 - accuracy: 0.5035 - val_loss: 0.6929 - val_accuracy: 0.4947\n",
            "Epoch 4/40\n",
            "30/30 [==============================] - 46s 2s/step - loss: 0.6924 - accuracy: 0.5339 - val_loss: 0.6922 - val_accuracy: 0.4955\n",
            "Epoch 5/40\n",
            "30/30 [==============================] - 47s 2s/step - loss: 0.6919 - accuracy: 0.5297 - val_loss: 0.6919 - val_accuracy: 0.4961\n",
            "Epoch 6/40\n",
            "30/30 [==============================] - 50s 2s/step - loss: 0.6916 - accuracy: 0.5041 - val_loss: 0.6915 - val_accuracy: 0.5077\n",
            "Epoch 7/40\n",
            "30/30 [==============================] - 53s 2s/step - loss: 0.6911 - accuracy: 0.5410 - val_loss: 0.6911 - val_accuracy: 0.5868\n",
            "Epoch 8/40\n",
            "30/30 [==============================] - 49s 2s/step - loss: 0.6907 - accuracy: 0.6027 - val_loss: 0.6907 - val_accuracy: 0.5617\n",
            "Epoch 9/40\n",
            "30/30 [==============================] - 51s 2s/step - loss: 0.6902 - accuracy: 0.5715 - val_loss: 0.6904 - val_accuracy: 0.5369\n",
            "Epoch 10/40\n",
            "30/30 [==============================] - 48s 2s/step - loss: 0.6898 - accuracy: 0.5373 - val_loss: 0.6899 - val_accuracy: 0.5956\n",
            "Epoch 11/40\n",
            "30/30 [==============================] - 47s 2s/step - loss: 0.6893 - accuracy: 0.6135 - val_loss: 0.6895 - val_accuracy: 0.6223\n",
            "Epoch 12/40\n",
            "30/30 [==============================] - 47s 2s/step - loss: 0.6889 - accuracy: 0.6005 - val_loss: 0.6890 - val_accuracy: 0.6291\n",
            "Epoch 13/40\n",
            "30/30 [==============================] - 48s 2s/step - loss: 0.6884 - accuracy: 0.6393 - val_loss: 0.6885 - val_accuracy: 0.6564\n",
            "Epoch 14/40\n",
            "30/30 [==============================] - 47s 2s/step - loss: 0.6880 - accuracy: 0.6645 - val_loss: 0.6881 - val_accuracy: 0.6470\n",
            "Epoch 15/40\n",
            "30/30 [==============================] - 47s 2s/step - loss: 0.6876 - accuracy: 0.5987 - val_loss: 0.6877 - val_accuracy: 0.6441\n",
            "Epoch 16/40\n",
            "30/30 [==============================] - 47s 2s/step - loss: 0.6870 - accuracy: 0.6639 - val_loss: 0.6872 - val_accuracy: 0.6475\n",
            "Epoch 17/40\n",
            "30/30 [==============================] - 46s 2s/step - loss: 0.6866 - accuracy: 0.6287 - val_loss: 0.6868 - val_accuracy: 0.6447\n",
            "Epoch 18/40\n",
            "30/30 [==============================] - 46s 2s/step - loss: 0.6860 - accuracy: 0.6653 - val_loss: 0.6862 - val_accuracy: 0.6650\n",
            "Epoch 19/40\n",
            "30/30 [==============================] - 46s 2s/step - loss: 0.6855 - accuracy: 0.6650 - val_loss: 0.6858 - val_accuracy: 0.6598\n",
            "Epoch 20/40\n",
            "30/30 [==============================] - 47s 2s/step - loss: 0.6850 - accuracy: 0.6731 - val_loss: 0.6853 - val_accuracy: 0.6637\n",
            "Epoch 21/40\n",
            "30/30 [==============================] - 46s 2s/step - loss: 0.6845 - accuracy: 0.6443 - val_loss: 0.6848 - val_accuracy: 0.6578\n",
            "Epoch 22/40\n",
            "30/30 [==============================] - 47s 2s/step - loss: 0.6839 - accuracy: 0.6753 - val_loss: 0.6842 - val_accuracy: 0.6681\n",
            "Epoch 23/40\n",
            "30/30 [==============================] - 47s 2s/step - loss: 0.6833 - accuracy: 0.6731 - val_loss: 0.6838 - val_accuracy: 0.6532\n",
            "Epoch 24/40\n",
            "30/30 [==============================] - 46s 2s/step - loss: 0.6829 - accuracy: 0.6024 - val_loss: 0.6832 - val_accuracy: 0.6601\n",
            "Epoch 25/40\n",
            "30/30 [==============================] - 47s 2s/step - loss: 0.6821 - accuracy: 0.6744 - val_loss: 0.6824 - val_accuracy: 0.6667\n",
            "Epoch 26/40\n",
            "30/30 [==============================] - 46s 2s/step - loss: 0.6815 - accuracy: 0.6794 - val_loss: 0.6820 - val_accuracy: 0.6638\n",
            "Epoch 27/40\n",
            "30/30 [==============================] - 46s 2s/step - loss: 0.6808 - accuracy: 0.6675 - val_loss: 0.6813 - val_accuracy: 0.6696\n",
            "Epoch 28/40\n",
            "30/30 [==============================] - 46s 2s/step - loss: 0.6802 - accuracy: 0.6807 - val_loss: 0.6807 - val_accuracy: 0.6704\n",
            "Epoch 29/40\n",
            "30/30 [==============================] - 47s 2s/step - loss: 0.6795 - accuracy: 0.6747 - val_loss: 0.6800 - val_accuracy: 0.6716\n",
            "Epoch 30/40\n",
            "30/30 [==============================] - 46s 2s/step - loss: 0.6788 - accuracy: 0.6827 - val_loss: 0.6793 - val_accuracy: 0.6743\n",
            "Epoch 31/40\n",
            "30/30 [==============================] - 47s 2s/step - loss: 0.6781 - accuracy: 0.6795 - val_loss: 0.6790 - val_accuracy: 0.6604\n",
            "Epoch 32/40\n",
            "30/30 [==============================] - 47s 2s/step - loss: 0.6773 - accuracy: 0.6806 - val_loss: 0.6779 - val_accuracy: 0.6737\n",
            "Epoch 33/40\n",
            "30/30 [==============================] - 46s 2s/step - loss: 0.6765 - accuracy: 0.6830 - val_loss: 0.6774 - val_accuracy: 0.6693\n",
            "Epoch 34/40\n",
            "30/30 [==============================] - 46s 2s/step - loss: 0.6757 - accuracy: 0.6819 - val_loss: 0.6765 - val_accuracy: 0.6755\n",
            "Epoch 35/40\n",
            "30/30 [==============================] - 46s 2s/step - loss: 0.6749 - accuracy: 0.6773 - val_loss: 0.6757 - val_accuracy: 0.6766\n",
            "Epoch 36/40\n",
            "30/30 [==============================] - 47s 2s/step - loss: 0.6740 - accuracy: 0.6859 - val_loss: 0.6748 - val_accuracy: 0.6778\n",
            "Epoch 37/40\n",
            "30/30 [==============================] - 47s 2s/step - loss: 0.6732 - accuracy: 0.6833 - val_loss: 0.6742 - val_accuracy: 0.6734\n",
            "Epoch 38/40\n",
            "30/30 [==============================] - 45s 2s/step - loss: 0.6723 - accuracy: 0.6745 - val_loss: 0.6730 - val_accuracy: 0.6762\n",
            "Epoch 39/40\n",
            "30/30 [==============================] - 46s 2s/step - loss: 0.6713 - accuracy: 0.6874 - val_loss: 0.6721 - val_accuracy: 0.6764\n",
            "Epoch 40/40\n",
            "30/30 [==============================] - 46s 2s/step - loss: 0.6703 - accuracy: 0.6870 - val_loss: 0.6713 - val_accuracy: 0.6764\n"
          ]
        }
      ],
      "source": [
        "history = model.fit(partial_X_train,\n",
        "                    partial_y_train,\n",
        "                    epochs=40,\n",
        "                    batch_size=512,\n",
        "                    validation_data=(X_val, y_val),\n",
        "                    verbose=1)"
      ]
    },
    {
      "cell_type": "markdown",
      "metadata": {
        "id": "i_9a_rybhG5J"
      },
      "source": [
        "### Evaluating the model"
      ]
    },
    {
      "cell_type": "markdown",
      "metadata": {
        "id": "EYLH8kOgOo9W"
      },
      "source": [
        "To evaulate the model on test data:"
      ]
    },
    {
      "cell_type": "code",
      "execution_count": null,
      "metadata": {
        "colab": {
          "base_uri": "https://localhost:8080/"
        },
        "id": "CFMt2Q7b3taP",
        "outputId": "4e36e852-d3eb-482d-e5eb-40729356344a"
      },
      "outputs": [
        {
          "output_type": "stream",
          "name": "stdout",
          "text": [
            "782/782 [==============================] - 67s 86ms/step - loss: 0.6710 - accuracy: 0.6827\n"
          ]
        }
      ],
      "source": [
        "results = model.evaluate(X_test_enc, y_test)"
      ]
    },
    {
      "cell_type": "code",
      "execution_count": null,
      "metadata": {
        "colab": {
          "base_uri": "https://localhost:8080/"
        },
        "id": "9RrKiPHcAmQU",
        "outputId": "6e8dbc83-374b-40b8-b173-201554c7f611"
      },
      "outputs": [
        {
          "output_type": "stream",
          "name": "stdout",
          "text": [
            "[0.6709564924240112, 0.6826800107955933]\n"
          ]
        }
      ],
      "source": [
        "print(results)\n",
        "# loss, accuracay "
      ]
    },
    {
      "cell_type": "markdown",
      "metadata": {
        "id": "pW7IpHxMO6qp"
      },
      "source": [
        "Our first model accuracy using one-hot vectors is ~68%\n",
        "\n",
        "\n",
        "\n",
        "\n",
        "\n"
      ]
    },
    {
      "cell_type": "markdown",
      "metadata": {
        "id": "OwZk_yoWhPJB"
      },
      "source": [
        "### Plotting the accuracy graph"
      ]
    },
    {
      "cell_type": "markdown",
      "metadata": {
        "id": "JIDPH1J7PMzN"
      },
      "source": [
        "To plot a graph of accuracy and loss over time we can use Matplotlib:"
      ]
    },
    {
      "cell_type": "code",
      "execution_count": null,
      "metadata": {
        "colab": {
          "base_uri": "https://localhost:8080/"
        },
        "id": "XmgaCFtMDpYv",
        "outputId": "d5be2381-0a3c-4fc8-b77f-ba044bc36fcd"
      },
      "outputs": [
        {
          "output_type": "execute_result",
          "data": {
            "text/plain": [
              "list"
            ]
          },
          "metadata": {},
          "execution_count": 21
        }
      ],
      "source": [
        "type(history.history[\"accuracy\"])"
      ]
    },
    {
      "cell_type": "code",
      "execution_count": null,
      "metadata": {
        "colab": {
          "base_uri": "https://localhost:8080/",
          "height": 336
        },
        "id": "LS9k2vvSAqB7",
        "outputId": "a3c9adc7-9c3e-4537-c6a8-4ff13bc410b5"
      },
      "outputs": [
        {
          "output_type": "display_data",
          "data": {
            "text/plain": [
              "<Figure size 864x360 with 2 Axes>"
            ],
            "image/png": "[encoded data removed]"
          },
          "metadata": {
            "needs_background": "light"
          }
        }
      ],
      "source": [
        "\n",
        "# your code goes here\n",
        "acc = history.history['accuracy']\n",
        "val_acc = history.history['val_accuracy']\n",
        "loss = history.history['loss']\n",
        "val_loss = history.history['val_loss']\n",
        "x = range(1, len(acc) + 1)\n",
        "\n",
        "plt.figure(figsize=(12, 5))\n",
        "plt.subplot(1, 2, 1)\n",
        "plt.plot(x, acc, 'b', label='Training accuracy')\n",
        "plt.plot(x, val_acc, 'r', label='Validation accuracy')\n",
        "plt.title('Training and validation accuracy')\n",
        "plt.legend()\n",
        "plt.subplot(1, 2, 2)\n",
        "plt.plot(x, loss, 'b', label='Training loss')\n",
        "plt.plot(x, val_loss, 'r', label='Validation loss')\n",
        "plt.title('Training and validation loss')\n",
        "plt.legend()\n",
        "\n",
        "plt.show()\n"
      ]
    },
    {
      "cell_type": "markdown",
      "metadata": {
        "id": "a7OwOQw4h8RX"
      },
      "source": [
        "# Model 2: Neural averaging network using embedding layer"
      ]
    },
    {
      "cell_type": "markdown",
      "metadata": {
        "id": "l-QzOMO_P4jc"
      },
      "source": [
        "Now instead of one-hot vectors, we want to use embedding. We change our first layer in model1 to an Embedding layer. This layer takes the integer-encoded vocabulary and looks up the embedding vector for each word-index. These vectors are learned as the model trains. The vectors add a dimension to the output array. The resulting dimensions are: (batch, sequence, embedding)."
      ]
    },
    {
      "cell_type": "markdown",
      "metadata": {
        "id": "VdIH9dM5lobJ"
      },
      "source": [
        "###**Question 2.** \n",
        "Modify your model to use a word embedding layer instead of one-hot vectors (Model 2), and to learn the values of these word embedding vectors along with the model [5 marks].\n",
        "Again, include the output of model.summary(), and plot training and validation loss."
      ]
    },
    {
      "cell_type": "code",
      "execution_count": null,
      "metadata": {
        "colab": {
          "base_uri": "https://localhost:8080/"
        },
        "id": "MFrCsL-NBFVL",
        "outputId": "94330cd4-8a1b-4486-a14a-682107c6da98"
      },
      "outputs": [
        {
          "output_type": "stream",
          "name": "stdout",
          "text": [
            "Model: \"model_2\"\n",
            "_________________________________________________________________\n",
            " Layer (type)                Output Shape              Param #   \n",
            "=================================================================\n",
            " input_1 (InputLayer)        [(None, 256)]             0         \n",
            "                                                                 \n",
            " embed_layer (Embedding)     (None, 256, 100)          1000000   \n",
            "                                                                 \n",
            " global_average_pooling1d_ma  (None, 100)              0         \n",
            " sked_2 (GlobalAveragePoolin                                     \n",
            " g1DMasked)                                                      \n",
            "                                                                 \n",
            " dense_4 (Dense)             (None, 16)                1616      \n",
            "                                                                 \n",
            " dense_5 (Dense)             (None, 1)                 17        \n",
            "                                                                 \n",
            "=================================================================\n",
            "Total params: 1,001,633\n",
            "Trainable params: 1,001,633\n",
            "Non-trainable params: 0\n",
            "_________________________________________________________________\n"
          ]
        }
      ],
      "source": [
        "# your code goes here\n",
        "EMBED_SIZE = 100\n",
        "\n",
        "#Embedding layer\n",
        "word_embedding = Embedding(VOCAB_SIZE,EMBED_SIZE ,input_length= MAX_SEQUENCE_LENGTH, name='embed_layer')(input)\n",
        "                      \n",
        "#The second layer is the average layer\n",
        "average = GlobalAveragePooling1DMasked()(word_embedding)\n",
        "\n",
        "#Dense layer 1\n",
        "label1= Dense(16, activation='sigmoid')(average)\n",
        "\n",
        "#Dense layer 2\n",
        "label2= Dense(1, activation='sigmoid')(label1)\n",
        "\n",
        "model2 = Model(inputs=[input], outputs=[label2])  \n",
        "\n",
        "model2.summary()\n",
        "\n",
        "#compile\n",
        "model2.compile(loss=\"binary_crossentropy\", optimizer=\"adam\",metrics=[\"accuracy\"])\n",
        "\n"
      ]
    },
    {
      "cell_type": "code",
      "execution_count": null,
      "metadata": {
        "id": "uYmF5rdUKkcr"
      },
      "outputs": [],
      "source": [
        "X_val = np.array(X_train_enc[:10000])\n",
        "partial_X_train = np.array(X_train_enc[10000:])\n",
        "\n",
        "y_val = np.array(y_train[:10000])\n",
        "partial_y_train = np.array(y_train[10000:])"
      ]
    },
    {
      "cell_type": "code",
      "execution_count": null,
      "metadata": {
        "colab": {
          "base_uri": "https://localhost:8080/"
        },
        "id": "iHwkUIJPJ_sH",
        "outputId": "66bfe64d-3bf3-41cd-a874-9d0ddd9e1f97"
      },
      "outputs": [
        {
          "output_type": "stream",
          "name": "stdout",
          "text": [
            "Epoch 1/40\n",
            "30/30 [==============================] - 4s 110ms/step - loss: 0.6921 - accuracy: 0.5207 - val_loss: 0.6903 - val_accuracy: 0.6391\n",
            "Epoch 2/40\n",
            "30/30 [==============================] - 3s 103ms/step - loss: 0.6864 - accuracy: 0.6938 - val_loss: 0.6814 - val_accuracy: 0.7031\n",
            "Epoch 3/40\n",
            "30/30 [==============================] - 3s 111ms/step - loss: 0.6717 - accuracy: 0.7155 - val_loss: 0.6623 - val_accuracy: 0.7214\n",
            "Epoch 4/40\n",
            "30/30 [==============================] - 3s 115ms/step - loss: 0.6446 - accuracy: 0.7425 - val_loss: 0.6323 - val_accuracy: 0.7388\n",
            "Epoch 5/40\n",
            "30/30 [==============================] - 4s 123ms/step - loss: 0.6070 - accuracy: 0.7616 - val_loss: 0.5936 - val_accuracy: 0.7611\n",
            "Epoch 6/40\n",
            "30/30 [==============================] - 3s 106ms/step - loss: 0.5622 - accuracy: 0.7846 - val_loss: 0.5505 - val_accuracy: 0.7826\n",
            "Epoch 7/40\n",
            "30/30 [==============================] - 3s 104ms/step - loss: 0.5139 - accuracy: 0.8135 - val_loss: 0.5063 - val_accuracy: 0.8044\n",
            "Epoch 8/40\n",
            "30/30 [==============================] - 3s 115ms/step - loss: 0.4668 - accuracy: 0.8331 - val_loss: 0.4652 - val_accuracy: 0.8266\n",
            "Epoch 9/40\n",
            "30/30 [==============================] - 3s 102ms/step - loss: 0.4226 - accuracy: 0.8540 - val_loss: 0.4290 - val_accuracy: 0.8394\n",
            "Epoch 10/40\n",
            "30/30 [==============================] - 3s 102ms/step - loss: 0.3850 - accuracy: 0.8677 - val_loss: 0.3987 - val_accuracy: 0.8494\n",
            "Epoch 11/40\n",
            "30/30 [==============================] - 3s 101ms/step - loss: 0.3527 - accuracy: 0.8803 - val_loss: 0.3750 - val_accuracy: 0.8563\n",
            "Epoch 12/40\n",
            "30/30 [==============================] - 3s 103ms/step - loss: 0.3262 - accuracy: 0.8886 - val_loss: 0.3563 - val_accuracy: 0.8628\n",
            "Epoch 13/40\n",
            "30/30 [==============================] - 3s 110ms/step - loss: 0.3030 - accuracy: 0.8955 - val_loss: 0.3409 - val_accuracy: 0.8689\n",
            "Epoch 14/40\n",
            "30/30 [==============================] - 3s 104ms/step - loss: 0.2835 - accuracy: 0.9019 - val_loss: 0.3295 - val_accuracy: 0.8728\n",
            "Epoch 15/40\n",
            "30/30 [==============================] - 3s 103ms/step - loss: 0.2664 - accuracy: 0.9069 - val_loss: 0.3204 - val_accuracy: 0.8730\n",
            "Epoch 16/40\n",
            "30/30 [==============================] - 3s 109ms/step - loss: 0.2510 - accuracy: 0.9111 - val_loss: 0.3114 - val_accuracy: 0.8772\n",
            "Epoch 17/40\n",
            "30/30 [==============================] - 3s 104ms/step - loss: 0.2367 - accuracy: 0.9181 - val_loss: 0.3054 - val_accuracy: 0.8771\n",
            "Epoch 18/40\n",
            "30/30 [==============================] - 3s 105ms/step - loss: 0.2240 - accuracy: 0.9235 - val_loss: 0.2996 - val_accuracy: 0.8807\n",
            "Epoch 19/40\n",
            "30/30 [==============================] - 3s 105ms/step - loss: 0.2120 - accuracy: 0.9289 - val_loss: 0.2954 - val_accuracy: 0.8817\n",
            "Epoch 20/40\n",
            "30/30 [==============================] - 3s 104ms/step - loss: 0.2009 - accuracy: 0.9325 - val_loss: 0.2917 - val_accuracy: 0.8828\n",
            "Epoch 21/40\n",
            "30/30 [==============================] - 3s 107ms/step - loss: 0.1911 - accuracy: 0.9364 - val_loss: 0.2898 - val_accuracy: 0.8818\n",
            "Epoch 22/40\n",
            "30/30 [==============================] - 3s 108ms/step - loss: 0.1815 - accuracy: 0.9407 - val_loss: 0.2883 - val_accuracy: 0.8828\n",
            "Epoch 23/40\n",
            "30/30 [==============================] - 3s 113ms/step - loss: 0.1726 - accuracy: 0.9447 - val_loss: 0.2885 - val_accuracy: 0.8814\n",
            "Epoch 24/40\n",
            "30/30 [==============================] - 3s 110ms/step - loss: 0.1649 - accuracy: 0.9479 - val_loss: 0.2866 - val_accuracy: 0.8839\n",
            "Epoch 25/40\n",
            "30/30 [==============================] - 3s 110ms/step - loss: 0.1568 - accuracy: 0.9505 - val_loss: 0.2861 - val_accuracy: 0.8855\n",
            "Epoch 26/40\n",
            "30/30 [==============================] - 3s 105ms/step - loss: 0.1491 - accuracy: 0.9550 - val_loss: 0.2873 - val_accuracy: 0.8828\n",
            "Epoch 27/40\n",
            "30/30 [==============================] - 3s 105ms/step - loss: 0.1420 - accuracy: 0.9581 - val_loss: 0.2869 - val_accuracy: 0.8850\n",
            "Epoch 28/40\n",
            "30/30 [==============================] - 3s 104ms/step - loss: 0.1356 - accuracy: 0.9607 - val_loss: 0.2882 - val_accuracy: 0.8845\n",
            "Epoch 29/40\n",
            "30/30 [==============================] - 3s 105ms/step - loss: 0.1293 - accuracy: 0.9631 - val_loss: 0.2902 - val_accuracy: 0.8851\n",
            "Epoch 30/40\n",
            "30/30 [==============================] - 3s 103ms/step - loss: 0.1233 - accuracy: 0.9649 - val_loss: 0.2923 - val_accuracy: 0.8842\n",
            "Epoch 31/40\n",
            "30/30 [==============================] - 3s 103ms/step - loss: 0.1177 - accuracy: 0.9679 - val_loss: 0.2951 - val_accuracy: 0.8833\n",
            "Epoch 32/40\n",
            "30/30 [==============================] - 3s 110ms/step - loss: 0.1126 - accuracy: 0.9693 - val_loss: 0.2987 - val_accuracy: 0.8830\n",
            "Epoch 33/40\n",
            "30/30 [==============================] - 3s 101ms/step - loss: 0.1085 - accuracy: 0.9701 - val_loss: 0.3008 - val_accuracy: 0.8823\n",
            "Epoch 34/40\n",
            "30/30 [==============================] - 3s 110ms/step - loss: 0.1031 - accuracy: 0.9723 - val_loss: 0.3025 - val_accuracy: 0.8829\n",
            "Epoch 35/40\n",
            "30/30 [==============================] - 3s 102ms/step - loss: 0.0982 - accuracy: 0.9753 - val_loss: 0.3063 - val_accuracy: 0.8807\n",
            "Epoch 36/40\n",
            "30/30 [==============================] - 3s 106ms/step - loss: 0.0937 - accuracy: 0.9765 - val_loss: 0.3091 - val_accuracy: 0.8817\n",
            "Epoch 37/40\n",
            "30/30 [==============================] - 3s 108ms/step - loss: 0.0893 - accuracy: 0.9779 - val_loss: 0.3137 - val_accuracy: 0.8802\n",
            "Epoch 38/40\n",
            "30/30 [==============================] - 3s 106ms/step - loss: 0.0859 - accuracy: 0.9796 - val_loss: 0.3183 - val_accuracy: 0.8784\n",
            "Epoch 39/40\n",
            "30/30 [==============================] - 3s 102ms/step - loss: 0.0818 - accuracy: 0.9813 - val_loss: 0.3207 - val_accuracy: 0.8802\n",
            "Epoch 40/40\n",
            "30/30 [==============================] - 3s 107ms/step - loss: 0.0779 - accuracy: 0.9823 - val_loss: 0.3245 - val_accuracy: 0.8789\n"
          ]
        }
      ],
      "source": [
        "#Training\n",
        "\n",
        "history2 = model2.fit(partial_X_train,\n",
        "                    partial_y_train,\n",
        "                    epochs=40,\n",
        "                    batch_size=512,\n",
        "                    validation_data=(X_val, y_val),\n",
        "                    verbose=1)"
      ]
    },
    {
      "cell_type": "code",
      "execution_count": null,
      "metadata": {
        "colab": {
          "base_uri": "https://localhost:8080/"
        },
        "id": "I4zIPJDcTPq3",
        "outputId": "9f95317d-61f3-40d7-9039-077c41ff4c42"
      },
      "outputs": [
        {
          "output_type": "stream",
          "name": "stdout",
          "text": [
            "782/782 [==============================] - 2s 2ms/step - loss: 0.3459 - accuracy: 0.8697\n"
          ]
        }
      ],
      "source": [
        "results = model2.evaluate(X_test_enc, y_test)"
      ]
    },
    {
      "cell_type": "code",
      "execution_count": null,
      "metadata": {
        "colab": {
          "base_uri": "https://localhost:8080/"
        },
        "id": "waS96edDTRyL",
        "outputId": "55a26815-293d-46be-b534-506d646e42f7"
      },
      "outputs": [
        {
          "output_type": "stream",
          "name": "stdout",
          "text": [
            "[0.3459325134754181, 0.8696799874305725]\n"
          ]
        }
      ],
      "source": [
        "print (results)"
      ]
    },
    {
      "cell_type": "markdown",
      "metadata": {
        "id": "7FBpTc_rXGvQ"
      },
      "source": [
        "The accuracy of model2 is 87%. Using Embedding layer instead of one-hot layer improved the performance."
      ]
    },
    {
      "cell_type": "code",
      "execution_count": null,
      "metadata": {
        "colab": {
          "base_uri": "https://localhost:8080/",
          "height": 336
        },
        "id": "RmS1gl9DvwHf",
        "outputId": "43ab614c-8ca2-44d9-fb61-292e67906f3a"
      },
      "outputs": [
        {
          "output_type": "display_data",
          "data": {
            "text/plain": [
              "<Figure size 864x360 with 2 Axes>"
            ],
            "image/png": "[encoded data removed]"
          },
          "metadata": {
            "needs_background": "light"
          }
        }
      ],
      "source": [
        "# plotting a graph of accuracy and loss over time we can use Matplotlib:\n",
        "\n",
        "acc = history2.history['accuracy']\n",
        "val_acc = history2.history['val_accuracy']\n",
        "loss = history2.history['loss']\n",
        "val_loss = history2.history['val_loss']\n",
        "x = range(1, len(acc) + 1)\n",
        "\n",
        "plt.figure(figsize=(12, 5))\n",
        "plt.subplot(1, 2, 1)\n",
        "plt.plot(x, acc, 'b', label='Training accuracy')\n",
        "plt.plot(x, val_acc, 'r', label='Validation accuracy')\n",
        "plt.title('Training and validation accuracy')\n",
        "plt.legend()\n",
        "plt.subplot(1, 2, 2)\n",
        "plt.plot(x, loss, 'b', label='Training loss')\n",
        "plt.plot(x, val_loss, 'r', label='Validation loss')\n",
        "plt.title('Training and validation loss')\n",
        "plt.legend()\n",
        "\n",
        "plt.show()"
      ]
    },
    {
      "cell_type": "markdown",
      "metadata": {
        "id": "--020hfG6rN2"
      },
      "source": [
        "# Model 3: Using pre-trained word embeddings"
      ]
    },
    {
      "cell_type": "markdown",
      "metadata": {
        "id": "7GdY2-64YG1B"
      },
      "source": [
        "### Preparing pre-trained word embeddings (GLOVE)"
      ]
    },
    {
      "cell_type": "markdown",
      "metadata": {
        "id": "J4gBeOyi4gkM"
      },
      "source": [
        "The Embedding layer can be used to load a pre-trained word embedding model. We are going to use GloVe embeddings, which you can read about it here (https://nlp.stanford.edu/projects/glove/). GloVe stands for \"Global Vectors for Word Representation\". It's a somewhat popular embedding technique based on factorizing a matrix of word co-occurence statistics. You can download GloVe and we can seed the Keras Embedding layer with weights from the pre-trained embedding for the words in your dataset.\n",
        "First, we need to read GloVe and map words to GloVe:\n"
      ]
    },
    {
      "cell_type": "code",
      "execution_count": null,
      "metadata": {
        "id": "f_PypdqG9Iis"
      },
      "outputs": [],
      "source": [
        "def readGloveFile(gloveFile):\n",
        "    with open(gloveFile, 'r') as f:\n",
        "        wordToGlove = {}  \n",
        "        wordToIndex = {}  \n",
        "        indexToWord = {}  \n",
        "\n",
        "        for line in f:\n",
        "            record = line.strip().split()\n",
        "            token = record[0] \n",
        "            wordToGlove[token] = np.array(record[1:], dtype=np.float64) \n",
        "            \n",
        "        tokens = sorted(wordToGlove.keys())\n",
        "        for idx, tok in enumerate(tokens):\n",
        "            kerasIdx = idx + 1  \n",
        "            wordToIndex[tok] = kerasIdx \n",
        "            indexToWord[kerasIdx] = tok \n",
        "\n",
        "    return wordToIndex, indexToWord, wordToGlove"
      ]
    },
    {
      "cell_type": "markdown",
      "metadata": {
        "id": "ZcIZ3dq59bCh"
      },
      "source": [
        "Now, we create our pre-trained Embedding layer:"
      ]
    },
    {
      "cell_type": "code",
      "execution_count": null,
      "metadata": {
        "id": "gembn7VM3ex8"
      },
      "outputs": [],
      "source": [
        "from keras.initializers import Constant\n",
        "\n",
        "def createPretrainedEmbeddingLayer(wordToGlove, wordToIndex, isTrainable):\n",
        "    vocabLen = len(wordToIndex) + 1  \n",
        "    embDim = next(iter(wordToGlove.values())).shape[0]  \n",
        "   \n",
        "    embeddingMatrix = np.zeros((vocabLen, embDim))  \n",
        "    for word, index in wordToIndex.items():\n",
        "        embeddingMatrix[index, :] = wordToGlove[word] \n",
        "\n",
        "    embeddingLayer = Embedding(vocabLen, embDim, embeddings_initializer=Constant(embeddingMatrix), trainable=isTrainable, name='GloVe_Embeddings')\n",
        "    return embeddingLayer"
      ]
    },
    {
      "cell_type": "code",
      "execution_count": null,
      "metadata": {
        "colab": {
          "base_uri": "https://localhost:8080/"
        },
        "id": "8OC1wuctdFvA",
        "outputId": "a1272ec3-9535-4a74-9b84-11b99307c599"
      },
      "outputs": [
        {
          "output_type": "stream",
          "name": "stdout",
          "text": [
            "--2022-03-14 11:08:27--  http://nlp.stanford.edu/data/glove.6B.zip\n",
            "Resolving nlp.stanford.edu (nlp.stanford.edu)... 171.64.67.140\n",
            "Connecting to nlp.stanford.edu (nlp.stanford.edu)|171.64.67.140|:80... connected.\n",
            "HTTP request sent, awaiting response... 302 Found\n",
            "Location: https://nlp.stanford.edu/data/glove.6B.zip [following]\n",
            "--2022-03-14 11:08:27--  https://nlp.stanford.edu/data/glove.6B.zip\n",
            "Connecting to nlp.stanford.edu (nlp.stanford.edu)|171.64.67.140|:443... connected.\n",
            "HTTP request sent, awaiting response... 301 Moved Permanently\n",
            "Location: http://downloads.cs.stanford.edu/nlp/data/glove.6B.zip [following]\n",
            "--2022-03-14 11:08:28--  http://downloads.cs.stanford.edu/nlp/data/glove.6B.zip\n",
            "Resolving downloads.cs.stanford.edu (downloads.cs.stanford.edu)... 171.64.64.22\n",
            "Connecting to downloads.cs.stanford.edu (downloads.cs.stanford.edu)|171.64.64.22|:80... connected.\n",
            "HTTP request sent, awaiting response... 200 OK\n",
            "Length: 862182613 (822M) [application/zip]\n",
            "Saving to: ‘glove.6B.zip’\n",
            "\n",
            "glove.6B.zip        100%[===================>] 822.24M  5.00MB/s    in 2m 41s  \n",
            "\n",
            "2022-03-14 11:11:09 (5.10 MB/s) - ‘glove.6B.zip’ saved [862182613/862182613]\n",
            "\n",
            "Archive:  /content/glove.6B.zip\n",
            "  inflating: glove.6B.50d.txt        \n",
            "  inflating: glove.6B.100d.txt       \n",
            "  inflating: glove.6B.200d.txt       \n",
            "  inflating: glove.6B.300d.txt       \n"
          ]
        }
      ],
      "source": [
        "!wget http://nlp.stanford.edu/data/glove.6B.zip\n",
        "!unzip '/content/glove.6B.zip'"
      ]
    },
    {
      "cell_type": "markdown",
      "metadata": {
        "id": "HGxciLK4-xOr"
      },
      "source": [
        "We freeze the weights. To create the model: "
      ]
    },
    {
      "cell_type": "code",
      "execution_count": null,
      "metadata": {
        "colab": {
          "base_uri": "https://localhost:8080/"
        },
        "id": "PZCPUM0W_Drc",
        "outputId": "13494c89-09b5-4a1a-e51d-8443d2f325ce"
      },
      "outputs": [
        {
          "output_type": "stream",
          "name": "stdout",
          "text": [
            "Size of Embedding:  300\n"
          ]
        }
      ],
      "source": [
        "# wordToIndex,indexToWord,wordToGlove=readGloveFile('/content/glove.6B.50d.txt')\n",
        "# wordToIndex,indexToWord,wordToGlove=readGloveFile('/content/glove.6B.100d.txt')\n",
        "wordToIndex,indexToWord,wordToGlove=readGloveFile('/content/glove.6B.300d.txt')\n",
        "\n",
        "# vocabLen = len(wordToIndex) + 1 \n",
        "\n",
        "EMBED_SIZE = next(iter(wordToGlove.values())).shape[0]\n",
        "print('Size of Embedding: ',EMBED_SIZE)\n",
        "\n",
        "embeddingLayer=createPretrainedEmbeddingLayer(wordToGlove,wordToIndex,isTrainable=False)"
      ]
    },
    {
      "cell_type": "markdown",
      "metadata": {
        "id": "vdZ4nl08vp9A"
      },
      "source": [
        "## Model 3-1: Neural bag of words using pre-trained word embeddings"
      ]
    },
    {
      "cell_type": "markdown",
      "metadata": {
        "id": "2gyCwXFj_R5w"
      },
      "source": [
        "Now we change our model to use GloVe:"
      ]
    },
    {
      "cell_type": "code",
      "execution_count": null,
      "metadata": {
        "colab": {
          "base_uri": "https://localhost:8080/"
        },
        "id": "VICS9rY8C7KH",
        "outputId": "65e968cc-dd1e-4b47-f6c2-0b4477ed6600"
      },
      "outputs": [
        {
          "output_type": "stream",
          "name": "stdout",
          "text": [
            "Model: \"model_3\"\n",
            "_________________________________________________________________\n",
            " Layer (type)                Output Shape              Param #   \n",
            "=================================================================\n",
            " input_1 (InputLayer)        [(None, 256)]             0         \n",
            "                                                                 \n",
            " GloVe_Embeddings (Embedding  (None, 256, 300)         120000300 \n",
            " )                                                               \n",
            "                                                                 \n",
            " global_average_pooling1d_ma  (None, 300)              0         \n",
            " sked_3 (GlobalAveragePoolin                                     \n",
            " g1DMasked)                                                      \n",
            "                                                                 \n",
            " dense_6 (Dense)             (None, 16)                4816      \n",
            "                                                                 \n",
            " dense_7 (Dense)             (None, 1)                 17        \n",
            "                                                                 \n",
            "=================================================================\n",
            "Total params: 120,005,133\n",
            "Trainable params: 4,833\n",
            "Non-trainable params: 120,000,300\n",
            "_________________________________________________________________\n"
          ]
        }
      ],
      "source": [
        "# Inspect model performance with 1 hidden layer, pre-trained embeddings\n",
        "# your code goes here\n",
        "\n",
        "#Embedding layer\n",
        "word_embedding = embeddingLayer(input)\n",
        "                      \n",
        "#The second layer is the average layer\n",
        "average = GlobalAveragePooling1DMasked()(word_embedding)\n",
        "\n",
        "#Dense layer 1\n",
        "label1= Dense(16, activation='sigmoid')(average)\n",
        "\n",
        "#Dense layer 2\n",
        "label2= Dense(1, activation='sigmoid')(label1)\n",
        "\n",
        "model3 = Model(inputs=[input], outputs=[label2])  \n",
        "\n",
        "model3.summary()\n",
        "\n"
      ]
    },
    {
      "cell_type": "code",
      "execution_count": null,
      "metadata": {
        "colab": {
          "base_uri": "https://localhost:8080/"
        },
        "id": "r6sj_FnOD9Sb",
        "outputId": "07575a53-3fb3-4e17-fc2c-20a7b707d24f"
      },
      "outputs": [
        {
          "output_type": "stream",
          "name": "stdout",
          "text": [
            "Epoch 1/40\n",
            "30/30 [==============================] - 3s 67ms/step - loss: 0.6903 - accuracy: 0.5502 - val_loss: 0.6881 - val_accuracy: 0.5636\n",
            "Epoch 2/40\n",
            "30/30 [==============================] - 2s 62ms/step - loss: 0.6862 - accuracy: 0.5808 - val_loss: 0.6847 - val_accuracy: 0.5848\n",
            "Epoch 3/40\n",
            "30/30 [==============================] - 2s 61ms/step - loss: 0.6826 - accuracy: 0.5925 - val_loss: 0.6822 - val_accuracy: 0.5831\n",
            "Epoch 4/40\n",
            "30/30 [==============================] - 2s 61ms/step - loss: 0.6799 - accuracy: 0.5941 - val_loss: 0.6791 - val_accuracy: 0.5921\n",
            "Epoch 5/40\n",
            "30/30 [==============================] - 2s 62ms/step - loss: 0.6774 - accuracy: 0.5914 - val_loss: 0.6775 - val_accuracy: 0.5898\n",
            "Epoch 6/40\n",
            "30/30 [==============================] - 2s 61ms/step - loss: 0.6747 - accuracy: 0.5982 - val_loss: 0.6747 - val_accuracy: 0.5970\n",
            "Epoch 7/40\n",
            "30/30 [==============================] - 2s 62ms/step - loss: 0.6721 - accuracy: 0.6045 - val_loss: 0.6721 - val_accuracy: 0.6001\n",
            "Epoch 8/40\n",
            "30/30 [==============================] - 2s 63ms/step - loss: 0.6699 - accuracy: 0.6108 - val_loss: 0.6701 - val_accuracy: 0.6037\n",
            "Epoch 9/40\n",
            "30/30 [==============================] - 2s 61ms/step - loss: 0.6679 - accuracy: 0.6101 - val_loss: 0.6682 - val_accuracy: 0.6028\n",
            "Epoch 10/40\n",
            "30/30 [==============================] - 2s 62ms/step - loss: 0.6656 - accuracy: 0.6182 - val_loss: 0.6667 - val_accuracy: 0.6092\n",
            "Epoch 11/40\n",
            "30/30 [==============================] - 2s 59ms/step - loss: 0.6635 - accuracy: 0.6164 - val_loss: 0.6639 - val_accuracy: 0.6126\n",
            "Epoch 12/40\n",
            "30/30 [==============================] - 2s 59ms/step - loss: 0.6612 - accuracy: 0.6232 - val_loss: 0.6620 - val_accuracy: 0.6138\n",
            "Epoch 13/40\n",
            "30/30 [==============================] - 2s 58ms/step - loss: 0.6591 - accuracy: 0.6271 - val_loss: 0.6598 - val_accuracy: 0.6200\n",
            "Epoch 14/40\n",
            "30/30 [==============================] - 2s 59ms/step - loss: 0.6571 - accuracy: 0.6281 - val_loss: 0.6579 - val_accuracy: 0.6229\n",
            "Epoch 15/40\n",
            "30/30 [==============================] - 2s 58ms/step - loss: 0.6547 - accuracy: 0.6325 - val_loss: 0.6557 - val_accuracy: 0.6260\n",
            "Epoch 16/40\n",
            "30/30 [==============================] - 2s 58ms/step - loss: 0.6525 - accuracy: 0.6356 - val_loss: 0.6536 - val_accuracy: 0.6263\n",
            "Epoch 17/40\n",
            "30/30 [==============================] - 2s 58ms/step - loss: 0.6502 - accuracy: 0.6405 - val_loss: 0.6515 - val_accuracy: 0.6334\n",
            "Epoch 18/40\n",
            "30/30 [==============================] - 2s 59ms/step - loss: 0.6478 - accuracy: 0.6431 - val_loss: 0.6491 - val_accuracy: 0.6356\n",
            "Epoch 19/40\n",
            "30/30 [==============================] - 2s 58ms/step - loss: 0.6458 - accuracy: 0.6468 - val_loss: 0.6470 - val_accuracy: 0.6397\n",
            "Epoch 20/40\n",
            "30/30 [==============================] - 2s 59ms/step - loss: 0.6432 - accuracy: 0.6498 - val_loss: 0.6448 - val_accuracy: 0.6424\n",
            "Epoch 21/40\n",
            "30/30 [==============================] - 2s 58ms/step - loss: 0.6410 - accuracy: 0.6538 - val_loss: 0.6426 - val_accuracy: 0.6454\n",
            "Epoch 22/40\n",
            "30/30 [==============================] - 2s 58ms/step - loss: 0.6388 - accuracy: 0.6571 - val_loss: 0.6408 - val_accuracy: 0.6509\n",
            "Epoch 23/40\n",
            "30/30 [==============================] - 2s 58ms/step - loss: 0.6362 - accuracy: 0.6595 - val_loss: 0.6383 - val_accuracy: 0.6519\n",
            "Epoch 24/40\n",
            "30/30 [==============================] - 2s 58ms/step - loss: 0.6347 - accuracy: 0.6605 - val_loss: 0.6382 - val_accuracy: 0.6461\n",
            "Epoch 25/40\n",
            "30/30 [==============================] - 2s 58ms/step - loss: 0.6324 - accuracy: 0.6632 - val_loss: 0.6358 - val_accuracy: 0.6514\n",
            "Epoch 26/40\n",
            "30/30 [==============================] - 2s 59ms/step - loss: 0.6309 - accuracy: 0.6644 - val_loss: 0.6331 - val_accuracy: 0.6568\n",
            "Epoch 27/40\n",
            "30/30 [==============================] - 2s 58ms/step - loss: 0.6281 - accuracy: 0.6659 - val_loss: 0.6313 - val_accuracy: 0.6588\n",
            "Epoch 28/40\n",
            "30/30 [==============================] - 2s 58ms/step - loss: 0.6257 - accuracy: 0.6726 - val_loss: 0.6296 - val_accuracy: 0.6606\n",
            "Epoch 29/40\n",
            "30/30 [==============================] - 2s 58ms/step - loss: 0.6233 - accuracy: 0.6752 - val_loss: 0.6268 - val_accuracy: 0.6647\n",
            "Epoch 30/40\n",
            "30/30 [==============================] - 2s 58ms/step - loss: 0.6212 - accuracy: 0.6755 - val_loss: 0.6249 - val_accuracy: 0.6686\n",
            "Epoch 31/40\n",
            "30/30 [==============================] - 2s 58ms/step - loss: 0.6193 - accuracy: 0.6770 - val_loss: 0.6229 - val_accuracy: 0.6702\n",
            "Epoch 32/40\n",
            "30/30 [==============================] - 2s 58ms/step - loss: 0.6175 - accuracy: 0.6783 - val_loss: 0.6215 - val_accuracy: 0.6702\n",
            "Epoch 33/40\n",
            "30/30 [==============================] - 2s 58ms/step - loss: 0.6152 - accuracy: 0.6821 - val_loss: 0.6197 - val_accuracy: 0.6722\n",
            "Epoch 34/40\n",
            "30/30 [==============================] - 2s 57ms/step - loss: 0.6133 - accuracy: 0.6829 - val_loss: 0.6178 - val_accuracy: 0.6759\n",
            "Epoch 35/40\n",
            "30/30 [==============================] - 2s 58ms/step - loss: 0.6116 - accuracy: 0.6849 - val_loss: 0.6172 - val_accuracy: 0.6736\n",
            "Epoch 36/40\n",
            "30/30 [==============================] - 2s 58ms/step - loss: 0.6100 - accuracy: 0.6855 - val_loss: 0.6143 - val_accuracy: 0.6763\n",
            "Epoch 37/40\n",
            "30/30 [==============================] - 2s 58ms/step - loss: 0.6076 - accuracy: 0.6874 - val_loss: 0.6133 - val_accuracy: 0.6774\n",
            "Epoch 38/40\n",
            "30/30 [==============================] - 2s 58ms/step - loss: 0.6059 - accuracy: 0.6885 - val_loss: 0.6112 - val_accuracy: 0.6797\n",
            "Epoch 39/40\n",
            "30/30 [==============================] - 2s 58ms/step - loss: 0.6042 - accuracy: 0.6905 - val_loss: 0.6104 - val_accuracy: 0.6781\n",
            "Epoch 40/40\n",
            "30/30 [==============================] - 2s 58ms/step - loss: 0.6028 - accuracy: 0.6914 - val_loss: 0.6084 - val_accuracy: 0.6806\n"
          ]
        }
      ],
      "source": [
        "#compile\n",
        "model3.compile(loss=\"binary_crossentropy\", optimizer=\"adam\",metrics=[\"accuracy\"])\n",
        "\n",
        "# Train and test the model\n",
        "X_val = np.array(X_train_enc[:10000])\n",
        "partial_X_train = np.array(X_train_enc[10000:])\n",
        "\n",
        "y_val = np.array(y_train[:10000])\n",
        "partial_y_train = np.array(y_train[10000:])\n",
        "\n",
        "#Training\n",
        "\n",
        "history3 = model3.fit(partial_X_train,\n",
        "                    partial_y_train,\n",
        "                    epochs=40,\n",
        "                    batch_size=512,\n",
        "                    validation_data=(X_val, y_val),\n",
        "                    verbose=1)\n"
      ]
    },
    {
      "cell_type": "code",
      "execution_count": null,
      "metadata": {
        "colab": {
          "base_uri": "https://localhost:8080/"
        },
        "id": "RCEd6rgyPp_5",
        "outputId": "dfc13b1c-2f7b-4549-e93c-da6f6f6bff39"
      },
      "outputs": [
        {
          "output_type": "stream",
          "name": "stdout",
          "text": [
            "782/782 [==============================] - 5s 7ms/step - loss: 0.6086 - accuracy: 0.6800\n",
            "[0.6085658073425293, 0.6799600124359131]\n"
          ]
        }
      ],
      "source": [
        "results = model3.evaluate(X_test_enc, y_test)\n",
        "\n",
        "print(results)"
      ]
    },
    {
      "cell_type": "code",
      "execution_count": null,
      "metadata": {
        "colab": {
          "base_uri": "https://localhost:8080/",
          "height": 336
        },
        "id": "jHFmVf8gx-T-",
        "outputId": "85120260-8eea-4f9e-ea03-5f7f11e3ac73"
      },
      "outputs": [
        {
          "output_type": "display_data",
          "data": {
            "text/plain": [
              "<Figure size 864x360 with 2 Axes>"
            ],
            "image/png": "[encoded data removed]"
          },
          "metadata": {
            "needs_background": "light"
          }
        }
      ],
      "source": [
        "# plotting a graph of accuracy and loss over time we can use Matplotlib:\n",
        "\n",
        "acc = history3.history['accuracy']\n",
        "val_acc = history3.history['val_accuracy']\n",
        "loss = history3.history['loss']\n",
        "val_loss = history3.history['val_loss']\n",
        "x = range(1, len(acc) + 1)\n",
        "\n",
        "plt.figure(figsize=(12, 5))\n",
        "plt.subplot(1, 2, 1)\n",
        "plt.plot(x, acc, 'b', label='Training accuracy')\n",
        "plt.plot(x, val_acc, 'r', label='Validation accuracy')\n",
        "plt.title('Training and validation accuracy')\n",
        "plt.legend()\n",
        "plt.subplot(1, 2, 2)\n",
        "plt.plot(x, loss, 'b', label='Training loss')\n",
        "plt.plot(x, val_loss, 'r', label='Validation loss')\n",
        "plt.title('Training and validation loss')\n",
        "plt.legend()\n",
        "\n",
        "plt.show()"
      ]
    },
    {
      "cell_type": "markdown",
      "metadata": {
        "id": "wxJhlT3whoDE"
      },
      "source": [
        "To compare freezing and fine-tuning the pre-train embedding weights, we fine-tune the weights here:"
      ]
    },
    {
      "cell_type": "code",
      "execution_count": null,
      "metadata": {
        "colab": {
          "base_uri": "https://localhost:8080/"
        },
        "id": "u_xmeuuhhtbH",
        "outputId": "37bfd235-f7be-4f6f-c61f-245ad9af6a67"
      },
      "outputs": [
        {
          "output_type": "stream",
          "name": "stdout",
          "text": [
            "Model: \"model_4\"\n",
            "_________________________________________________________________\n",
            " Layer (type)                Output Shape              Param #   \n",
            "=================================================================\n",
            " input_1 (InputLayer)        [(None, 256)]             0         \n",
            "                                                                 \n",
            " GloVe_Embeddings (Embedding  (None, 256, 300)         120000300 \n",
            " )                                                               \n",
            "                                                                 \n",
            " global_average_pooling1d_ma  (None, 300)              0         \n",
            " sked_4 (GlobalAveragePoolin                                     \n",
            " g1DMasked)                                                      \n",
            "                                                                 \n",
            " dense_8 (Dense)             (None, 16)                4816      \n",
            "                                                                 \n",
            " dense_9 (Dense)             (None, 1)                 17        \n",
            "                                                                 \n",
            "=================================================================\n",
            "Total params: 120,005,133\n",
            "Trainable params: 120,005,133\n",
            "Non-trainable params: 0\n",
            "_________________________________________________________________\n"
          ]
        }
      ],
      "source": [
        "# your code goes here\n",
        "\n",
        "embeddingLayer2=createPretrainedEmbeddingLayer(wordToGlove,wordToIndex,isTrainable=True)\n",
        "\n",
        "#Embedding layer\n",
        "word_embedding = embeddingLayer2(input)\n",
        "                      \n",
        "#The second layer is the average layer\n",
        "average = GlobalAveragePooling1DMasked()(word_embedding)\n",
        "\n",
        "#Dense layer 1\n",
        "label1= Dense(16, activation='sigmoid')(average)\n",
        "\n",
        "#Dense layer 2\n",
        "label2= Dense(1, activation='sigmoid')(label1)\n",
        "\n",
        "model3 = Model(inputs=[input], outputs=[label2])  \n",
        "\n",
        "model3.summary()\n"
      ]
    },
    {
      "cell_type": "code",
      "execution_count": null,
      "metadata": {
        "colab": {
          "base_uri": "https://localhost:8080/"
        },
        "id": "3rz8MEm6iHj6",
        "outputId": "e56c4f85-40aa-4465-afdf-53ed0b62e169"
      },
      "outputs": [
        {
          "output_type": "stream",
          "name": "stdout",
          "text": [
            "Epoch 1/40\n",
            "30/30 [==============================] - 25s 797ms/step - loss: 0.8106 - accuracy: 0.4965 - val_loss: 0.7067 - val_accuracy: 0.5074\n",
            "Epoch 2/40\n",
            "30/30 [==============================] - 24s 789ms/step - loss: 0.6963 - accuracy: 0.5078 - val_loss: 0.6921 - val_accuracy: 0.5194\n",
            "Epoch 3/40\n",
            "30/30 [==============================] - 24s 787ms/step - loss: 0.6861 - accuracy: 0.5390 - val_loss: 0.6817 - val_accuracy: 0.5582\n",
            "Epoch 4/40\n",
            "30/30 [==============================] - 25s 820ms/step - loss: 0.6759 - accuracy: 0.6190 - val_loss: 0.6714 - val_accuracy: 0.6673\n",
            "Epoch 5/40\n",
            "30/30 [==============================] - 24s 815ms/step - loss: 0.6635 - accuracy: 0.7003 - val_loss: 0.6585 - val_accuracy: 0.7124\n",
            "Epoch 6/40\n",
            "30/30 [==============================] - 23s 772ms/step - loss: 0.6473 - accuracy: 0.7324 - val_loss: 0.6405 - val_accuracy: 0.7283\n",
            "Epoch 7/40\n",
            "30/30 [==============================] - 23s 774ms/step - loss: 0.6243 - accuracy: 0.7483 - val_loss: 0.6152 - val_accuracy: 0.7408\n",
            "Epoch 8/40\n",
            "30/30 [==============================] - 23s 775ms/step - loss: 0.5933 - accuracy: 0.7640 - val_loss: 0.5824 - val_accuracy: 0.7670\n",
            "Epoch 9/40\n",
            "30/30 [==============================] - 24s 791ms/step - loss: 0.5541 - accuracy: 0.7907 - val_loss: 0.5429 - val_accuracy: 0.7882\n",
            "Epoch 10/40\n",
            "30/30 [==============================] - 24s 815ms/step - loss: 0.5100 - accuracy: 0.8141 - val_loss: 0.5025 - val_accuracy: 0.8025\n",
            "Epoch 11/40\n",
            "30/30 [==============================] - 24s 814ms/step - loss: 0.4645 - accuracy: 0.8353 - val_loss: 0.4610 - val_accuracy: 0.8275\n",
            "Epoch 12/40\n",
            "30/30 [==============================] - 23s 765ms/step - loss: 0.4219 - accuracy: 0.8594 - val_loss: 0.4246 - val_accuracy: 0.8477\n",
            "Epoch 13/40\n",
            "30/30 [==============================] - 24s 811ms/step - loss: 0.3844 - accuracy: 0.8717 - val_loss: 0.3952 - val_accuracy: 0.8548\n",
            "Epoch 14/40\n",
            "30/30 [==============================] - 24s 813ms/step - loss: 0.3539 - accuracy: 0.8790 - val_loss: 0.3718 - val_accuracy: 0.8620\n",
            "Epoch 15/40\n",
            "30/30 [==============================] - 23s 764ms/step - loss: 0.3274 - accuracy: 0.8885 - val_loss: 0.3535 - val_accuracy: 0.8657\n",
            "Epoch 16/40\n",
            "30/30 [==============================] - 25s 850ms/step - loss: 0.3048 - accuracy: 0.8954 - val_loss: 0.3390 - val_accuracy: 0.8694\n",
            "Epoch 17/40\n",
            "30/30 [==============================] - 23s 770ms/step - loss: 0.2854 - accuracy: 0.9020 - val_loss: 0.3266 - val_accuracy: 0.8733\n",
            "Epoch 18/40\n",
            "30/30 [==============================] - 23s 766ms/step - loss: 0.2682 - accuracy: 0.9082 - val_loss: 0.3167 - val_accuracy: 0.8762\n",
            "Epoch 19/40\n",
            "30/30 [==============================] - 23s 759ms/step - loss: 0.2528 - accuracy: 0.9144 - val_loss: 0.3090 - val_accuracy: 0.8782\n",
            "Epoch 20/40\n",
            "30/30 [==============================] - 23s 766ms/step - loss: 0.2392 - accuracy: 0.9186 - val_loss: 0.3023 - val_accuracy: 0.8793\n",
            "Epoch 21/40\n",
            "30/30 [==============================] - 23s 766ms/step - loss: 0.2262 - accuracy: 0.9237 - val_loss: 0.2983 - val_accuracy: 0.8809\n",
            "Epoch 22/40\n",
            "30/30 [==============================] - 23s 775ms/step - loss: 0.2148 - accuracy: 0.9289 - val_loss: 0.2959 - val_accuracy: 0.8816\n",
            "Epoch 23/40\n",
            "30/30 [==============================] - 23s 772ms/step - loss: 0.2037 - accuracy: 0.9333 - val_loss: 0.2899 - val_accuracy: 0.8846\n",
            "Epoch 24/40\n",
            "30/30 [==============================] - 23s 776ms/step - loss: 0.1931 - accuracy: 0.9385 - val_loss: 0.2888 - val_accuracy: 0.8844\n",
            "Epoch 25/40\n",
            "30/30 [==============================] - 23s 773ms/step - loss: 0.1844 - accuracy: 0.9413 - val_loss: 0.2852 - val_accuracy: 0.8861\n",
            "Epoch 26/40\n",
            "30/30 [==============================] - 23s 772ms/step - loss: 0.1751 - accuracy: 0.9455 - val_loss: 0.2845 - val_accuracy: 0.8865\n",
            "Epoch 27/40\n",
            "30/30 [==============================] - 23s 776ms/step - loss: 0.1669 - accuracy: 0.9487 - val_loss: 0.2834 - val_accuracy: 0.8856\n",
            "Epoch 28/40\n",
            "30/30 [==============================] - 23s 784ms/step - loss: 0.1589 - accuracy: 0.9535 - val_loss: 0.2833 - val_accuracy: 0.8874\n",
            "Epoch 29/40\n",
            "30/30 [==============================] - 23s 768ms/step - loss: 0.1512 - accuracy: 0.9555 - val_loss: 0.2847 - val_accuracy: 0.8860\n",
            "Epoch 30/40\n",
            "30/30 [==============================] - 23s 772ms/step - loss: 0.1450 - accuracy: 0.9579 - val_loss: 0.2840 - val_accuracy: 0.8869\n",
            "Epoch 31/40\n",
            "30/30 [==============================] - 23s 767ms/step - loss: 0.1378 - accuracy: 0.9606 - val_loss: 0.2852 - val_accuracy: 0.8864\n",
            "Epoch 32/40\n",
            "30/30 [==============================] - 23s 763ms/step - loss: 0.1317 - accuracy: 0.9619 - val_loss: 0.2878 - val_accuracy: 0.8855\n",
            "Epoch 33/40\n",
            "30/30 [==============================] - 23s 771ms/step - loss: 0.1257 - accuracy: 0.9653 - val_loss: 0.2900 - val_accuracy: 0.8854\n",
            "Epoch 34/40\n",
            "30/30 [==============================] - 23s 769ms/step - loss: 0.1204 - accuracy: 0.9671 - val_loss: 0.2950 - val_accuracy: 0.8826\n",
            "Epoch 35/40\n",
            "30/30 [==============================] - 23s 776ms/step - loss: 0.1153 - accuracy: 0.9693 - val_loss: 0.2958 - val_accuracy: 0.8835\n",
            "Epoch 36/40\n",
            "30/30 [==============================] - 23s 777ms/step - loss: 0.1104 - accuracy: 0.9707 - val_loss: 0.2969 - val_accuracy: 0.8830\n",
            "Epoch 37/40\n",
            "30/30 [==============================] - 23s 770ms/step - loss: 0.1048 - accuracy: 0.9725 - val_loss: 0.2977 - val_accuracy: 0.8824\n",
            "Epoch 38/40\n",
            "30/30 [==============================] - 23s 768ms/step - loss: 0.0998 - accuracy: 0.9756 - val_loss: 0.3008 - val_accuracy: 0.8822\n",
            "Epoch 39/40\n",
            "30/30 [==============================] - 25s 834ms/step - loss: 0.0959 - accuracy: 0.9760 - val_loss: 0.3052 - val_accuracy: 0.8814\n",
            "Epoch 40/40\n",
            "30/30 [==============================] - 24s 813ms/step - loss: 0.0912 - accuracy: 0.9782 - val_loss: 0.3072 - val_accuracy: 0.8812\n"
          ]
        }
      ],
      "source": [
        "# Train and test the model\n",
        "#compile\n",
        "model3.compile(loss=\"binary_crossentropy\", optimizer=\"adam\",metrics=[\"accuracy\"])\n",
        "\n",
        "# Train and test the model\n",
        "X_val = np.array(X_train_enc[:10000])\n",
        "partial_X_train = np.array(X_train_enc[10000:])\n",
        "\n",
        "y_val = np.array(y_train[:10000])\n",
        "partial_y_train = np.array(y_train[10000:])\n",
        "\n",
        "#Training\n",
        "\n",
        "history3 = model3.fit(partial_X_train,\n",
        "                    partial_y_train,\n",
        "                    epochs=40,\n",
        "                    batch_size=512,\n",
        "                    validation_data=(X_val, y_val),\n",
        "                    verbose=1)"
      ]
    },
    {
      "cell_type": "code",
      "execution_count": null,
      "metadata": {
        "colab": {
          "base_uri": "https://localhost:8080/"
        },
        "id": "lvwVL9B9Ru9P",
        "outputId": "675cea7f-ddaf-4354-f0c3-70f5d9283669"
      },
      "outputs": [
        {
          "output_type": "stream",
          "name": "stdout",
          "text": [
            "782/782 [==============================] - 10s 13ms/step - loss: 0.3292 - accuracy: 0.8721\n",
            "[0.32916513085365295, 0.8720800280570984]\n"
          ]
        }
      ],
      "source": [
        "results = model3.evaluate(X_test_enc, y_test)\n",
        "\n",
        "print(results)"
      ]
    },
    {
      "cell_type": "code",
      "source": [
        "# plotting a graph of accuracy and loss over time we can use Matplotlib:\n",
        "\n",
        "acc = history3.history['accuracy']\n",
        "val_acc = history3.history['val_accuracy']\n",
        "loss = history3.history['loss']\n",
        "val_loss = history3.history['val_loss']\n",
        "x = range(1, len(acc) + 1)\n",
        "\n",
        "plt.figure(figsize=(12, 5))\n",
        "plt.subplot(1, 2, 1)\n",
        "plt.plot(x, acc, 'b', label='Training accuracy')\n",
        "plt.plot(x, val_acc, 'r', label='Validation accuracy')\n",
        "plt.title('Training and validation accuracy')\n",
        "plt.legend()\n",
        "plt.subplot(1, 2, 2)\n",
        "plt.plot(x, loss, 'b', label='Training loss')\n",
        "plt.plot(x, val_loss, 'r', label='Validation loss')\n",
        "plt.title('Training and validation loss')\n",
        "plt.legend()\n",
        "\n",
        "plt.show()"
      ],
      "metadata": {
        "colab": {
          "base_uri": "https://localhost:8080/",
          "height": 336
        },
        "id": "Ggtgn8upJVmH",
        "outputId": "b372f6c8-8cd1-4a69-ecef-bda0ae2ff951"
      },
      "execution_count": null,
      "outputs": [
        {
          "output_type": "display_data",
          "data": {
            "text/plain": [
              "<Figure size 864x360 with 2 Axes>"
            ],
            "image/png": "[encoded data removed]"
          },
          "metadata": {
            "needs_background": "light"
          }
        }
      ]
    },
    {
      "cell_type": "markdown",
      "metadata": {
        "id": "cAdOh2IHnKuT"
      },
      "source": [
        "Experiments here show that fine-tuning the pre-trained embeddings would obtain better accuracy.\n",
        "\n",
        "Note that although fine-tuning the pre-trained embeddings is better here, we do not fine-tune it in other models. You could conduct extra experiments to compare the results."
      ]
    },
    {
      "cell_type": "markdown",
      "metadata": {
        "id": "xZ1KWFKvcagS"
      },
      "source": [
        "##  Model 3-2: LSTM with pre-trained word embeddings"
      ]
    },
    {
      "cell_type": "markdown",
      "metadata": {
        "id": "S1lKisy3kb60"
      },
      "source": [
        "In previous labs, we have conducted an experiment based on LSTM. Now, we replace its embeddings with the GloVe pre-trained embeddings."
      ]
    },
    {
      "cell_type": "code",
      "execution_count": null,
      "metadata": {
        "colab": {
          "base_uri": "https://localhost:8080/"
        },
        "id": "oz92rv2iTbo8",
        "outputId": "94c4de5b-4de0-4997-bf00-c40266d2cd66"
      },
      "outputs": [
        {
          "output_type": "stream",
          "name": "stdout",
          "text": [
            "Model: \"model_5\"\n",
            "_________________________________________________________________\n",
            " Layer (type)                Output Shape              Param #   \n",
            "=================================================================\n",
            " input_1 (InputLayer)        [(None, 256)]             0         \n",
            "                                                                 \n",
            " GloVe_Embeddings (Embedding  (None, 256, 300)         120000300 \n",
            " )                                                               \n",
            "                                                                 \n",
            " lstm (LSTM)                 (None, 100)               160400    \n",
            "                                                                 \n",
            " dense_10 (Dense)            (None, 16)                1616      \n",
            "                                                                 \n",
            " dense_11 (Dense)            (None, 1)                 17        \n",
            "                                                                 \n",
            "=================================================================\n",
            "Total params: 120,162,333\n",
            "Trainable params: 162,033\n",
            "Non-trainable params: 120,000,300\n",
            "_________________________________________________________________\n"
          ]
        }
      ],
      "source": [
        "# your code goes here\n",
        "\n",
        "from keras.layers import LSTM\n",
        "\n",
        "embeddingLayer=createPretrainedEmbeddingLayer(wordToGlove,wordToIndex,isTrainable=False)\n",
        "\n",
        "#Embedding layer\n",
        "word_embedding = embeddingLayer(input)\n",
        "                      \n",
        "#LSTM with 100 units\n",
        "lstm= LSTM(100, return_sequences=False)(word_embedding)\n",
        "\n",
        "#Dense layer 1\n",
        "label1= Dense(16, activation='sigmoid')(lstm)\n",
        "\n",
        "#Dense layer 2\n",
        "label2= Dense(1, activation='sigmoid')(label1)\n",
        " \n",
        "model7 = Model(inputs=[input], outputs=[label2])  \n",
        "\n",
        "model7.summary()"
      ]
    },
    {
      "cell_type": "code",
      "execution_count": null,
      "metadata": {
        "colab": {
          "base_uri": "https://localhost:8080/"
        },
        "id": "EqyL_rhaUElx",
        "outputId": "7de268a7-bbde-4fd7-fcb6-3373babea734"
      },
      "outputs": [
        {
          "name": "stdout",
          "output_type": "stream",
          "text": [
            "Epoch 1/40\n",
            "30/30 [==============================] - 9s 192ms/step - loss: 0.6893 - accuracy: 0.5212 - val_loss: 0.6853 - val_accuracy: 0.5269\n",
            "Epoch 2/40\n",
            "30/30 [==============================] - 5s 173ms/step - loss: 0.6791 - accuracy: 0.5437 - val_loss: 0.6766 - val_accuracy: 0.5476\n",
            "Epoch 3/40\n",
            "30/30 [==============================] - 5s 173ms/step - loss: 0.6567 - accuracy: 0.5981 - val_loss: 0.6705 - val_accuracy: 0.5599\n",
            "Epoch 4/40\n",
            "30/30 [==============================] - 5s 174ms/step - loss: 0.6522 - accuracy: 0.6236 - val_loss: 0.6558 - val_accuracy: 0.6128\n",
            "Epoch 5/40\n",
            "30/30 [==============================] - 5s 173ms/step - loss: 0.6549 - accuracy: 0.6153 - val_loss: 0.6701 - val_accuracy: 0.6065\n",
            "Epoch 6/40\n",
            "30/30 [==============================] - 5s 173ms/step - loss: 0.6403 - accuracy: 0.6345 - val_loss: 0.6312 - val_accuracy: 0.6547\n",
            "Epoch 7/40\n",
            "30/30 [==============================] - 5s 173ms/step - loss: 0.6816 - accuracy: 0.5399 - val_loss: 0.6833 - val_accuracy: 0.5217\n",
            "Epoch 8/40\n",
            "30/30 [==============================] - 5s 174ms/step - loss: 0.6651 - accuracy: 0.5589 - val_loss: 0.6746 - val_accuracy: 0.5373\n",
            "Epoch 9/40\n",
            "30/30 [==============================] - 5s 173ms/step - loss: 0.6563 - accuracy: 0.5697 - val_loss: 0.6684 - val_accuracy: 0.5478\n",
            "Epoch 10/40\n",
            "30/30 [==============================] - 5s 173ms/step - loss: 0.6385 - accuracy: 0.6183 - val_loss: 0.6561 - val_accuracy: 0.6233\n",
            "Epoch 11/40\n",
            "30/30 [==============================] - 5s 173ms/step - loss: 0.6806 - accuracy: 0.5549 - val_loss: 0.6872 - val_accuracy: 0.5158\n",
            "Epoch 12/40\n",
            "30/30 [==============================] - 5s 173ms/step - loss: 0.6682 - accuracy: 0.5592 - val_loss: 0.6800 - val_accuracy: 0.5227\n",
            "Epoch 13/40\n",
            "30/30 [==============================] - 5s 173ms/step - loss: 0.6616 - accuracy: 0.5675 - val_loss: 0.6774 - val_accuracy: 0.5272\n",
            "Epoch 14/40\n",
            "30/30 [==============================] - 5s 173ms/step - loss: 0.6554 - accuracy: 0.5722 - val_loss: 0.6752 - val_accuracy: 0.5323\n",
            "Epoch 15/40\n",
            "30/30 [==============================] - 5s 172ms/step - loss: 0.6490 - accuracy: 0.5735 - val_loss: 0.6733 - val_accuracy: 0.5345\n",
            "Epoch 16/40\n",
            "30/30 [==============================] - 5s 172ms/step - loss: 0.6398 - accuracy: 0.5841 - val_loss: 0.6619 - val_accuracy: 0.5651\n",
            "Epoch 17/40\n",
            "30/30 [==============================] - 5s 174ms/step - loss: 0.6122 - accuracy: 0.6351 - val_loss: 0.6142 - val_accuracy: 0.6772\n",
            "Epoch 18/40\n",
            "30/30 [==============================] - 5s 173ms/step - loss: 0.5690 - accuracy: 0.7173 - val_loss: 0.6864 - val_accuracy: 0.6635\n",
            "Epoch 19/40\n",
            "30/30 [==============================] - 5s 173ms/step - loss: 0.6440 - accuracy: 0.5922 - val_loss: 0.6684 - val_accuracy: 0.5390\n",
            "Epoch 20/40\n",
            "30/30 [==============================] - 5s 173ms/step - loss: 0.6289 - accuracy: 0.6000 - val_loss: 0.6539 - val_accuracy: 0.5737\n",
            "Epoch 21/40\n",
            "30/30 [==============================] - 5s 173ms/step - loss: 0.5955 - accuracy: 0.6715 - val_loss: 0.6184 - val_accuracy: 0.6798\n",
            "Epoch 22/40\n",
            "30/30 [==============================] - 5s 172ms/step - loss: 0.5920 - accuracy: 0.6998 - val_loss: 0.6064 - val_accuracy: 0.6800\n",
            "Epoch 23/40\n",
            "30/30 [==============================] - 5s 173ms/step - loss: 0.5900 - accuracy: 0.6949 - val_loss: 0.6888 - val_accuracy: 0.5481\n",
            "Epoch 24/40\n",
            "30/30 [==============================] - 5s 175ms/step - loss: 0.6491 - accuracy: 0.5585 - val_loss: 0.6739 - val_accuracy: 0.5373\n",
            "Epoch 25/40\n",
            "30/30 [==============================] - 5s 175ms/step - loss: 0.6200 - accuracy: 0.6328 - val_loss: 0.6409 - val_accuracy: 0.6420\n",
            "Epoch 26/40\n",
            "30/30 [==============================] - 5s 173ms/step - loss: 0.6119 - accuracy: 0.6430 - val_loss: 0.6609 - val_accuracy: 0.6204\n",
            "Epoch 27/40\n",
            "30/30 [==============================] - 5s 175ms/step - loss: 0.6224 - accuracy: 0.6648 - val_loss: 0.6568 - val_accuracy: 0.6190\n",
            "Epoch 28/40\n",
            "30/30 [==============================] - 5s 174ms/step - loss: 0.6013 - accuracy: 0.6815 - val_loss: 0.6606 - val_accuracy: 0.6143\n",
            "Epoch 29/40\n",
            "30/30 [==============================] - 5s 174ms/step - loss: 0.6183 - accuracy: 0.6593 - val_loss: 0.6596 - val_accuracy: 0.5428\n",
            "Epoch 30/40\n",
            "30/30 [==============================] - 5s 175ms/step - loss: 0.6543 - accuracy: 0.5811 - val_loss: 0.6758 - val_accuracy: 0.5343\n",
            "Epoch 31/40\n",
            "30/30 [==============================] - 5s 175ms/step - loss: 0.6377 - accuracy: 0.5862 - val_loss: 0.6707 - val_accuracy: 0.5414\n",
            "Epoch 32/40\n",
            "30/30 [==============================] - 5s 175ms/step - loss: 0.6243 - accuracy: 0.6129 - val_loss: 0.6514 - val_accuracy: 0.6321\n",
            "Epoch 33/40\n",
            "30/30 [==============================] - 5s 173ms/step - loss: 0.6179 - accuracy: 0.6460 - val_loss: 0.6758 - val_accuracy: 0.5488\n",
            "Epoch 34/40\n",
            "30/30 [==============================] - 5s 174ms/step - loss: 0.6236 - accuracy: 0.5881 - val_loss: 0.6686 - val_accuracy: 0.5537\n",
            "Epoch 35/40\n",
            "30/30 [==============================] - 5s 173ms/step - loss: 0.6154 - accuracy: 0.5993 - val_loss: 0.6657 - val_accuracy: 0.5658\n",
            "Epoch 36/40\n",
            "30/30 [==============================] - 5s 174ms/step - loss: 0.6059 - accuracy: 0.6197 - val_loss: 0.6272 - val_accuracy: 0.6692\n",
            "Epoch 37/40\n",
            "30/30 [==============================] - 5s 175ms/step - loss: 0.5619 - accuracy: 0.7233 - val_loss: 0.7690 - val_accuracy: 0.5299\n",
            "Epoch 38/40\n",
            "30/30 [==============================] - 5s 174ms/step - loss: 0.6590 - accuracy: 0.5581 - val_loss: 0.6813 - val_accuracy: 0.5286\n",
            "Epoch 39/40\n",
            "30/30 [==============================] - 5s 175ms/step - loss: 0.6273 - accuracy: 0.5957 - val_loss: 0.6757 - val_accuracy: 0.5370\n",
            "Epoch 40/40\n",
            "30/30 [==============================] - 5s 173ms/step - loss: 0.6196 - accuracy: 0.6017 - val_loss: 0.6752 - val_accuracy: 0.5375\n"
          ]
        }
      ],
      "source": [
        "# Train and test the model\n",
        "\n",
        "#compile\n",
        "model7.compile(loss=\"binary_crossentropy\", optimizer=\"adam\",metrics=[\"accuracy\"])\n",
        "\n",
        "# Train and test the model\n",
        "X_val = np.array(X_train_enc[:10000])\n",
        "partial_X_train = np.array(X_train_enc[10000:])\n",
        "\n",
        "y_val = np.array(y_train[:10000])\n",
        "partial_y_train = np.array(y_train[10000:])\n",
        "\n",
        "#Training\n",
        "\n",
        "history7 = model7.fit(partial_X_train,\n",
        "                    partial_y_train,\n",
        "                    epochs=40,\n",
        "                    batch_size=512,\n",
        "                    validation_data=(X_val, y_val),\n",
        "                    verbose=1)"
      ]
    },
    {
      "cell_type": "code",
      "execution_count": null,
      "metadata": {
        "colab": {
          "base_uri": "https://localhost:8080/"
        },
        "id": "FapTDy8jVTqh",
        "outputId": "e22e2516-649e-4431-96c4-d097a2ef2312"
      },
      "outputs": [
        {
          "name": "stdout",
          "output_type": "stream",
          "text": [
            "782/782 [==============================] - 16s 21ms/step - loss: 0.6797 - accuracy: 0.5322\n",
            "[0.6797044277191162, 0.5322399735450745]\n"
          ]
        }
      ],
      "source": [
        "results = model7.evaluate(X_test_enc, y_test)\n",
        "\n",
        "print(results)"
      ]
    },
    {
      "cell_type": "markdown",
      "metadata": {
        "id": "XOqePi5-I1Xq"
      },
      "source": [
        "Experiment show that simply replacing the lab 2 model embeddings with pre-trained word embeddings (GloVe) will cause performance to drop significantly. \n",
        "What can you do to improve the situation?"
      ]
    },
    {
      "cell_type": "markdown",
      "metadata": {
        "id": "M-bZ5SCHiIMl"
      },
      "source": [
        "#  Model 4: Adding extra dense layer into Neural averaging network model"
      ]
    },
    {
      "cell_type": "markdown",
      "metadata": {
        "id": "G85QM3lSV7qp"
      },
      "source": [
        "We add extra dense layers into model 3-1 (neural network model) to evaluate extra dense layers' contribution. We start by adding one layer, then add two. All parameters are the same as model 3-1."
      ]
    },
    {
      "cell_type": "markdown",
      "metadata": {
        "id": "ExgX8bxpVgps"
      },
      "source": [
        "### Adding one extra dense layer"
      ]
    },
    {
      "cell_type": "code",
      "execution_count": null,
      "metadata": {
        "colab": {
          "base_uri": "https://localhost:8080/"
        },
        "id": "dTgD_gMzXa1z",
        "outputId": "6e21b66e-d286-4f5b-bb03-80cd97f1c15d"
      },
      "outputs": [
        {
          "output_type": "stream",
          "name": "stdout",
          "text": [
            "Model: \"model_9\"\n",
            "_________________________________________________________________\n",
            " Layer (type)                Output Shape              Param #   \n",
            "=================================================================\n",
            " input_1 (InputLayer)        [(None, 256)]             0         \n",
            "                                                                 \n",
            " GloVe_Embeddings (Embedding  (None, 256, 300)         120000300 \n",
            " )                                                               \n",
            "                                                                 \n",
            " global_average_pooling1d_ma  (None, 300)              0         \n",
            " sked_8 (GlobalAveragePoolin                                     \n",
            " g1DMasked)                                                      \n",
            "                                                                 \n",
            " dense_22 (Dense)            (None, 100)               30100     \n",
            "                                                                 \n",
            " dense_23 (Dense)            (None, 16)                1616      \n",
            "                                                                 \n",
            " dense_24 (Dense)            (None, 1)                 17        \n",
            "                                                                 \n",
            "=================================================================\n",
            "Total params: 120,032,033\n",
            "Trainable params: 31,733\n",
            "Non-trainable params: 120,000,300\n",
            "_________________________________________________________________\n"
          ]
        }
      ],
      "source": [
        "# Inspect model performance with 1 hidden layer, pre-trained embeddings\n",
        "# your code goes here\n",
        "\n",
        "#Embedding layer\n",
        "word_embedding = embeddingLayer(input)\n",
        "                      \n",
        "#The second layer is the average layer\n",
        "average = GlobalAveragePooling1DMasked()(word_embedding)\n",
        "\n",
        "#Extra dense layer\n",
        "dense1= Dense(100, activation='sigmoid')(average)\n",
        "\n",
        "#Dense layer 1\n",
        "label1= Dense(16, activation='sigmoid')(dense1)\n",
        "\n",
        "#Dense layer 2\n",
        "label2= Dense(1, activation='sigmoid')(label1)\n",
        "\n",
        "model3 = Model(inputs=[input], outputs=[label2])  \n",
        "\n",
        "model3.summary()"
      ]
    },
    {
      "cell_type": "code",
      "execution_count": null,
      "metadata": {
        "colab": {
          "base_uri": "https://localhost:8080/"
        },
        "id": "KxzEOc4KVBNB",
        "outputId": "cd1176bc-f393-407d-e890-4ab1e8c954b6"
      },
      "outputs": [
        {
          "output_type": "stream",
          "name": "stdout",
          "text": [
            "Epoch 1/40\n",
            "30/30 [==============================] - 2s 64ms/step - loss: 0.7141 - accuracy: 0.5004 - val_loss: 0.6968 - val_accuracy: 0.4947\n",
            "Epoch 2/40\n",
            "30/30 [==============================] - 2s 59ms/step - loss: 0.6925 - accuracy: 0.5206 - val_loss: 0.6913 - val_accuracy: 0.5270\n",
            "Epoch 3/40\n",
            "30/30 [==============================] - 2s 59ms/step - loss: 0.6905 - accuracy: 0.5402 - val_loss: 0.6900 - val_accuracy: 0.5493\n",
            "Epoch 4/40\n",
            "30/30 [==============================] - 2s 60ms/step - loss: 0.6890 - accuracy: 0.5661 - val_loss: 0.6885 - val_accuracy: 0.5695\n",
            "Epoch 5/40\n",
            "30/30 [==============================] - 2s 59ms/step - loss: 0.6874 - accuracy: 0.5707 - val_loss: 0.6865 - val_accuracy: 0.5785\n",
            "Epoch 6/40\n",
            "30/30 [==============================] - 2s 59ms/step - loss: 0.6849 - accuracy: 0.5762 - val_loss: 0.6840 - val_accuracy: 0.5849\n",
            "Epoch 7/40\n",
            "30/30 [==============================] - 2s 59ms/step - loss: 0.6824 - accuracy: 0.5873 - val_loss: 0.6817 - val_accuracy: 0.5845\n",
            "Epoch 8/40\n",
            "30/30 [==============================] - 2s 59ms/step - loss: 0.6795 - accuracy: 0.5934 - val_loss: 0.6789 - val_accuracy: 0.5895\n",
            "Epoch 9/40\n",
            "30/30 [==============================] - 2s 59ms/step - loss: 0.6766 - accuracy: 0.5937 - val_loss: 0.6758 - val_accuracy: 0.5911\n",
            "Epoch 10/40\n",
            "30/30 [==============================] - 2s 60ms/step - loss: 0.6730 - accuracy: 0.6000 - val_loss: 0.6731 - val_accuracy: 0.5928\n",
            "Epoch 11/40\n",
            "30/30 [==============================] - 2s 59ms/step - loss: 0.6698 - accuracy: 0.6033 - val_loss: 0.6688 - val_accuracy: 0.6004\n",
            "Epoch 12/40\n",
            "30/30 [==============================] - 2s 59ms/step - loss: 0.6656 - accuracy: 0.6098 - val_loss: 0.6649 - val_accuracy: 0.6061\n",
            "Epoch 13/40\n",
            "30/30 [==============================] - 2s 60ms/step - loss: 0.6613 - accuracy: 0.6155 - val_loss: 0.6606 - val_accuracy: 0.6097\n",
            "Epoch 14/40\n",
            "30/30 [==============================] - 2s 59ms/step - loss: 0.6568 - accuracy: 0.6257 - val_loss: 0.6559 - val_accuracy: 0.6195\n",
            "Epoch 15/40\n",
            "30/30 [==============================] - 2s 59ms/step - loss: 0.6516 - accuracy: 0.6325 - val_loss: 0.6507 - val_accuracy: 0.6292\n",
            "Epoch 16/40\n",
            "30/30 [==============================] - 2s 59ms/step - loss: 0.6459 - accuracy: 0.6378 - val_loss: 0.6457 - val_accuracy: 0.6290\n",
            "Epoch 17/40\n",
            "30/30 [==============================] - 2s 59ms/step - loss: 0.6407 - accuracy: 0.6447 - val_loss: 0.6394 - val_accuracy: 0.6462\n",
            "Epoch 18/40\n",
            "30/30 [==============================] - 2s 59ms/step - loss: 0.6338 - accuracy: 0.6583 - val_loss: 0.6337 - val_accuracy: 0.6500\n",
            "Epoch 19/40\n",
            "30/30 [==============================] - 2s 59ms/step - loss: 0.6292 - accuracy: 0.6619 - val_loss: 0.6299 - val_accuracy: 0.6548\n",
            "Epoch 20/40\n",
            "30/30 [==============================] - 2s 59ms/step - loss: 0.6214 - accuracy: 0.6704 - val_loss: 0.6221 - val_accuracy: 0.6661\n",
            "Epoch 21/40\n",
            "30/30 [==============================] - 2s 59ms/step - loss: 0.6145 - accuracy: 0.6778 - val_loss: 0.6190 - val_accuracy: 0.6652\n",
            "Epoch 22/40\n",
            "30/30 [==============================] - 2s 59ms/step - loss: 0.6095 - accuracy: 0.6812 - val_loss: 0.6171 - val_accuracy: 0.6652\n",
            "Epoch 23/40\n",
            "30/30 [==============================] - 2s 59ms/step - loss: 0.6048 - accuracy: 0.6848 - val_loss: 0.6073 - val_accuracy: 0.6799\n",
            "Epoch 24/40\n",
            "30/30 [==============================] - 2s 60ms/step - loss: 0.5990 - accuracy: 0.6899 - val_loss: 0.6040 - val_accuracy: 0.6821\n",
            "Epoch 25/40\n",
            "30/30 [==============================] - 2s 60ms/step - loss: 0.5945 - accuracy: 0.6943 - val_loss: 0.5992 - val_accuracy: 0.6882\n",
            "Epoch 26/40\n",
            "30/30 [==============================] - 2s 59ms/step - loss: 0.5898 - accuracy: 0.6979 - val_loss: 0.5997 - val_accuracy: 0.6813\n",
            "Epoch 27/40\n",
            "30/30 [==============================] - 2s 59ms/step - loss: 0.5880 - accuracy: 0.6965 - val_loss: 0.5928 - val_accuracy: 0.6919\n",
            "Epoch 28/40\n",
            "30/30 [==============================] - 2s 59ms/step - loss: 0.5831 - accuracy: 0.7013 - val_loss: 0.5941 - val_accuracy: 0.6844\n",
            "Epoch 29/40\n",
            "30/30 [==============================] - 2s 59ms/step - loss: 0.5809 - accuracy: 0.7024 - val_loss: 0.5883 - val_accuracy: 0.6954\n",
            "Epoch 30/40\n",
            "30/30 [==============================] - 2s 60ms/step - loss: 0.5775 - accuracy: 0.7067 - val_loss: 0.5846 - val_accuracy: 0.6978\n",
            "Epoch 31/40\n",
            "30/30 [==============================] - 2s 60ms/step - loss: 0.5742 - accuracy: 0.7083 - val_loss: 0.5864 - val_accuracy: 0.6915\n",
            "Epoch 32/40\n",
            "30/30 [==============================] - 2s 60ms/step - loss: 0.5721 - accuracy: 0.7089 - val_loss: 0.5801 - val_accuracy: 0.6999\n",
            "Epoch 33/40\n",
            "30/30 [==============================] - 2s 59ms/step - loss: 0.5690 - accuracy: 0.7135 - val_loss: 0.5791 - val_accuracy: 0.7019\n",
            "Epoch 34/40\n",
            "30/30 [==============================] - 2s 59ms/step - loss: 0.5698 - accuracy: 0.7125 - val_loss: 0.5764 - val_accuracy: 0.7046\n",
            "Epoch 35/40\n",
            "30/30 [==============================] - 2s 59ms/step - loss: 0.5650 - accuracy: 0.7153 - val_loss: 0.5740 - val_accuracy: 0.7071\n",
            "Epoch 36/40\n",
            "30/30 [==============================] - 2s 60ms/step - loss: 0.5628 - accuracy: 0.7174 - val_loss: 0.5722 - val_accuracy: 0.7087\n",
            "Epoch 37/40\n",
            "30/30 [==============================] - 2s 59ms/step - loss: 0.5619 - accuracy: 0.7149 - val_loss: 0.5706 - val_accuracy: 0.7085\n",
            "Epoch 38/40\n",
            "30/30 [==============================] - 2s 59ms/step - loss: 0.5598 - accuracy: 0.7187 - val_loss: 0.5710 - val_accuracy: 0.7077\n",
            "Epoch 39/40\n",
            "30/30 [==============================] - 2s 60ms/step - loss: 0.5596 - accuracy: 0.7175 - val_loss: 0.5676 - val_accuracy: 0.7107\n",
            "Epoch 40/40\n",
            "30/30 [==============================] - 2s 59ms/step - loss: 0.5561 - accuracy: 0.7215 - val_loss: 0.5671 - val_accuracy: 0.7113\n"
          ]
        }
      ],
      "source": [
        "# Train and test the model\n",
        "\n",
        "#compile\n",
        "model3.compile(loss=\"binary_crossentropy\", optimizer=\"adam\",metrics=[\"accuracy\"])\n",
        "\n",
        "# Train and test the model\n",
        "X_val = np.array(X_train_enc[:10000])\n",
        "partial_X_train = np.array(X_train_enc[10000:])\n",
        "\n",
        "y_val = np.array(y_train[:10000])\n",
        "partial_y_train = np.array(y_train[10000:])\n",
        "\n",
        "#Training\n",
        "\n",
        "history3 = model3.fit(partial_X_train,\n",
        "                    partial_y_train,\n",
        "                    epochs=40,\n",
        "                    batch_size=512,\n",
        "                    validation_data=(X_val, y_val),\n",
        "                    verbose=1)"
      ]
    },
    {
      "cell_type": "code",
      "execution_count": null,
      "metadata": {
        "colab": {
          "base_uri": "https://localhost:8080/"
        },
        "id": "VzXhEK68VJo9",
        "outputId": "b8a84e3a-2a33-4848-df98-43673772b869"
      },
      "outputs": [
        {
          "output_type": "stream",
          "name": "stdout",
          "text": [
            "782/782 [==============================] - 2s 3ms/step - loss: 0.5691 - accuracy: 0.7063\n",
            "[0.5691006779670715, 0.706279993057251]\n"
          ]
        }
      ],
      "source": [
        "results = model3.evaluate(X_test_enc, y_test)\n",
        "\n",
        "print(results)"
      ]
    },
    {
      "cell_type": "code",
      "source": [
        "# plotting a graph of accuracy and loss over time we can use Matplotlib:\n",
        "\n",
        "acc = history3.history['accuracy']\n",
        "val_acc = history3.history['val_accuracy']\n",
        "loss = history3.history['loss']\n",
        "val_loss = history3.history['val_loss']\n",
        "x = range(1, len(acc) + 1)\n",
        "\n",
        "plt.figure(figsize=(12, 5))\n",
        "plt.subplot(1, 2, 1)\n",
        "plt.plot(x, acc, 'b', label='Training accuracy')\n",
        "plt.plot(x, val_acc, 'r', label='Validation accuracy')\n",
        "plt.title('Training and validation accuracy')\n",
        "plt.legend()\n",
        "plt.subplot(1, 2, 2)\n",
        "plt.plot(x, loss, 'b', label='Training loss')\n",
        "plt.plot(x, val_loss, 'r', label='Validation loss')\n",
        "plt.title('Training and validation loss')\n",
        "plt.legend()\n",
        "\n",
        "plt.show()"
      ],
      "metadata": {
        "colab": {
          "base_uri": "https://localhost:8080/",
          "height": 336
        },
        "id": "mEoLBridR87X",
        "outputId": "d94c7a8f-e1cd-4dcc-cb83-f5be4dca2667"
      },
      "execution_count": null,
      "outputs": [
        {
          "output_type": "display_data",
          "data": {
            "text/plain": [
              "<Figure size 864x360 with 2 Axes>"
            ],
            "image/png": "[encoded data removed]"
          },
          "metadata": {
            "needs_background": "light"
          }
        }
      ]
    },
    {
      "cell_type": "markdown",
      "metadata": {
        "id": "K0npTvFuVt5R"
      },
      "source": [
        "### Adding two extra dense layers"
      ]
    },
    {
      "cell_type": "code",
      "execution_count": null,
      "metadata": {
        "colab": {
          "base_uri": "https://localhost:8080/"
        },
        "id": "PowyhyRqcdDA",
        "outputId": "5aaf09a8-5439-4873-fb65-b1acd662da1f"
      },
      "outputs": [
        {
          "output_type": "stream",
          "name": "stdout",
          "text": [
            "Model: \"model_8\"\n",
            "_________________________________________________________________\n",
            " Layer (type)                Output Shape              Param #   \n",
            "=================================================================\n",
            " input_1 (InputLayer)        [(None, 256)]             0         \n",
            "                                                                 \n",
            " GloVe_Embeddings (Embedding  (None, 256, 300)         120000300 \n",
            " )                                                               \n",
            "                                                                 \n",
            " global_average_pooling1d_ma  (None, 300)              0         \n",
            " sked_7 (GlobalAveragePoolin                                     \n",
            " g1DMasked)                                                      \n",
            "                                                                 \n",
            " dense_18 (Dense)            (None, 300)               90300     \n",
            "                                                                 \n",
            " dense_19 (Dense)            (None, 100)               30100     \n",
            "                                                                 \n",
            " dense_20 (Dense)            (None, 16)                1616      \n",
            "                                                                 \n",
            " dense_21 (Dense)            (None, 1)                 17        \n",
            "                                                                 \n",
            "=================================================================\n",
            "Total params: 120,122,333\n",
            "Trainable params: 122,033\n",
            "Non-trainable params: 120,000,300\n",
            "_________________________________________________________________\n"
          ]
        }
      ],
      "source": [
        "# Inspect model performance with 1 hidden layer, pre-trained embeddings\n",
        "# your code goes here\n",
        "\n",
        "#Embedding layer\n",
        "word_embedding = embeddingLayer(input)\n",
        "                      \n",
        "#The second layer is the average layer\n",
        "average = GlobalAveragePooling1DMasked()(word_embedding)\n",
        "\n",
        "#Extra dense layer 1\n",
        "dense1= Dense(300, activation='sigmoid')(average)\n",
        "\n",
        "#Extra dense layer 2\n",
        "dense2= Dense(100, activation='sigmoid')(dense1)\n",
        "\n",
        "#Dense layer 1\n",
        "label1= Dense(16, activation='sigmoid')(dense2)\n",
        "\n",
        "#Dense layer 2\n",
        "label2= Dense(1, activation='sigmoid')(label1)\n",
        "\n",
        "\n",
        "model3 = Model(inputs=[input], outputs=[label2])  \n",
        "\n",
        "\n",
        "model3.summary()\n"
      ]
    },
    {
      "cell_type": "code",
      "execution_count": null,
      "metadata": {
        "colab": {
          "base_uri": "https://localhost:8080/"
        },
        "id": "AhYVEAu1WlJr",
        "outputId": "161da258-3397-4db3-e84d-b70fdb105a4f"
      },
      "outputs": [
        {
          "output_type": "stream",
          "name": "stdout",
          "text": [
            "Epoch 1/40\n",
            "30/30 [==============================] - 3s 69ms/step - loss: 0.6969 - accuracy: 0.5031 - val_loss: 0.6932 - val_accuracy: 0.4947\n",
            "Epoch 2/40\n",
            "30/30 [==============================] - 2s 63ms/step - loss: 0.6923 - accuracy: 0.5119 - val_loss: 0.6930 - val_accuracy: 0.4947\n",
            "Epoch 3/40\n",
            "30/30 [==============================] - 2s 63ms/step - loss: 0.6914 - accuracy: 0.5405 - val_loss: 0.6910 - val_accuracy: 0.5073\n",
            "Epoch 4/40\n",
            "30/30 [==============================] - 2s 62ms/step - loss: 0.6887 - accuracy: 0.5555 - val_loss: 0.6865 - val_accuracy: 0.5744\n",
            "Epoch 5/40\n",
            "30/30 [==============================] - 2s 63ms/step - loss: 0.6838 - accuracy: 0.5759 - val_loss: 0.6801 - val_accuracy: 0.5872\n",
            "Epoch 6/40\n",
            "30/30 [==============================] - 2s 63ms/step - loss: 0.6757 - accuracy: 0.5931 - val_loss: 0.6724 - val_accuracy: 0.5850\n",
            "Epoch 7/40\n",
            "30/30 [==============================] - 2s 63ms/step - loss: 0.6690 - accuracy: 0.5905 - val_loss: 0.6648 - val_accuracy: 0.6021\n",
            "Epoch 8/40\n",
            "30/30 [==============================] - 2s 64ms/step - loss: 0.6607 - accuracy: 0.6045 - val_loss: 0.6573 - val_accuracy: 0.6150\n",
            "Epoch 9/40\n",
            "30/30 [==============================] - 2s 63ms/step - loss: 0.6525 - accuracy: 0.6235 - val_loss: 0.6537 - val_accuracy: 0.6171\n",
            "Epoch 10/40\n",
            "30/30 [==============================] - 2s 64ms/step - loss: 0.6415 - accuracy: 0.6368 - val_loss: 0.6388 - val_accuracy: 0.6357\n",
            "Epoch 11/40\n",
            "30/30 [==============================] - 2s 66ms/step - loss: 0.6291 - accuracy: 0.6541 - val_loss: 0.6242 - val_accuracy: 0.6599\n",
            "Epoch 12/40\n",
            "30/30 [==============================] - 2s 64ms/step - loss: 0.6157 - accuracy: 0.6733 - val_loss: 0.6134 - val_accuracy: 0.6717\n",
            "Epoch 13/40\n",
            "30/30 [==============================] - 2s 66ms/step - loss: 0.6033 - accuracy: 0.6824 - val_loss: 0.6043 - val_accuracy: 0.6788\n",
            "Epoch 14/40\n",
            "30/30 [==============================] - 2s 64ms/step - loss: 0.5964 - accuracy: 0.6894 - val_loss: 0.5975 - val_accuracy: 0.6833\n",
            "Epoch 15/40\n",
            "30/30 [==============================] - 2s 63ms/step - loss: 0.5882 - accuracy: 0.6937 - val_loss: 0.6024 - val_accuracy: 0.6757\n",
            "Epoch 16/40\n",
            "30/30 [==============================] - 2s 63ms/step - loss: 0.5824 - accuracy: 0.7009 - val_loss: 0.5910 - val_accuracy: 0.6862\n",
            "Epoch 17/40\n",
            "30/30 [==============================] - 2s 64ms/step - loss: 0.5792 - accuracy: 0.7000 - val_loss: 0.5834 - val_accuracy: 0.6979\n",
            "Epoch 18/40\n",
            "30/30 [==============================] - 2s 64ms/step - loss: 0.5726 - accuracy: 0.7071 - val_loss: 0.5801 - val_accuracy: 0.7014\n",
            "Epoch 19/40\n",
            "30/30 [==============================] - 2s 63ms/step - loss: 0.5690 - accuracy: 0.7097 - val_loss: 0.5963 - val_accuracy: 0.6821\n",
            "Epoch 20/40\n",
            "30/30 [==============================] - 2s 64ms/step - loss: 0.5763 - accuracy: 0.7012 - val_loss: 0.5749 - val_accuracy: 0.7032\n",
            "Epoch 21/40\n",
            "30/30 [==============================] - 2s 64ms/step - loss: 0.5625 - accuracy: 0.7144 - val_loss: 0.5719 - val_accuracy: 0.7078\n",
            "Epoch 22/40\n",
            "30/30 [==============================] - 2s 64ms/step - loss: 0.5623 - accuracy: 0.7163 - val_loss: 0.5694 - val_accuracy: 0.7087\n",
            "Epoch 23/40\n",
            "30/30 [==============================] - 2s 64ms/step - loss: 0.5582 - accuracy: 0.7203 - val_loss: 0.5747 - val_accuracy: 0.7057\n",
            "Epoch 24/40\n",
            "30/30 [==============================] - 2s 63ms/step - loss: 0.5606 - accuracy: 0.7134 - val_loss: 0.5663 - val_accuracy: 0.7108\n",
            "Epoch 25/40\n",
            "30/30 [==============================] - 2s 64ms/step - loss: 0.5569 - accuracy: 0.7183 - val_loss: 0.5641 - val_accuracy: 0.7127\n",
            "Epoch 26/40\n",
            "30/30 [==============================] - 2s 67ms/step - loss: 0.5580 - accuracy: 0.7171 - val_loss: 0.5630 - val_accuracy: 0.7155\n",
            "Epoch 27/40\n",
            "30/30 [==============================] - 2s 68ms/step - loss: 0.5530 - accuracy: 0.7211 - val_loss: 0.5614 - val_accuracy: 0.7150\n",
            "Epoch 28/40\n",
            "30/30 [==============================] - 2s 68ms/step - loss: 0.5489 - accuracy: 0.7247 - val_loss: 0.5646 - val_accuracy: 0.7140\n",
            "Epoch 29/40\n",
            "30/30 [==============================] - 2s 64ms/step - loss: 0.5474 - accuracy: 0.7279 - val_loss: 0.5576 - val_accuracy: 0.7167\n",
            "Epoch 30/40\n",
            "30/30 [==============================] - 2s 64ms/step - loss: 0.5466 - accuracy: 0.7277 - val_loss: 0.5572 - val_accuracy: 0.7193\n",
            "Epoch 31/40\n",
            "30/30 [==============================] - 2s 64ms/step - loss: 0.5444 - accuracy: 0.7282 - val_loss: 0.5560 - val_accuracy: 0.7195\n",
            "Epoch 32/40\n",
            "30/30 [==============================] - 2s 63ms/step - loss: 0.5436 - accuracy: 0.7301 - val_loss: 0.5542 - val_accuracy: 0.7209\n",
            "Epoch 33/40\n",
            "30/30 [==============================] - 2s 64ms/step - loss: 0.5418 - accuracy: 0.7323 - val_loss: 0.5538 - val_accuracy: 0.7212\n",
            "Epoch 34/40\n",
            "30/30 [==============================] - 2s 66ms/step - loss: 0.5413 - accuracy: 0.7317 - val_loss: 0.5640 - val_accuracy: 0.7159\n",
            "Epoch 35/40\n",
            "30/30 [==============================] - 2s 63ms/step - loss: 0.5397 - accuracy: 0.7331 - val_loss: 0.5503 - val_accuracy: 0.7236\n",
            "Epoch 36/40\n",
            "30/30 [==============================] - 2s 64ms/step - loss: 0.5407 - accuracy: 0.7306 - val_loss: 0.5653 - val_accuracy: 0.7133\n",
            "Epoch 37/40\n",
            "30/30 [==============================] - 2s 64ms/step - loss: 0.5439 - accuracy: 0.7294 - val_loss: 0.5561 - val_accuracy: 0.7177\n",
            "Epoch 38/40\n",
            "30/30 [==============================] - 2s 64ms/step - loss: 0.5370 - accuracy: 0.7337 - val_loss: 0.5550 - val_accuracy: 0.7170\n",
            "Epoch 39/40\n",
            "30/30 [==============================] - 2s 64ms/step - loss: 0.5354 - accuracy: 0.7373 - val_loss: 0.5473 - val_accuracy: 0.7266\n",
            "Epoch 40/40\n",
            "30/30 [==============================] - 2s 83ms/step - loss: 0.5376 - accuracy: 0.7345 - val_loss: 0.5483 - val_accuracy: 0.7238\n"
          ]
        }
      ],
      "source": [
        "# Train and test the model\n",
        "\n",
        "#compile\n",
        "model3.compile(loss=\"binary_crossentropy\", optimizer=\"adam\",metrics=[\"accuracy\"])\n",
        "\n",
        "# Train and test the model\n",
        "X_val = np.array(X_train_enc[:10000])\n",
        "partial_X_train = np.array(X_train_enc[10000:])\n",
        "\n",
        "y_val = np.array(y_train[:10000])\n",
        "partial_y_train = np.array(y_train[10000:])\n",
        "\n",
        "#Training\n",
        "\n",
        "history3 = model3.fit(partial_X_train,\n",
        "                    partial_y_train,\n",
        "                    epochs=40,\n",
        "                    batch_size=512,\n",
        "                    validation_data=(X_val, y_val),\n",
        "                    verbose=1)"
      ]
    },
    {
      "cell_type": "code",
      "execution_count": null,
      "metadata": {
        "colab": {
          "base_uri": "https://localhost:8080/"
        },
        "id": "CzISjTNFWuJO",
        "outputId": "75c4cdfc-3e9c-4ccc-9480-304838cf6d63"
      },
      "outputs": [
        {
          "output_type": "stream",
          "name": "stdout",
          "text": [
            "782/782 [==============================] - 2s 3ms/step - loss: 0.5514 - accuracy: 0.7190\n",
            "[0.5514171719551086, 0.7189599871635437]\n"
          ]
        }
      ],
      "source": [
        "results = model3.evaluate(X_test_enc, y_test)\n",
        "\n",
        "print(results)"
      ]
    },
    {
      "cell_type": "code",
      "source": [
        "# plotting a graph of accuracy and loss over time we can use Matplotlib:\n",
        "\n",
        "acc = history3.history['accuracy']\n",
        "val_acc = history3.history['val_accuracy']\n",
        "loss = history3.history['loss']\n",
        "val_loss = history3.history['val_loss']\n",
        "x = range(1, len(acc) + 1)\n",
        "\n",
        "plt.figure(figsize=(12, 5))\n",
        "plt.subplot(1, 2, 1)\n",
        "plt.plot(x, acc, 'b', label='Training accuracy')\n",
        "plt.plot(x, val_acc, 'r', label='Validation accuracy')\n",
        "plt.title('Training and validation accuracy')\n",
        "plt.legend()\n",
        "plt.subplot(1, 2, 2)\n",
        "plt.plot(x, loss, 'b', label='Training loss')\n",
        "plt.plot(x, val_loss, 'r', label='Validation loss')\n",
        "plt.title('Training and validation loss')\n",
        "plt.legend()\n",
        "\n",
        "plt.show()"
      ],
      "metadata": {
        "colab": {
          "base_uri": "https://localhost:8080/",
          "height": 336
        },
        "id": "6_0M6tywRkUv",
        "outputId": "a719b075-0ea8-45b0-cced-eece2380a85d"
      },
      "execution_count": null,
      "outputs": [
        {
          "output_type": "display_data",
          "data": {
            "text/plain": [
              "<Figure size 864x360 with 2 Axes>"
            ],
            "image/png": "[encoded data removed]"
          },
          "metadata": {
            "needs_background": "light"
          }
        }
      ]
    },
    {
      "cell_type": "markdown",
      "metadata": {
        "id": "XisS32PaTATf"
      },
      "source": [
        "These two experiments show that adding extra dense layers can slightly improve accuracy over model 3-1.\n",
        "\n",
        "---\n",
        "\n"
      ]
    },
    {
      "cell_type": "markdown",
      "metadata": {
        "id": "CrfC9Mu-RHID"
      },
      "source": [
        "#  Model 5: CNN for Text Classification"
      ]
    },
    {
      "cell_type": "markdown",
      "metadata": {
        "id": "EPaFmFk1BMFf"
      },
      "source": [
        "In this section, we build a Convolutional Neural Network (CNN) for text classification. We start by using one CNN layer and then adding another layer. You could use embeddings from pre-trained or scratch."
      ]
    },
    {
      "cell_type": "markdown",
      "metadata": {
        "id": "zjOJrGCzwGM5"
      },
      "source": [
        "##  Model 5-1: Basic CNN model for Text Classification "
      ]
    },
    {
      "cell_type": "code",
      "execution_count": null,
      "metadata": {
        "colab": {
          "base_uri": "https://localhost:8080/"
        },
        "id": "rXBstOw0sCYF",
        "outputId": "968db1b0-1d44-4ead-8cc9-b2dc5ec533c3"
      },
      "outputs": [
        {
          "output_type": "stream",
          "name": "stdout",
          "text": [
            "Model: \"model_10\"\n",
            "_________________________________________________________________\n",
            " Layer (type)                Output Shape              Param #   \n",
            "=================================================================\n",
            " input_1 (InputLayer)        [(None, 256)]             0         \n",
            "                                                                 \n",
            " embedding (Embedding)       (None, 256, 300)          3000000   \n",
            "                                                                 \n",
            " CNN1D (Conv1D)              (None, 251, 100)          180100    \n",
            "                                                                 \n",
            " MaxPool (GlobalAveragePooli  (None, 100)              0         \n",
            " ng1DMasked)                                                     \n",
            "                                                                 \n",
            " Output (Dense)              (None, 1)                 101       \n",
            "                                                                 \n",
            "=================================================================\n",
            "Total params: 3,180,201\n",
            "Trainable params: 3,180,201\n",
            "Non-trainable params: 0\n",
            "_________________________________________________________________\n"
          ]
        }
      ],
      "source": [
        "hidden_layer=16\n",
        "EMBED_SIZE = 300\n",
        "\n",
        "# your code goes here\n",
        "from keras.layers import Conv1D\n",
        "\n",
        "#Embedding layer\n",
        "word_embedding = Embedding(VOCAB_SIZE, EMBED_SIZE, input_length= MAX_SEQUENCE_LENGTH)(input)\n",
        "\n",
        "#CNN Layer\n",
        "cnn = Conv1D(100, 6, activation='relu', name = \"CNN1D\")(word_embedding)\n",
        "                      \n",
        "#The second layer is the average layer\n",
        "average = GlobalAveragePooling1DMasked(name = \"MaxPool\")(cnn)\n",
        "\n",
        "#Sigmoid activation\n",
        "label= Dense(1, activation='sigmoid',name = \"Output\")(average)\n",
        "\n",
        "model4 = Model(inputs=[input], outputs=[label])  \n",
        "\n",
        "model4.summary()\n"
      ]
    },
    {
      "cell_type": "code",
      "execution_count": null,
      "metadata": {
        "colab": {
          "base_uri": "https://localhost:8080/"
        },
        "id": "-G5MrDPJFBzK",
        "outputId": "cc3c0e1f-2f84-41be-affc-e5eeff82dd7c"
      },
      "outputs": [
        {
          "output_type": "stream",
          "name": "stdout",
          "text": [
            "Epoch 1/40\n",
            "30/30 [==============================] - 60s 2s/step - loss: 0.6640 - accuracy: 0.6484 - val_loss: 0.5792 - val_accuracy: 0.7546\n",
            "Epoch 2/40\n",
            "30/30 [==============================] - 59s 2s/step - loss: 0.4338 - accuracy: 0.8325 - val_loss: 0.3501 - val_accuracy: 0.8596\n",
            "Epoch 3/40\n",
            "30/30 [==============================] - 59s 2s/step - loss: 0.2584 - accuracy: 0.9041 - val_loss: 0.2956 - val_accuracy: 0.8805\n",
            "Epoch 4/40\n",
            "30/30 [==============================] - 58s 2s/step - loss: 0.1844 - accuracy: 0.9350 - val_loss: 0.2919 - val_accuracy: 0.8843\n",
            "Epoch 5/40\n",
            "30/30 [==============================] - 59s 2s/step - loss: 0.1386 - accuracy: 0.9576 - val_loss: 0.3041 - val_accuracy: 0.8836\n",
            "Epoch 6/40\n",
            "30/30 [==============================] - 59s 2s/step - loss: 0.1084 - accuracy: 0.9685 - val_loss: 0.3243 - val_accuracy: 0.8811\n",
            "Epoch 7/40\n",
            "30/30 [==============================] - 59s 2s/step - loss: 0.0841 - accuracy: 0.9783 - val_loss: 0.3522 - val_accuracy: 0.8780\n",
            "Epoch 8/40\n",
            "30/30 [==============================] - 59s 2s/step - loss: 0.0651 - accuracy: 0.9853 - val_loss: 0.3817 - val_accuracy: 0.8750\n",
            "Epoch 9/40\n",
            "30/30 [==============================] - 59s 2s/step - loss: 0.0507 - accuracy: 0.9905 - val_loss: 0.4131 - val_accuracy: 0.8723\n",
            "Epoch 10/40\n",
            "30/30 [==============================] - 58s 2s/step - loss: 0.0402 - accuracy: 0.9931 - val_loss: 0.4481 - val_accuracy: 0.8699\n",
            "Epoch 11/40\n",
            "30/30 [==============================] - 59s 2s/step - loss: 0.0309 - accuracy: 0.9951 - val_loss: 0.4791 - val_accuracy: 0.8693\n",
            "Epoch 12/40\n",
            "30/30 [==============================] - 59s 2s/step - loss: 0.0239 - accuracy: 0.9969 - val_loss: 0.5108 - val_accuracy: 0.8705\n",
            "Epoch 13/40\n",
            "30/30 [==============================] - 59s 2s/step - loss: 0.0184 - accuracy: 0.9985 - val_loss: 0.5427 - val_accuracy: 0.8687\n",
            "Epoch 14/40\n",
            "30/30 [==============================] - 58s 2s/step - loss: 0.0152 - accuracy: 0.9992 - val_loss: 0.5717 - val_accuracy: 0.8669\n",
            "Epoch 15/40\n",
            "30/30 [==============================] - 59s 2s/step - loss: 0.0120 - accuracy: 0.9997 - val_loss: 0.5982 - val_accuracy: 0.8654\n",
            "Epoch 16/40\n",
            "30/30 [==============================] - 59s 2s/step - loss: 0.0100 - accuracy: 0.9997 - val_loss: 0.6268 - val_accuracy: 0.8655\n",
            "Epoch 17/40\n",
            "30/30 [==============================] - 59s 2s/step - loss: 0.0083 - accuracy: 0.9997 - val_loss: 0.6491 - val_accuracy: 0.8638\n",
            "Epoch 18/40\n",
            "30/30 [==============================] - 58s 2s/step - loss: 0.0069 - accuracy: 0.9998 - val_loss: 0.6733 - val_accuracy: 0.8634\n",
            "Epoch 19/40\n",
            "30/30 [==============================] - 59s 2s/step - loss: 0.0059 - accuracy: 0.9999 - val_loss: 0.6952 - val_accuracy: 0.8641\n",
            "Epoch 20/40\n",
            "30/30 [==============================] - 58s 2s/step - loss: 0.0052 - accuracy: 0.9999 - val_loss: 0.7184 - val_accuracy: 0.8616\n",
            "Epoch 21/40\n",
            "30/30 [==============================] - 58s 2s/step - loss: 0.0045 - accuracy: 0.9999 - val_loss: 0.7349 - val_accuracy: 0.8619\n",
            "Epoch 22/40\n",
            "30/30 [==============================] - 58s 2s/step - loss: 0.0039 - accuracy: 0.9999 - val_loss: 0.7533 - val_accuracy: 0.8616\n",
            "Epoch 23/40\n",
            "30/30 [==============================] - 58s 2s/step - loss: 0.0034 - accuracy: 0.9999 - val_loss: 0.7708 - val_accuracy: 0.8611\n",
            "Epoch 24/40\n",
            "30/30 [==============================] - 58s 2s/step - loss: 0.0030 - accuracy: 0.9999 - val_loss: 0.7877 - val_accuracy: 0.8613\n",
            "Epoch 25/40\n",
            "30/30 [==============================] - 58s 2s/step - loss: 0.0028 - accuracy: 0.9999 - val_loss: 0.8031 - val_accuracy: 0.8601\n",
            "Epoch 26/40\n",
            "30/30 [==============================] - 58s 2s/step - loss: 0.0025 - accuracy: 0.9999 - val_loss: 0.8183 - val_accuracy: 0.8608\n",
            "Epoch 27/40\n",
            "30/30 [==============================] - 57s 2s/step - loss: 0.0022 - accuracy: 0.9999 - val_loss: 0.8341 - val_accuracy: 0.8589\n",
            "Epoch 28/40\n",
            "30/30 [==============================] - 57s 2s/step - loss: 0.0020 - accuracy: 0.9999 - val_loss: 0.8470 - val_accuracy: 0.8602\n",
            "Epoch 29/40\n",
            "30/30 [==============================] - 57s 2s/step - loss: 0.0018 - accuracy: 0.9999 - val_loss: 0.8606 - val_accuracy: 0.8596\n",
            "Epoch 30/40\n",
            "30/30 [==============================] - 60s 2s/step - loss: 0.0017 - accuracy: 1.0000 - val_loss: 0.8736 - val_accuracy: 0.8597\n",
            "Epoch 31/40\n",
            "30/30 [==============================] - 64s 2s/step - loss: 0.0015 - accuracy: 1.0000 - val_loss: 0.8859 - val_accuracy: 0.8592\n",
            "Epoch 32/40\n",
            "30/30 [==============================] - 59s 2s/step - loss: 0.0014 - accuracy: 1.0000 - val_loss: 0.8986 - val_accuracy: 0.8581\n",
            "Epoch 33/40\n",
            "30/30 [==============================] - 58s 2s/step - loss: 0.0013 - accuracy: 1.0000 - val_loss: 0.9107 - val_accuracy: 0.8575\n",
            "Epoch 34/40\n",
            "30/30 [==============================] - 57s 2s/step - loss: 0.0012 - accuracy: 1.0000 - val_loss: 0.9220 - val_accuracy: 0.8576\n",
            "Epoch 35/40\n",
            "30/30 [==============================] - 57s 2s/step - loss: 0.0011 - accuracy: 1.0000 - val_loss: 0.9338 - val_accuracy: 0.8572\n",
            "Epoch 36/40\n",
            "30/30 [==============================] - 57s 2s/step - loss: 0.0011 - accuracy: 1.0000 - val_loss: 0.9433 - val_accuracy: 0.8578\n",
            "Epoch 37/40\n",
            "30/30 [==============================] - 57s 2s/step - loss: 9.8466e-04 - accuracy: 1.0000 - val_loss: 0.9551 - val_accuracy: 0.8568\n",
            "Epoch 38/40\n",
            "30/30 [==============================] - 57s 2s/step - loss: 9.2152e-04 - accuracy: 1.0000 - val_loss: 0.9641 - val_accuracy: 0.8567\n",
            "Epoch 39/40\n",
            "30/30 [==============================] - 57s 2s/step - loss: 8.6145e-04 - accuracy: 1.0000 - val_loss: 0.9743 - val_accuracy: 0.8564\n",
            "Epoch 40/40\n",
            "30/30 [==============================] - 57s 2s/step - loss: 8.1073e-04 - accuracy: 1.0000 - val_loss: 0.9843 - val_accuracy: 0.8561\n"
          ]
        }
      ],
      "source": [
        "# Train and test the model\n",
        "\n",
        "# your code goes here\n",
        "\n",
        "#compile\n",
        "model4.compile(loss=\"binary_crossentropy\", optimizer=\"adam\",metrics=[\"accuracy\"])\n",
        "\n",
        "# Train and test the model\n",
        "X_val = np.array(X_train_enc[:10000])\n",
        "partial_X_train = np.array(X_train_enc[10000:])\n",
        "\n",
        "y_val = np.array(y_train[:10000])\n",
        "partial_y_train = np.array(y_train[10000:])\n",
        "\n",
        "#Training\n",
        "\n",
        "history4 = model4.fit(partial_X_train,\n",
        "                    partial_y_train,\n",
        "                    epochs=40,\n",
        "                    batch_size=512,\n",
        "                    validation_data=(X_val, y_val),\n",
        "                    verbose=1)"
      ]
    },
    {
      "cell_type": "code",
      "execution_count": null,
      "metadata": {
        "colab": {
          "base_uri": "https://localhost:8080/"
        },
        "id": "KoegkpIsgsJi",
        "outputId": "36d4dd9b-4f8b-4b22-a58a-de2d85972789"
      },
      "outputs": [
        {
          "output_type": "stream",
          "name": "stdout",
          "text": [
            "782/782 [==============================] - 25s 32ms/step - loss: 1.0554 - accuracy: 0.8423\n",
            "[1.0553672313690186, 0.8422799706459045]\n"
          ]
        }
      ],
      "source": [
        "results = model4.evaluate(X_test_enc, y_test)\n",
        "\n",
        "print(results)"
      ]
    },
    {
      "cell_type": "code",
      "execution_count": null,
      "metadata": {
        "colab": {
          "base_uri": "https://localhost:8080/",
          "height": 336
        },
        "id": "8nvkxunysjhr",
        "outputId": "5ca88142-a2d5-45d3-b44e-fa9d0014daab"
      },
      "outputs": [
        {
          "output_type": "display_data",
          "data": {
            "text/plain": [
              "<Figure size 864x360 with 2 Axes>"
            ],
            "image/png": "[encoded data removed]"
          },
          "metadata": {
            "needs_background": "light"
          }
        }
      ],
      "source": [
        "# your code goes here\n",
        "acc = history4.history['accuracy']\n",
        "val_acc = history4.history['val_accuracy']\n",
        "loss = history4.history['loss']\n",
        "val_loss = history4.history['val_loss']\n",
        "x = range(1, len(acc) + 1)\n",
        "\n",
        "plt.figure(figsize=(12, 5))\n",
        "plt.subplot(1, 2, 1)\n",
        "plt.plot(x, acc, 'b', label='Training accuracy')\n",
        "plt.plot(x, val_acc, 'r', label='Validation accuracy')\n",
        "plt.title('Training and validation accuracy')\n",
        "plt.legend()\n",
        "plt.subplot(1, 2, 2)\n",
        "plt.plot(x, loss, 'b', label='Training loss')\n",
        "plt.plot(x, val_loss, 'r', label='Validation loss')\n",
        "plt.title('Training and validation loss')\n",
        "plt.legend()\n",
        "\n",
        "plt.show()"
      ]
    },
    {
      "cell_type": "markdown",
      "metadata": {
        "id": "XkQMLxw-wWG6"
      },
      "source": [
        "## Model 5-2: Adding extra convolutional layer"
      ]
    },
    {
      "cell_type": "code",
      "execution_count": null,
      "metadata": {
        "colab": {
          "base_uri": "https://localhost:8080/"
        },
        "id": "7nvF662HOoqg",
        "outputId": "1c53d124-7d68-4d6c-e0a6-b8533363a2d7"
      },
      "outputs": [
        {
          "output_type": "stream",
          "name": "stdout",
          "text": [
            "Model: \"model_11\"\n",
            "_________________________________________________________________\n",
            " Layer (type)                Output Shape              Param #   \n",
            "=================================================================\n",
            " input_1 (InputLayer)        [(None, 256)]             0         \n",
            "                                                                 \n",
            " embedding_1 (Embedding)     (None, 256, 300)          3000000   \n",
            "                                                                 \n",
            " CNN1D (Conv1D)              (None, 251, 100)          180100    \n",
            "                                                                 \n",
            " CNN1D2 (Conv1D)             (None, 246, 100)          60100     \n",
            "                                                                 \n",
            " MaxPool (GlobalAveragePooli  (None, 100)              0         \n",
            " ng1DMasked)                                                     \n",
            "                                                                 \n",
            " Output (Dense)              (None, 1)                 101       \n",
            "                                                                 \n",
            "=================================================================\n",
            "Total params: 3,240,301\n",
            "Trainable params: 3,240,301\n",
            "Non-trainable params: 0\n",
            "_________________________________________________________________\n"
          ]
        }
      ],
      "source": [
        "# your code goes here\n",
        "\n",
        "EMBED_SIZE = 300\n",
        "\n",
        "# your code goes here\n",
        "from keras.layers import Conv1D\n",
        "\n",
        "#Embedding layer\n",
        "word_embedding = Embedding(VOCAB_SIZE, EMBED_SIZE, input_length= MAX_SEQUENCE_LENGTH)(input)\n",
        "\n",
        "#CNN Layer\n",
        "cnn = Conv1D(100, 6, activation='relu', name = \"CNN1D\")(word_embedding)\n",
        "\n",
        "#CNN Layer 2\n",
        "cnn2 = Conv1D(100, 6, activation='relu', name = \"CNN1D2\")(cnn)\n",
        "                      \n",
        "#The second layer is the average layer\n",
        "average = GlobalAveragePooling1DMasked(name = \"MaxPool\")(cnn2)\n",
        "\n",
        "#Sigmoid activation\n",
        "label= Dense(1, activation='sigmoid',name = \"Output\")(average)\n",
        "\n",
        "model6 = Model(inputs=[input], outputs=[label])  \n",
        "\n",
        "model6.summary()"
      ]
    },
    {
      "cell_type": "code",
      "execution_count": null,
      "metadata": {
        "colab": {
          "base_uri": "https://localhost:8080/"
        },
        "id": "hx8JLl4xPlua",
        "outputId": "0d2418c6-ffa3-4d27-ee7c-7271aa57edf6"
      },
      "outputs": [
        {
          "output_type": "stream",
          "name": "stdout",
          "text": [
            "Epoch 1/40\n",
            "30/30 [==============================] - 75s 2s/step - loss: 0.6371 - accuracy: 0.6307 - val_loss: 0.4543 - val_accuracy: 0.7977\n",
            "Epoch 2/40\n",
            "30/30 [==============================] - 73s 2s/step - loss: 0.3197 - accuracy: 0.8703 - val_loss: 0.3119 - val_accuracy: 0.8733\n",
            "Epoch 3/40\n",
            "30/30 [==============================] - 74s 2s/step - loss: 0.1783 - accuracy: 0.9337 - val_loss: 0.3204 - val_accuracy: 0.8795\n",
            "Epoch 4/40\n",
            "30/30 [==============================] - 73s 2s/step - loss: 0.1129 - accuracy: 0.9614 - val_loss: 0.3942 - val_accuracy: 0.8721\n",
            "Epoch 5/40\n",
            "30/30 [==============================] - 73s 2s/step - loss: 0.0759 - accuracy: 0.9760 - val_loss: 0.4594 - val_accuracy: 0.8691\n",
            "Epoch 6/40\n",
            "30/30 [==============================] - 73s 2s/step - loss: 0.0441 - accuracy: 0.9882 - val_loss: 0.5272 - val_accuracy: 0.8660\n",
            "Epoch 7/40\n",
            "30/30 [==============================] - 73s 2s/step - loss: 0.0230 - accuracy: 0.9958 - val_loss: 0.6265 - val_accuracy: 0.8630\n",
            "Epoch 8/40\n",
            "30/30 [==============================] - 73s 2s/step - loss: 0.0119 - accuracy: 0.9985 - val_loss: 0.7113 - val_accuracy: 0.8631\n",
            "Epoch 9/40\n",
            "30/30 [==============================] - 73s 2s/step - loss: 0.0070 - accuracy: 0.9995 - val_loss: 0.7833 - val_accuracy: 0.8638\n",
            "Epoch 10/40\n",
            "30/30 [==============================] - 73s 2s/step - loss: 0.0040 - accuracy: 0.9997 - val_loss: 0.8450 - val_accuracy: 0.8625\n",
            "Epoch 11/40\n",
            "30/30 [==============================] - 75s 3s/step - loss: 0.0027 - accuracy: 0.9999 - val_loss: 0.8935 - val_accuracy: 0.8617\n",
            "Epoch 12/40\n",
            "30/30 [==============================] - 74s 2s/step - loss: 0.0020 - accuracy: 0.9999 - val_loss: 0.9359 - val_accuracy: 0.8627\n",
            "Epoch 13/40\n",
            "30/30 [==============================] - 74s 2s/step - loss: 0.0015 - accuracy: 0.9999 - val_loss: 0.9711 - val_accuracy: 0.8616\n",
            "Epoch 14/40\n",
            "30/30 [==============================] - 74s 2s/step - loss: 0.0012 - accuracy: 0.9999 - val_loss: 1.0040 - val_accuracy: 0.8623\n",
            "Epoch 15/40\n",
            "30/30 [==============================] - 74s 2s/step - loss: 9.8408e-04 - accuracy: 0.9999 - val_loss: 1.0342 - val_accuracy: 0.8620\n",
            "Epoch 16/40\n",
            "30/30 [==============================] - 74s 2s/step - loss: 8.2067e-04 - accuracy: 0.9999 - val_loss: 1.0622 - val_accuracy: 0.8622\n",
            "Epoch 17/40\n",
            "30/30 [==============================] - 74s 2s/step - loss: 6.8753e-04 - accuracy: 0.9999 - val_loss: 1.0887 - val_accuracy: 0.8613\n",
            "Epoch 18/40\n",
            "30/30 [==============================] - 73s 2s/step - loss: 5.7481e-04 - accuracy: 1.0000 - val_loss: 1.1136 - val_accuracy: 0.8607\n",
            "Epoch 19/40\n",
            "30/30 [==============================] - 73s 2s/step - loss: 4.9456e-04 - accuracy: 1.0000 - val_loss: 1.1356 - val_accuracy: 0.8611\n",
            "Epoch 20/40\n",
            "30/30 [==============================] - 73s 2s/step - loss: 4.2866e-04 - accuracy: 1.0000 - val_loss: 1.1564 - val_accuracy: 0.8607\n",
            "Epoch 21/40\n",
            "30/30 [==============================] - 73s 2s/step - loss: 3.7506e-04 - accuracy: 1.0000 - val_loss: 1.1768 - val_accuracy: 0.8598\n",
            "Epoch 22/40\n",
            "30/30 [==============================] - 74s 2s/step - loss: 3.2935e-04 - accuracy: 1.0000 - val_loss: 1.1950 - val_accuracy: 0.8598\n",
            "Epoch 23/40\n",
            "30/30 [==============================] - 74s 2s/step - loss: 2.9462e-04 - accuracy: 1.0000 - val_loss: 1.2122 - val_accuracy: 0.8603\n",
            "Epoch 24/40\n",
            "30/30 [==============================] - 75s 3s/step - loss: 2.6270e-04 - accuracy: 1.0000 - val_loss: 1.2295 - val_accuracy: 0.8591\n",
            "Epoch 25/40\n",
            "30/30 [==============================] - 74s 2s/step - loss: 2.3750e-04 - accuracy: 1.0000 - val_loss: 1.2463 - val_accuracy: 0.8591\n",
            "Epoch 26/40\n",
            "30/30 [==============================] - 74s 2s/step - loss: 2.1515e-04 - accuracy: 1.0000 - val_loss: 1.2612 - val_accuracy: 0.8587\n",
            "Epoch 27/40\n",
            "30/30 [==============================] - 74s 2s/step - loss: 1.9513e-04 - accuracy: 1.0000 - val_loss: 1.2769 - val_accuracy: 0.8586\n",
            "Epoch 28/40\n",
            "30/30 [==============================] - 75s 3s/step - loss: 1.7756e-04 - accuracy: 1.0000 - val_loss: 1.2913 - val_accuracy: 0.8587\n",
            "Epoch 29/40\n",
            "30/30 [==============================] - 74s 2s/step - loss: 1.6331e-04 - accuracy: 1.0000 - val_loss: 1.3049 - val_accuracy: 0.8586\n",
            "Epoch 30/40\n",
            "30/30 [==============================] - 74s 2s/step - loss: 1.4981e-04 - accuracy: 1.0000 - val_loss: 1.3180 - val_accuracy: 0.8584\n",
            "Epoch 31/40\n",
            "30/30 [==============================] - 76s 3s/step - loss: 1.3861e-04 - accuracy: 1.0000 - val_loss: 1.3315 - val_accuracy: 0.8582\n",
            "Epoch 32/40\n",
            "30/30 [==============================] - 73s 2s/step - loss: 1.2822e-04 - accuracy: 1.0000 - val_loss: 1.3438 - val_accuracy: 0.8583\n",
            "Epoch 33/40\n",
            "30/30 [==============================] - 73s 2s/step - loss: 1.1876e-04 - accuracy: 1.0000 - val_loss: 1.3556 - val_accuracy: 0.8576\n",
            "Epoch 34/40\n",
            "30/30 [==============================] - 74s 2s/step - loss: 1.1033e-04 - accuracy: 1.0000 - val_loss: 1.3674 - val_accuracy: 0.8577\n",
            "Epoch 35/40\n",
            "30/30 [==============================] - 73s 2s/step - loss: 1.0275e-04 - accuracy: 1.0000 - val_loss: 1.3798 - val_accuracy: 0.8583\n",
            "Epoch 36/40\n",
            "30/30 [==============================] - 73s 2s/step - loss: 9.6633e-05 - accuracy: 1.0000 - val_loss: 1.3905 - val_accuracy: 0.8581\n",
            "Epoch 37/40\n",
            "30/30 [==============================] - 74s 2s/step - loss: 9.0073e-05 - accuracy: 1.0000 - val_loss: 1.4005 - val_accuracy: 0.8574\n",
            "Epoch 38/40\n",
            "30/30 [==============================] - 73s 2s/step - loss: 8.4195e-05 - accuracy: 1.0000 - val_loss: 1.4110 - val_accuracy: 0.8577\n",
            "Epoch 39/40\n",
            "30/30 [==============================] - 74s 2s/step - loss: 7.9020e-05 - accuracy: 1.0000 - val_loss: 1.4221 - val_accuracy: 0.8584\n",
            "Epoch 40/40\n",
            "30/30 [==============================] - 73s 2s/step - loss: 7.4552e-05 - accuracy: 1.0000 - val_loss: 1.4324 - val_accuracy: 0.8582\n"
          ]
        }
      ],
      "source": [
        "# Train and test the model\n",
        "\n",
        "# your code goes here\n",
        "\n",
        "#compile\n",
        "model6.compile(loss=\"binary_crossentropy\", optimizer=\"adam\",metrics=[\"accuracy\"])\n",
        "\n",
        "# Train and test the model\n",
        "X_val = np.array(X_train_enc[:10000])\n",
        "partial_X_train = np.array(X_train_enc[10000:])\n",
        "\n",
        "y_val = np.array(y_train[:10000])\n",
        "partial_y_train = np.array(y_train[10000:])\n",
        "\n",
        "#Training\n",
        "\n",
        "history6 = model6.fit(partial_X_train,\n",
        "                    partial_y_train,\n",
        "                    epochs=40,\n",
        "                    batch_size=512,\n",
        "                    validation_data=(X_val, y_val),\n",
        "                    verbose=1)"
      ]
    },
    {
      "cell_type": "code",
      "execution_count": null,
      "metadata": {
        "colab": {
          "base_uri": "https://localhost:8080/"
        },
        "id": "olPydEp-kCbC",
        "outputId": "f48e1129-b35c-43b1-ad71-84bed44f4831"
      },
      "outputs": [
        {
          "output_type": "stream",
          "name": "stdout",
          "text": [
            "782/782 [==============================] - 32s 41ms/step - loss: 1.5485 - accuracy: 0.8426\n",
            "[1.548505187034607, 0.8426399827003479]\n"
          ]
        }
      ],
      "source": [
        "results = model6.evaluate(X_test_enc, y_test)\n",
        "\n",
        "print(results)"
      ]
    },
    {
      "cell_type": "code",
      "execution_count": null,
      "metadata": {
        "colab": {
          "base_uri": "https://localhost:8080/",
          "height": 336
        },
        "id": "T2-fqNHiRRIe",
        "outputId": "a1a53f7b-847d-49aa-aefa-87ac57d246bc"
      },
      "outputs": [
        {
          "output_type": "display_data",
          "data": {
            "text/plain": [
              "<Figure size 864x360 with 2 Axes>"
            ],
            "image/png": "[encoded data removed]"
          },
          "metadata": {
            "needs_background": "light"
          }
        }
      ],
      "source": [
        "#Plotting Training/validation accuracy and loss\n",
        "\n",
        "acc = history6.history['accuracy']\n",
        "val_acc = history6.history['val_accuracy']\n",
        "loss = history6.history['loss']\n",
        "val_loss = history6.history['val_loss']\n",
        "x = range(1, len(acc) + 1)\n",
        "\n",
        "plt.figure(figsize=(12, 5))\n",
        "plt.subplot(1, 2, 1)\n",
        "plt.plot(x, acc, 'b', label='Training accuracy')\n",
        "plt.plot(x, val_acc, 'r', label='Validation accuracy')\n",
        "plt.title('Training and validation accuracy')\n",
        "plt.legend()\n",
        "plt.subplot(1, 2, 2)\n",
        "plt.plot(x, loss, 'b', label='Training loss')\n",
        "plt.plot(x, val_loss, 'r', label='Validation loss')\n",
        "plt.title('Training and validation loss')\n",
        "plt.legend()\n",
        "\n",
        "plt.show()\n"
      ]
    },
    {
      "cell_type": "markdown",
      "metadata": {
        "id": "Kx--Ytk3ZbLo"
      },
      "source": [
        "Although adding layer here reduces the training loss, the evaluation accuracy is worse than the model without the extra convolutional layer.\n",
        "\n",
        "Adding more layers can help you to extract more features. But we can do that up to a certain extent. After some point, instead of extracting features, we tend to overfit the data. Overfitting can lead to errors in on form or another, such as false positives. It is not easy to choose the number of units in a hidden layer or the number of hidden layers in a neural network. For many applications, one hidden layer is enough. As a general rule, the number of units in that hidden layer is between the number of inputs and the number of outputs.\n",
        " The best way to decide on the number of units and hidden layers is to try various parameters. Train several neural networks with different numbers of hidden layers and neurons, and monitor the performance of them. You will have to experiment using a series of different architectures. \n",
        "\n",
        "\n",
        "\n"
      ]
    },
    {
      "cell_type": "markdown",
      "metadata": {
        "id": "gn2GSV4ioyO2"
      },
      "source": [
        "\n",
        "\n",
        "---\n",
        "\n"
      ]
    }
  ],
  "metadata": {
    "accelerator": "GPU",
    "colab": {
      "collapsed_sections": [
        "7GdY2-64YG1B"
      ],
      "machine_shape": "hm",
      "name": "Lab3.ipynb",
      "provenance": []
    },
    "kernelspec": {
      "display_name": "Python 3",
      "language": "python",
      "name": "python3"
    },
    "language_info": {
      "codemirror_mode": {
        "name": "ipython",
        "version": 3
      },
      "file_extension": ".py",
      "mimetype": "text/x-python",
      "name": "python",
      "nbconvert_exporter": "python",
      "pygments_lexer": "ipython3",
      "version": "3.8.3"
    }
  },
  "nbformat": 4,
  "nbformat_minor": 0
}